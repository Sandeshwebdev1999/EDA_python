{
  "cells": [
    {
      "cell_type": "markdown",
      "metadata": {
        "id": "view-in-github",
        "colab_type": "text"
      },
      "source": [
        "<a href=\"https://colab.research.google.com/github/Sandeshwebdev1999/EDA_python/blob/main/check.ipynb\" target=\"_parent\"><img src=\"https://colab.research.google.com/assets/colab-badge.svg\" alt=\"Open In Colab\"/></a>"
      ]
    },
    {
      "cell_type": "markdown",
      "source": [
        "##**Project Name**  -  **Play Store Data Analysis**"
      ],
      "metadata": {
        "id": "Qe0u73j4qitg"
      }
    },
    {
      "cell_type": "markdown",
      "source": [
        "##### **Project Type**    - EDA"
      ],
      "metadata": {
        "id": "jDYl-C23qrpP"
      }
    },
    {
      "cell_type": "markdown",
      "source": [
        "##### **Contribution**    - Individual\n",
        "##Student Name : **Sandesh Ingle**"
      ],
      "metadata": {
        "id": "lw5Jl-AXquNe"
      }
    },
    {
      "cell_type": "markdown",
      "source": [
        "#### **Define Your Business Objective?**"
      ],
      "metadata": {
        "id": "-8GbAgq3xqCl"
      }
    },
    {
      "cell_type": "markdown",
      "source": [
        "#### **Business Objective :**\n",
        "\n",
        "Based on the DataFrame information, the objective of this data is to be analyzing and understanding the characteristics of mobile applications (apps) on a platform Play Store.\n",
        "\n",
        "**Potential objectives:**\n",
        "\n",
        "1. App performance analysis: Investigate relationships between app ratings, reviews, and installs.\n",
        "\n",
        "2. Market research: Examine app categories, genres, and content ratings to identify trends.\n",
        "\n",
        "3. Pricing strategy: Analyze the impact of pricing on app installs and revenue.\n",
        "\n",
        "4. Competition analysis: Compare app features, ratings, and installs across categories.\n",
        "\n",
        "\n",
        "**Some potential questions answer we get:**\n",
        "\n",
        "1. Which app categories have the highest ratings and installs?\n",
        "\n",
        "2. How does pricing affect app installs and revenue?\n",
        "\n",
        "3. How do user reviews impact app ratings and installs?\n",
        "\n",
        "4. Which genres have the most apps and installs?\n"
      ],
      "metadata": {
        "id": "n351HijogT0m"
      }
    },
    {
      "cell_type": "markdown",
      "source": [
        "# **GitHub Link -**\n",
        "\n",
        "https://github.com/Sandeshwebdev1999/EDA_python/blob/main/check.ipynb"
      ],
      "metadata": {
        "id": "OzvvMotWhRCc"
      }
    },
    {
      "cell_type": "markdown",
      "source": [
        "### Import Libraries"
      ],
      "metadata": {
        "id": "XbNWeEfMq-7v"
      }
    },
    {
      "cell_type": "code",
      "source": [
        "import pandas as pd\n",
        "import numpy as np\n",
        "import matplotlib.pyplot as plt\n",
        "import seaborn as sns\n",
        "import plotly.express as px\n",
        "import warnings\n",
        "warnings.filterwarnings('ignore')"
      ],
      "metadata": {
        "id": "RYRvBPax4Zvk"
      },
      "execution_count": 106,
      "outputs": []
    },
    {
      "cell_type": "markdown",
      "source": [
        "\n",
        "### Dataset Loading"
      ],
      "metadata": {
        "id": "aqanCejorNjk"
      }
    },
    {
      "cell_type": "code",
      "source": [
        "path = '/content/drive/MyDrive/Play Store Data.csv'\n",
        "df = pd.read_csv(path)\n",
        "df.head()"
      ],
      "metadata": {
        "colab": {
          "base_uri": "https://localhost:8080/",
          "height": 397
        },
        "id": "8ermhUOE4ksy",
        "outputId": "4292e724-ffa1-42da-936d-ff770980a3eb"
      },
      "execution_count": 107,
      "outputs": [
        {
          "output_type": "execute_result",
          "data": {
            "text/plain": [
              "                                                 App        Category  Rating  \\\n",
              "0     Photo Editor & Candy Camera & Grid & ScrapBook  ART_AND_DESIGN     4.1   \n",
              "1                                Coloring book moana  ART_AND_DESIGN     3.9   \n",
              "2  U Launcher Lite – FREE Live Cool Themes, Hide ...  ART_AND_DESIGN     4.7   \n",
              "3                              Sketch - Draw & Paint  ART_AND_DESIGN     4.5   \n",
              "4              Pixel Draw - Number Art Coloring Book  ART_AND_DESIGN     4.3   \n",
              "\n",
              "  Reviews  Size     Installs  Type Price Content Rating  \\\n",
              "0     159   19M      10,000+  Free     0       Everyone   \n",
              "1     967   14M     500,000+  Free     0       Everyone   \n",
              "2   87510  8.7M   5,000,000+  Free     0       Everyone   \n",
              "3  215644   25M  50,000,000+  Free     0           Teen   \n",
              "4     967  2.8M     100,000+  Free     0       Everyone   \n",
              "\n",
              "                      Genres      Last Updated         Current Ver  \\\n",
              "0               Art & Design   January 7, 2018               1.0.0   \n",
              "1  Art & Design;Pretend Play  January 15, 2018               2.0.0   \n",
              "2               Art & Design    August 1, 2018               1.2.4   \n",
              "3               Art & Design      June 8, 2018  Varies with device   \n",
              "4    Art & Design;Creativity     June 20, 2018                 1.1   \n",
              "\n",
              "    Android Ver  \n",
              "0  4.0.3 and up  \n",
              "1  4.0.3 and up  \n",
              "2  4.0.3 and up  \n",
              "3    4.2 and up  \n",
              "4    4.4 and up  "
            ],
            "text/html": [
              "\n",
              "  <div id=\"df-dab1149b-beec-43fd-a701-84c274c8075f\" class=\"colab-df-container\">\n",
              "    <div>\n",
              "<style scoped>\n",
              "    .dataframe tbody tr th:only-of-type {\n",
              "        vertical-align: middle;\n",
              "    }\n",
              "\n",
              "    .dataframe tbody tr th {\n",
              "        vertical-align: top;\n",
              "    }\n",
              "\n",
              "    .dataframe thead th {\n",
              "        text-align: right;\n",
              "    }\n",
              "</style>\n",
              "<table border=\"1\" class=\"dataframe\">\n",
              "  <thead>\n",
              "    <tr style=\"text-align: right;\">\n",
              "      <th></th>\n",
              "      <th>App</th>\n",
              "      <th>Category</th>\n",
              "      <th>Rating</th>\n",
              "      <th>Reviews</th>\n",
              "      <th>Size</th>\n",
              "      <th>Installs</th>\n",
              "      <th>Type</th>\n",
              "      <th>Price</th>\n",
              "      <th>Content Rating</th>\n",
              "      <th>Genres</th>\n",
              "      <th>Last Updated</th>\n",
              "      <th>Current Ver</th>\n",
              "      <th>Android Ver</th>\n",
              "    </tr>\n",
              "  </thead>\n",
              "  <tbody>\n",
              "    <tr>\n",
              "      <th>0</th>\n",
              "      <td>Photo Editor &amp; Candy Camera &amp; Grid &amp; ScrapBook</td>\n",
              "      <td>ART_AND_DESIGN</td>\n",
              "      <td>4.1</td>\n",
              "      <td>159</td>\n",
              "      <td>19M</td>\n",
              "      <td>10,000+</td>\n",
              "      <td>Free</td>\n",
              "      <td>0</td>\n",
              "      <td>Everyone</td>\n",
              "      <td>Art &amp; Design</td>\n",
              "      <td>January 7, 2018</td>\n",
              "      <td>1.0.0</td>\n",
              "      <td>4.0.3 and up</td>\n",
              "    </tr>\n",
              "    <tr>\n",
              "      <th>1</th>\n",
              "      <td>Coloring book moana</td>\n",
              "      <td>ART_AND_DESIGN</td>\n",
              "      <td>3.9</td>\n",
              "      <td>967</td>\n",
              "      <td>14M</td>\n",
              "      <td>500,000+</td>\n",
              "      <td>Free</td>\n",
              "      <td>0</td>\n",
              "      <td>Everyone</td>\n",
              "      <td>Art &amp; Design;Pretend Play</td>\n",
              "      <td>January 15, 2018</td>\n",
              "      <td>2.0.0</td>\n",
              "      <td>4.0.3 and up</td>\n",
              "    </tr>\n",
              "    <tr>\n",
              "      <th>2</th>\n",
              "      <td>U Launcher Lite – FREE Live Cool Themes, Hide ...</td>\n",
              "      <td>ART_AND_DESIGN</td>\n",
              "      <td>4.7</td>\n",
              "      <td>87510</td>\n",
              "      <td>8.7M</td>\n",
              "      <td>5,000,000+</td>\n",
              "      <td>Free</td>\n",
              "      <td>0</td>\n",
              "      <td>Everyone</td>\n",
              "      <td>Art &amp; Design</td>\n",
              "      <td>August 1, 2018</td>\n",
              "      <td>1.2.4</td>\n",
              "      <td>4.0.3 and up</td>\n",
              "    </tr>\n",
              "    <tr>\n",
              "      <th>3</th>\n",
              "      <td>Sketch - Draw &amp; Paint</td>\n",
              "      <td>ART_AND_DESIGN</td>\n",
              "      <td>4.5</td>\n",
              "      <td>215644</td>\n",
              "      <td>25M</td>\n",
              "      <td>50,000,000+</td>\n",
              "      <td>Free</td>\n",
              "      <td>0</td>\n",
              "      <td>Teen</td>\n",
              "      <td>Art &amp; Design</td>\n",
              "      <td>June 8, 2018</td>\n",
              "      <td>Varies with device</td>\n",
              "      <td>4.2 and up</td>\n",
              "    </tr>\n",
              "    <tr>\n",
              "      <th>4</th>\n",
              "      <td>Pixel Draw - Number Art Coloring Book</td>\n",
              "      <td>ART_AND_DESIGN</td>\n",
              "      <td>4.3</td>\n",
              "      <td>967</td>\n",
              "      <td>2.8M</td>\n",
              "      <td>100,000+</td>\n",
              "      <td>Free</td>\n",
              "      <td>0</td>\n",
              "      <td>Everyone</td>\n",
              "      <td>Art &amp; Design;Creativity</td>\n",
              "      <td>June 20, 2018</td>\n",
              "      <td>1.1</td>\n",
              "      <td>4.4 and up</td>\n",
              "    </tr>\n",
              "  </tbody>\n",
              "</table>\n",
              "</div>\n",
              "    <div class=\"colab-df-buttons\">\n",
              "\n",
              "  <div class=\"colab-df-container\">\n",
              "    <button class=\"colab-df-convert\" onclick=\"convertToInteractive('df-dab1149b-beec-43fd-a701-84c274c8075f')\"\n",
              "            title=\"Convert this dataframe to an interactive table.\"\n",
              "            style=\"display:none;\">\n",
              "\n",
              "  <svg xmlns=\"http://www.w3.org/2000/svg\" height=\"24px\" viewBox=\"0 -960 960 960\">\n",
              "    <path d=\"M120-120v-720h720v720H120Zm60-500h600v-160H180v160Zm220 220h160v-160H400v160Zm0 220h160v-160H400v160ZM180-400h160v-160H180v160Zm440 0h160v-160H620v160ZM180-180h160v-160H180v160Zm440 0h160v-160H620v160Z\"/>\n",
              "  </svg>\n",
              "    </button>\n",
              "\n",
              "  <style>\n",
              "    .colab-df-container {\n",
              "      display:flex;\n",
              "      gap: 12px;\n",
              "    }\n",
              "\n",
              "    .colab-df-convert {\n",
              "      background-color: #E8F0FE;\n",
              "      border: none;\n",
              "      border-radius: 50%;\n",
              "      cursor: pointer;\n",
              "      display: none;\n",
              "      fill: #1967D2;\n",
              "      height: 32px;\n",
              "      padding: 0 0 0 0;\n",
              "      width: 32px;\n",
              "    }\n",
              "\n",
              "    .colab-df-convert:hover {\n",
              "      background-color: #E2EBFA;\n",
              "      box-shadow: 0px 1px 2px rgba(60, 64, 67, 0.3), 0px 1px 3px 1px rgba(60, 64, 67, 0.15);\n",
              "      fill: #174EA6;\n",
              "    }\n",
              "\n",
              "    .colab-df-buttons div {\n",
              "      margin-bottom: 4px;\n",
              "    }\n",
              "\n",
              "    [theme=dark] .colab-df-convert {\n",
              "      background-color: #3B4455;\n",
              "      fill: #D2E3FC;\n",
              "    }\n",
              "\n",
              "    [theme=dark] .colab-df-convert:hover {\n",
              "      background-color: #434B5C;\n",
              "      box-shadow: 0px 1px 3px 1px rgba(0, 0, 0, 0.15);\n",
              "      filter: drop-shadow(0px 1px 2px rgba(0, 0, 0, 0.3));\n",
              "      fill: #FFFFFF;\n",
              "    }\n",
              "  </style>\n",
              "\n",
              "    <script>\n",
              "      const buttonEl =\n",
              "        document.querySelector('#df-dab1149b-beec-43fd-a701-84c274c8075f button.colab-df-convert');\n",
              "      buttonEl.style.display =\n",
              "        google.colab.kernel.accessAllowed ? 'block' : 'none';\n",
              "\n",
              "      async function convertToInteractive(key) {\n",
              "        const element = document.querySelector('#df-dab1149b-beec-43fd-a701-84c274c8075f');\n",
              "        const dataTable =\n",
              "          await google.colab.kernel.invokeFunction('convertToInteractive',\n",
              "                                                    [key], {});\n",
              "        if (!dataTable) return;\n",
              "\n",
              "        const docLinkHtml = 'Like what you see? Visit the ' +\n",
              "          '<a target=\"_blank\" href=https://colab.research.google.com/notebooks/data_table.ipynb>data table notebook</a>'\n",
              "          + ' to learn more about interactive tables.';\n",
              "        element.innerHTML = '';\n",
              "        dataTable['output_type'] = 'display_data';\n",
              "        await google.colab.output.renderOutput(dataTable, element);\n",
              "        const docLink = document.createElement('div');\n",
              "        docLink.innerHTML = docLinkHtml;\n",
              "        element.appendChild(docLink);\n",
              "      }\n",
              "    </script>\n",
              "  </div>\n",
              "\n",
              "\n",
              "<div id=\"df-8cb0602e-ebda-4dca-bd87-41ddea60e7f1\">\n",
              "  <button class=\"colab-df-quickchart\" onclick=\"quickchart('df-8cb0602e-ebda-4dca-bd87-41ddea60e7f1')\"\n",
              "            title=\"Suggest charts\"\n",
              "            style=\"display:none;\">\n",
              "\n",
              "<svg xmlns=\"http://www.w3.org/2000/svg\" height=\"24px\"viewBox=\"0 0 24 24\"\n",
              "     width=\"24px\">\n",
              "    <g>\n",
              "        <path d=\"M19 3H5c-1.1 0-2 .9-2 2v14c0 1.1.9 2 2 2h14c1.1 0 2-.9 2-2V5c0-1.1-.9-2-2-2zM9 17H7v-7h2v7zm4 0h-2V7h2v10zm4 0h-2v-4h2v4z\"/>\n",
              "    </g>\n",
              "</svg>\n",
              "  </button>\n",
              "\n",
              "<style>\n",
              "  .colab-df-quickchart {\n",
              "      --bg-color: #E8F0FE;\n",
              "      --fill-color: #1967D2;\n",
              "      --hover-bg-color: #E2EBFA;\n",
              "      --hover-fill-color: #174EA6;\n",
              "      --disabled-fill-color: #AAA;\n",
              "      --disabled-bg-color: #DDD;\n",
              "  }\n",
              "\n",
              "  [theme=dark] .colab-df-quickchart {\n",
              "      --bg-color: #3B4455;\n",
              "      --fill-color: #D2E3FC;\n",
              "      --hover-bg-color: #434B5C;\n",
              "      --hover-fill-color: #FFFFFF;\n",
              "      --disabled-bg-color: #3B4455;\n",
              "      --disabled-fill-color: #666;\n",
              "  }\n",
              "\n",
              "  .colab-df-quickchart {\n",
              "    background-color: var(--bg-color);\n",
              "    border: none;\n",
              "    border-radius: 50%;\n",
              "    cursor: pointer;\n",
              "    display: none;\n",
              "    fill: var(--fill-color);\n",
              "    height: 32px;\n",
              "    padding: 0;\n",
              "    width: 32px;\n",
              "  }\n",
              "\n",
              "  .colab-df-quickchart:hover {\n",
              "    background-color: var(--hover-bg-color);\n",
              "    box-shadow: 0 1px 2px rgba(60, 64, 67, 0.3), 0 1px 3px 1px rgba(60, 64, 67, 0.15);\n",
              "    fill: var(--button-hover-fill-color);\n",
              "  }\n",
              "\n",
              "  .colab-df-quickchart-complete:disabled,\n",
              "  .colab-df-quickchart-complete:disabled:hover {\n",
              "    background-color: var(--disabled-bg-color);\n",
              "    fill: var(--disabled-fill-color);\n",
              "    box-shadow: none;\n",
              "  }\n",
              "\n",
              "  .colab-df-spinner {\n",
              "    border: 2px solid var(--fill-color);\n",
              "    border-color: transparent;\n",
              "    border-bottom-color: var(--fill-color);\n",
              "    animation:\n",
              "      spin 1s steps(1) infinite;\n",
              "  }\n",
              "\n",
              "  @keyframes spin {\n",
              "    0% {\n",
              "      border-color: transparent;\n",
              "      border-bottom-color: var(--fill-color);\n",
              "      border-left-color: var(--fill-color);\n",
              "    }\n",
              "    20% {\n",
              "      border-color: transparent;\n",
              "      border-left-color: var(--fill-color);\n",
              "      border-top-color: var(--fill-color);\n",
              "    }\n",
              "    30% {\n",
              "      border-color: transparent;\n",
              "      border-left-color: var(--fill-color);\n",
              "      border-top-color: var(--fill-color);\n",
              "      border-right-color: var(--fill-color);\n",
              "    }\n",
              "    40% {\n",
              "      border-color: transparent;\n",
              "      border-right-color: var(--fill-color);\n",
              "      border-top-color: var(--fill-color);\n",
              "    }\n",
              "    60% {\n",
              "      border-color: transparent;\n",
              "      border-right-color: var(--fill-color);\n",
              "    }\n",
              "    80% {\n",
              "      border-color: transparent;\n",
              "      border-right-color: var(--fill-color);\n",
              "      border-bottom-color: var(--fill-color);\n",
              "    }\n",
              "    90% {\n",
              "      border-color: transparent;\n",
              "      border-bottom-color: var(--fill-color);\n",
              "    }\n",
              "  }\n",
              "</style>\n",
              "\n",
              "  <script>\n",
              "    async function quickchart(key) {\n",
              "      const quickchartButtonEl =\n",
              "        document.querySelector('#' + key + ' button');\n",
              "      quickchartButtonEl.disabled = true;  // To prevent multiple clicks.\n",
              "      quickchartButtonEl.classList.add('colab-df-spinner');\n",
              "      try {\n",
              "        const charts = await google.colab.kernel.invokeFunction(\n",
              "            'suggestCharts', [key], {});\n",
              "      } catch (error) {\n",
              "        console.error('Error during call to suggestCharts:', error);\n",
              "      }\n",
              "      quickchartButtonEl.classList.remove('colab-df-spinner');\n",
              "      quickchartButtonEl.classList.add('colab-df-quickchart-complete');\n",
              "    }\n",
              "    (() => {\n",
              "      let quickchartButtonEl =\n",
              "        document.querySelector('#df-8cb0602e-ebda-4dca-bd87-41ddea60e7f1 button');\n",
              "      quickchartButtonEl.style.display =\n",
              "        google.colab.kernel.accessAllowed ? 'block' : 'none';\n",
              "    })();\n",
              "  </script>\n",
              "</div>\n",
              "\n",
              "    </div>\n",
              "  </div>\n"
            ],
            "application/vnd.google.colaboratory.intrinsic+json": {
              "type": "dataframe",
              "variable_name": "df",
              "summary": "{\n  \"name\": \"df\",\n  \"rows\": 10841,\n  \"fields\": [\n    {\n      \"column\": \"App\",\n      \"properties\": {\n        \"dtype\": \"string\",\n        \"num_unique_values\": 9660,\n        \"samples\": [\n          \"Run R Script - Online Statistical Data Analysis\",\n          \"EURES - Your Job in Europe\",\n          \"Dog Licks Screen Wallpaper\"\n        ],\n        \"semantic_type\": \"\",\n        \"description\": \"\"\n      }\n    },\n    {\n      \"column\": \"Category\",\n      \"properties\": {\n        \"dtype\": \"category\",\n        \"num_unique_values\": 34,\n        \"samples\": [\n          \"LIBRARIES_AND_DEMO\",\n          \"MEDICAL\",\n          \"PRODUCTIVITY\"\n        ],\n        \"semantic_type\": \"\",\n        \"description\": \"\"\n      }\n    },\n    {\n      \"column\": \"Rating\",\n      \"properties\": {\n        \"dtype\": \"number\",\n        \"std\": 0.5374313031477594,\n        \"min\": 1.0,\n        \"max\": 19.0,\n        \"num_unique_values\": 40,\n        \"samples\": [\n          5.0,\n          3.4,\n          3.3\n        ],\n        \"semantic_type\": \"\",\n        \"description\": \"\"\n      }\n    },\n    {\n      \"column\": \"Reviews\",\n      \"properties\": {\n        \"dtype\": \"string\",\n        \"num_unique_values\": 6002,\n        \"samples\": [\n          \"66661\",\n          \"7479\",\n          \"8978\"\n        ],\n        \"semantic_type\": \"\",\n        \"description\": \"\"\n      }\n    },\n    {\n      \"column\": \"Size\",\n      \"properties\": {\n        \"dtype\": \"category\",\n        \"num_unique_values\": 462,\n        \"samples\": [\n          \"746k\",\n          \"9.4M\",\n          \"35M\"\n        ],\n        \"semantic_type\": \"\",\n        \"description\": \"\"\n      }\n    },\n    {\n      \"column\": \"Installs\",\n      \"properties\": {\n        \"dtype\": \"category\",\n        \"num_unique_values\": 22,\n        \"samples\": [\n          \"10,000+\",\n          \"50+\",\n          \"5,000+\"\n        ],\n        \"semantic_type\": \"\",\n        \"description\": \"\"\n      }\n    },\n    {\n      \"column\": \"Type\",\n      \"properties\": {\n        \"dtype\": \"category\",\n        \"num_unique_values\": 3,\n        \"samples\": [\n          \"Free\",\n          \"Paid\",\n          \"0\"\n        ],\n        \"semantic_type\": \"\",\n        \"description\": \"\"\n      }\n    },\n    {\n      \"column\": \"Price\",\n      \"properties\": {\n        \"dtype\": \"category\",\n        \"num_unique_values\": 93,\n        \"samples\": [\n          \"$17.99\",\n          \"$29.99\",\n          \"$37.99\"\n        ],\n        \"semantic_type\": \"\",\n        \"description\": \"\"\n      }\n    },\n    {\n      \"column\": \"Content Rating\",\n      \"properties\": {\n        \"dtype\": \"category\",\n        \"num_unique_values\": 6,\n        \"samples\": [\n          \"Everyone\",\n          \"Teen\",\n          \"Unrated\"\n        ],\n        \"semantic_type\": \"\",\n        \"description\": \"\"\n      }\n    },\n    {\n      \"column\": \"Genres\",\n      \"properties\": {\n        \"dtype\": \"category\",\n        \"num_unique_values\": 120,\n        \"samples\": [\n          \"Casual;Action & Adventure\",\n          \"Board\",\n          \"Auto & Vehicles\"\n        ],\n        \"semantic_type\": \"\",\n        \"description\": \"\"\n      }\n    },\n    {\n      \"column\": \"Last Updated\",\n      \"properties\": {\n        \"dtype\": \"category\",\n        \"num_unique_values\": 1378,\n        \"samples\": [\n          \"March 15, 2016\",\n          \"May 14, 2013\",\n          \"October 21, 2015\"\n        ],\n        \"semantic_type\": \"\",\n        \"description\": \"\"\n      }\n    },\n    {\n      \"column\": \"Current Ver\",\n      \"properties\": {\n        \"dtype\": \"category\",\n        \"num_unique_values\": 2832,\n        \"samples\": [\n          \"7.0.4.17908\",\n          \"1.2.5.4-11\",\n          \"2.5.7.1\"\n        ],\n        \"semantic_type\": \"\",\n        \"description\": \"\"\n      }\n    },\n    {\n      \"column\": \"Android Ver\",\n      \"properties\": {\n        \"dtype\": \"category\",\n        \"num_unique_values\": 33,\n        \"samples\": [\n          \"2.2 - 7.1.1\",\n          \"7.0 and up\",\n          \"3.1 and up\"\n        ],\n        \"semantic_type\": \"\",\n        \"description\": \"\"\n      }\n    }\n  ]\n}"
            }
          },
          "metadata": {},
          "execution_count": 107
        }
      ]
    },
    {
      "cell_type": "code",
      "source": [
        "df.info()"
      ],
      "metadata": {
        "colab": {
          "base_uri": "https://localhost:8080/"
        },
        "id": "XC3dqR5F4pmE",
        "outputId": "2a4005ed-f330-4309-f7d2-d546e77df830"
      },
      "execution_count": 108,
      "outputs": [
        {
          "output_type": "stream",
          "name": "stdout",
          "text": [
            "<class 'pandas.core.frame.DataFrame'>\n",
            "RangeIndex: 10841 entries, 0 to 10840\n",
            "Data columns (total 13 columns):\n",
            " #   Column          Non-Null Count  Dtype  \n",
            "---  ------          --------------  -----  \n",
            " 0   App             10841 non-null  object \n",
            " 1   Category        10841 non-null  object \n",
            " 2   Rating          9367 non-null   float64\n",
            " 3   Reviews         10841 non-null  object \n",
            " 4   Size            10841 non-null  object \n",
            " 5   Installs        10841 non-null  object \n",
            " 6   Type            10840 non-null  object \n",
            " 7   Price           10841 non-null  object \n",
            " 8   Content Rating  10840 non-null  object \n",
            " 9   Genres          10841 non-null  object \n",
            " 10  Last Updated    10841 non-null  object \n",
            " 11  Current Ver     10833 non-null  object \n",
            " 12  Android Ver     10838 non-null  object \n",
            "dtypes: float64(1), object(12)\n",
            "memory usage: 1.1+ MB\n"
          ]
        }
      ]
    },
    {
      "cell_type": "markdown",
      "source": [
        "###**Apps Dataset Columns Descriptions:**\n",
        "\n",
        "\n",
        "\n",
        "\n",
        "###This file contains all the details of the apps on Play Store. There are some features that describe a given app.\n",
        "\n",
        "**App** : Name of the app\n",
        "\n",
        "**Category** : Category of the app. Some examples are: ART_AND_DESIGN, FINANCE, COMICS, BEAUTY etc.\n",
        "\n",
        "**Rating** : The current average rating (out of 5) of the app on Play Store\n",
        "\n",
        "**Reviews** : Number of user reviews given on the app\n",
        "\n",
        "**Size** : Size of the app in MB (megabytes)\n",
        "\n",
        "**Installs** : Number of times the app was downloaded from Play Store\n",
        "\n",
        "**Type** : Whether the app is paid or free\n",
        "\n",
        "**Price** : Price of the app in US$\n",
        "\n",
        "**Content Rating** : Who can Rate\n",
        "\n",
        "**Last Updated** : Date on which the app was last updated on Play Store\n",
        "\n",
        "**Current Ver** : Current Version on application"
      ],
      "metadata": {
        "id": "hJ3YA1RetuMx"
      }
    },
    {
      "cell_type": "code",
      "source": [
        "df.columns"
      ],
      "metadata": {
        "colab": {
          "base_uri": "https://localhost:8080/"
        },
        "id": "yLqn6cdqu8D0",
        "outputId": "01761070-c9c9-47a2-da0e-305e58993cb2"
      },
      "execution_count": 109,
      "outputs": [
        {
          "output_type": "execute_result",
          "data": {
            "text/plain": [
              "Index(['App', 'Category', 'Rating', 'Reviews', 'Size', 'Installs', 'Type',\n",
              "       'Price', 'Content Rating', 'Genres', 'Last Updated', 'Current Ver',\n",
              "       'Android Ver'],\n",
              "      dtype='object')"
            ]
          },
          "metadata": {},
          "execution_count": 109
        }
      ]
    },
    {
      "cell_type": "markdown",
      "source": [
        "#### Let's replace the space in the column names:"
      ],
      "metadata": {
        "id": "z-U49Mq8vHOr"
      }
    },
    {
      "cell_type": "code",
      "source": [
        "df.columns = df.columns.str.replace(\" \",\"_\")"
      ],
      "metadata": {
        "id": "EMPj39-avEvm"
      },
      "execution_count": 110,
      "outputs": []
    },
    {
      "cell_type": "code",
      "source": [
        "df.columns"
      ],
      "metadata": {
        "colab": {
          "base_uri": "https://localhost:8080/"
        },
        "id": "5eEpmgvovNUA",
        "outputId": "448d11b4-6339-4517-a54e-562b8aa02094"
      },
      "execution_count": 111,
      "outputs": [
        {
          "output_type": "execute_result",
          "data": {
            "text/plain": [
              "Index(['App', 'Category', 'Rating', 'Reviews', 'Size', 'Installs', 'Type',\n",
              "       'Price', 'Content_Rating', 'Genres', 'Last_Updated', 'Current_Ver',\n",
              "       'Android_Ver'],\n",
              "      dtype='object')"
            ]
          },
          "metadata": {},
          "execution_count": 111
        }
      ]
    },
    {
      "cell_type": "markdown",
      "source": [
        "#### Let's look at the number of rows and columns in the dataset."
      ],
      "metadata": {
        "id": "8dQunoZxv5Hs"
      }
    },
    {
      "cell_type": "code",
      "source": [
        "df.shape"
      ],
      "metadata": {
        "id": "wXuTBvO5wM7K",
        "colab": {
          "base_uri": "https://localhost:8080/"
        },
        "outputId": "786408e0-74b5-44f2-d350-7ef9bcb40561"
      },
      "execution_count": 112,
      "outputs": [
        {
          "output_type": "execute_result",
          "data": {
            "text/plain": [
              "(10841, 13)"
            ]
          },
          "metadata": {},
          "execution_count": 112
        }
      ]
    },
    {
      "cell_type": "markdown",
      "source": [
        "####Let me show the types of columns."
      ],
      "metadata": {
        "id": "Nohs2LXiwxQP"
      }
    },
    {
      "cell_type": "code",
      "source": [
        "df.dtypes"
      ],
      "metadata": {
        "id": "A1khTSGzwywf",
        "colab": {
          "base_uri": "https://localhost:8080/",
          "height": 491
        },
        "outputId": "3241e9f0-fc7f-4502-ffdd-c54577efa38a"
      },
      "execution_count": 113,
      "outputs": [
        {
          "output_type": "execute_result",
          "data": {
            "text/plain": [
              "App                object\n",
              "Category           object\n",
              "Rating            float64\n",
              "Reviews            object\n",
              "Size               object\n",
              "Installs           object\n",
              "Type               object\n",
              "Price              object\n",
              "Content_Rating     object\n",
              "Genres             object\n",
              "Last_Updated       object\n",
              "Current_Ver        object\n",
              "Android_Ver        object\n",
              "dtype: object"
            ],
            "text/html": [
              "<div>\n",
              "<style scoped>\n",
              "    .dataframe tbody tr th:only-of-type {\n",
              "        vertical-align: middle;\n",
              "    }\n",
              "\n",
              "    .dataframe tbody tr th {\n",
              "        vertical-align: top;\n",
              "    }\n",
              "\n",
              "    .dataframe thead th {\n",
              "        text-align: right;\n",
              "    }\n",
              "</style>\n",
              "<table border=\"1\" class=\"dataframe\">\n",
              "  <thead>\n",
              "    <tr style=\"text-align: right;\">\n",
              "      <th></th>\n",
              "      <th>0</th>\n",
              "    </tr>\n",
              "  </thead>\n",
              "  <tbody>\n",
              "    <tr>\n",
              "      <th>App</th>\n",
              "      <td>object</td>\n",
              "    </tr>\n",
              "    <tr>\n",
              "      <th>Category</th>\n",
              "      <td>object</td>\n",
              "    </tr>\n",
              "    <tr>\n",
              "      <th>Rating</th>\n",
              "      <td>float64</td>\n",
              "    </tr>\n",
              "    <tr>\n",
              "      <th>Reviews</th>\n",
              "      <td>object</td>\n",
              "    </tr>\n",
              "    <tr>\n",
              "      <th>Size</th>\n",
              "      <td>object</td>\n",
              "    </tr>\n",
              "    <tr>\n",
              "      <th>Installs</th>\n",
              "      <td>object</td>\n",
              "    </tr>\n",
              "    <tr>\n",
              "      <th>Type</th>\n",
              "      <td>object</td>\n",
              "    </tr>\n",
              "    <tr>\n",
              "      <th>Price</th>\n",
              "      <td>object</td>\n",
              "    </tr>\n",
              "    <tr>\n",
              "      <th>Content_Rating</th>\n",
              "      <td>object</td>\n",
              "    </tr>\n",
              "    <tr>\n",
              "      <th>Genres</th>\n",
              "      <td>object</td>\n",
              "    </tr>\n",
              "    <tr>\n",
              "      <th>Last_Updated</th>\n",
              "      <td>object</td>\n",
              "    </tr>\n",
              "    <tr>\n",
              "      <th>Current_Ver</th>\n",
              "      <td>object</td>\n",
              "    </tr>\n",
              "    <tr>\n",
              "      <th>Android_Ver</th>\n",
              "      <td>object</td>\n",
              "    </tr>\n",
              "  </tbody>\n",
              "</table>\n",
              "</div><br><label><b>dtype:</b> object</label>"
            ]
          },
          "metadata": {},
          "execution_count": 113
        }
      ]
    },
    {
      "cell_type": "markdown",
      "source": [
        "####Let's have a look at missing data in columns."
      ],
      "metadata": {
        "id": "_3McKW-px6e2"
      }
    },
    {
      "cell_type": "code",
      "source": [
        "df.isnull().sum()"
      ],
      "metadata": {
        "id": "wlryxBfpx9wI",
        "colab": {
          "base_uri": "https://localhost:8080/",
          "height": 491
        },
        "outputId": "a91775a0-3fc8-42ce-bd75-f0d900de815c"
      },
      "execution_count": 114,
      "outputs": [
        {
          "output_type": "execute_result",
          "data": {
            "text/plain": [
              "App                  0\n",
              "Category             0\n",
              "Rating            1474\n",
              "Reviews              0\n",
              "Size                 0\n",
              "Installs             0\n",
              "Type                 1\n",
              "Price                0\n",
              "Content_Rating       1\n",
              "Genres               0\n",
              "Last_Updated         0\n",
              "Current_Ver          8\n",
              "Android_Ver          3\n",
              "dtype: int64"
            ],
            "text/html": [
              "<div>\n",
              "<style scoped>\n",
              "    .dataframe tbody tr th:only-of-type {\n",
              "        vertical-align: middle;\n",
              "    }\n",
              "\n",
              "    .dataframe tbody tr th {\n",
              "        vertical-align: top;\n",
              "    }\n",
              "\n",
              "    .dataframe thead th {\n",
              "        text-align: right;\n",
              "    }\n",
              "</style>\n",
              "<table border=\"1\" class=\"dataframe\">\n",
              "  <thead>\n",
              "    <tr style=\"text-align: right;\">\n",
              "      <th></th>\n",
              "      <th>0</th>\n",
              "    </tr>\n",
              "  </thead>\n",
              "  <tbody>\n",
              "    <tr>\n",
              "      <th>App</th>\n",
              "      <td>0</td>\n",
              "    </tr>\n",
              "    <tr>\n",
              "      <th>Category</th>\n",
              "      <td>0</td>\n",
              "    </tr>\n",
              "    <tr>\n",
              "      <th>Rating</th>\n",
              "      <td>1474</td>\n",
              "    </tr>\n",
              "    <tr>\n",
              "      <th>Reviews</th>\n",
              "      <td>0</td>\n",
              "    </tr>\n",
              "    <tr>\n",
              "      <th>Size</th>\n",
              "      <td>0</td>\n",
              "    </tr>\n",
              "    <tr>\n",
              "      <th>Installs</th>\n",
              "      <td>0</td>\n",
              "    </tr>\n",
              "    <tr>\n",
              "      <th>Type</th>\n",
              "      <td>1</td>\n",
              "    </tr>\n",
              "    <tr>\n",
              "      <th>Price</th>\n",
              "      <td>0</td>\n",
              "    </tr>\n",
              "    <tr>\n",
              "      <th>Content_Rating</th>\n",
              "      <td>1</td>\n",
              "    </tr>\n",
              "    <tr>\n",
              "      <th>Genres</th>\n",
              "      <td>0</td>\n",
              "    </tr>\n",
              "    <tr>\n",
              "      <th>Last_Updated</th>\n",
              "      <td>0</td>\n",
              "    </tr>\n",
              "    <tr>\n",
              "      <th>Current_Ver</th>\n",
              "      <td>8</td>\n",
              "    </tr>\n",
              "    <tr>\n",
              "      <th>Android_Ver</th>\n",
              "      <td>3</td>\n",
              "    </tr>\n",
              "  </tbody>\n",
              "</table>\n",
              "</div><br><label><b>dtype:</b> int64</label>"
            ]
          },
          "metadata": {},
          "execution_count": 114
        }
      ]
    },
    {
      "cell_type": "markdown",
      "source": [
        "#### There are some missing values and I'm going to use the median value for missing data in the rating column. We know that the median is more robust than the mean for the outlier values."
      ],
      "metadata": {
        "id": "aMN9YmrLyoKm"
      }
    },
    {
      "cell_type": "code",
      "source": [
        "rating_median = df[\"Rating\"].median()\n",
        "print(rating_median)\n",
        "df[\"Rating\"].fillna(rating_median, inplace=True)"
      ],
      "metadata": {
        "colab": {
          "base_uri": "https://localhost:8080/"
        },
        "id": "MlbK1hSsypPG",
        "outputId": "d5fc6559-fccd-4edf-ed30-6b42e35e8fee"
      },
      "execution_count": 115,
      "outputs": [
        {
          "output_type": "stream",
          "name": "stdout",
          "text": [
            "4.3\n"
          ]
        }
      ]
    },
    {
      "cell_type": "code",
      "source": [
        "df.isnull().sum()"
      ],
      "metadata": {
        "colab": {
          "base_uri": "https://localhost:8080/",
          "height": 491
        },
        "id": "xFyQE_vPB0IP",
        "outputId": "ed59e559-dc80-4ce4-9d64-6df3c4909d9c"
      },
      "execution_count": 116,
      "outputs": [
        {
          "output_type": "execute_result",
          "data": {
            "text/plain": [
              "App               0\n",
              "Category          0\n",
              "Rating            0\n",
              "Reviews           0\n",
              "Size              0\n",
              "Installs          0\n",
              "Type              1\n",
              "Price             0\n",
              "Content_Rating    1\n",
              "Genres            0\n",
              "Last_Updated      0\n",
              "Current_Ver       8\n",
              "Android_Ver       3\n",
              "dtype: int64"
            ],
            "text/html": [
              "<div>\n",
              "<style scoped>\n",
              "    .dataframe tbody tr th:only-of-type {\n",
              "        vertical-align: middle;\n",
              "    }\n",
              "\n",
              "    .dataframe tbody tr th {\n",
              "        vertical-align: top;\n",
              "    }\n",
              "\n",
              "    .dataframe thead th {\n",
              "        text-align: right;\n",
              "    }\n",
              "</style>\n",
              "<table border=\"1\" class=\"dataframe\">\n",
              "  <thead>\n",
              "    <tr style=\"text-align: right;\">\n",
              "      <th></th>\n",
              "      <th>0</th>\n",
              "    </tr>\n",
              "  </thead>\n",
              "  <tbody>\n",
              "    <tr>\n",
              "      <th>App</th>\n",
              "      <td>0</td>\n",
              "    </tr>\n",
              "    <tr>\n",
              "      <th>Category</th>\n",
              "      <td>0</td>\n",
              "    </tr>\n",
              "    <tr>\n",
              "      <th>Rating</th>\n",
              "      <td>0</td>\n",
              "    </tr>\n",
              "    <tr>\n",
              "      <th>Reviews</th>\n",
              "      <td>0</td>\n",
              "    </tr>\n",
              "    <tr>\n",
              "      <th>Size</th>\n",
              "      <td>0</td>\n",
              "    </tr>\n",
              "    <tr>\n",
              "      <th>Installs</th>\n",
              "      <td>0</td>\n",
              "    </tr>\n",
              "    <tr>\n",
              "      <th>Type</th>\n",
              "      <td>1</td>\n",
              "    </tr>\n",
              "    <tr>\n",
              "      <th>Price</th>\n",
              "      <td>0</td>\n",
              "    </tr>\n",
              "    <tr>\n",
              "      <th>Content_Rating</th>\n",
              "      <td>1</td>\n",
              "    </tr>\n",
              "    <tr>\n",
              "      <th>Genres</th>\n",
              "      <td>0</td>\n",
              "    </tr>\n",
              "    <tr>\n",
              "      <th>Last_Updated</th>\n",
              "      <td>0</td>\n",
              "    </tr>\n",
              "    <tr>\n",
              "      <th>Current_Ver</th>\n",
              "      <td>8</td>\n",
              "    </tr>\n",
              "    <tr>\n",
              "      <th>Android_Ver</th>\n",
              "      <td>3</td>\n",
              "    </tr>\n",
              "  </tbody>\n",
              "</table>\n",
              "</div><br><label><b>dtype:</b> int64</label>"
            ]
          },
          "metadata": {},
          "execution_count": 116
        }
      ]
    },
    {
      "cell_type": "markdown",
      "source": [
        "#### Now we have less than 1% missing values. Let's remove this missing data."
      ],
      "metadata": {
        "id": "AVwHkCaYzVUW"
      }
    },
    {
      "cell_type": "code",
      "source": [
        "df.dropna(inplace=True)"
      ],
      "metadata": {
        "id": "mnoHomhkzWyp"
      },
      "execution_count": 117,
      "outputs": []
    },
    {
      "cell_type": "markdown",
      "source": [
        "####Let's take a look at missing data again."
      ],
      "metadata": {
        "id": "yJJrpmpUzlV6"
      }
    },
    {
      "cell_type": "code",
      "source": [
        "df.isnull().sum()"
      ],
      "metadata": {
        "colab": {
          "base_uri": "https://localhost:8080/",
          "height": 491
        },
        "id": "9gdsc08lzmr3",
        "outputId": "6ebe0249-edf0-4765-8580-7bddb21ecec8"
      },
      "execution_count": 118,
      "outputs": [
        {
          "output_type": "execute_result",
          "data": {
            "text/plain": [
              "App               0\n",
              "Category          0\n",
              "Rating            0\n",
              "Reviews           0\n",
              "Size              0\n",
              "Installs          0\n",
              "Type              0\n",
              "Price             0\n",
              "Content_Rating    0\n",
              "Genres            0\n",
              "Last_Updated      0\n",
              "Current_Ver       0\n",
              "Android_Ver       0\n",
              "dtype: int64"
            ],
            "text/html": [
              "<div>\n",
              "<style scoped>\n",
              "    .dataframe tbody tr th:only-of-type {\n",
              "        vertical-align: middle;\n",
              "    }\n",
              "\n",
              "    .dataframe tbody tr th {\n",
              "        vertical-align: top;\n",
              "    }\n",
              "\n",
              "    .dataframe thead th {\n",
              "        text-align: right;\n",
              "    }\n",
              "</style>\n",
              "<table border=\"1\" class=\"dataframe\">\n",
              "  <thead>\n",
              "    <tr style=\"text-align: right;\">\n",
              "      <th></th>\n",
              "      <th>0</th>\n",
              "    </tr>\n",
              "  </thead>\n",
              "  <tbody>\n",
              "    <tr>\n",
              "      <th>App</th>\n",
              "      <td>0</td>\n",
              "    </tr>\n",
              "    <tr>\n",
              "      <th>Category</th>\n",
              "      <td>0</td>\n",
              "    </tr>\n",
              "    <tr>\n",
              "      <th>Rating</th>\n",
              "      <td>0</td>\n",
              "    </tr>\n",
              "    <tr>\n",
              "      <th>Reviews</th>\n",
              "      <td>0</td>\n",
              "    </tr>\n",
              "    <tr>\n",
              "      <th>Size</th>\n",
              "      <td>0</td>\n",
              "    </tr>\n",
              "    <tr>\n",
              "      <th>Installs</th>\n",
              "      <td>0</td>\n",
              "    </tr>\n",
              "    <tr>\n",
              "      <th>Type</th>\n",
              "      <td>0</td>\n",
              "    </tr>\n",
              "    <tr>\n",
              "      <th>Price</th>\n",
              "      <td>0</td>\n",
              "    </tr>\n",
              "    <tr>\n",
              "      <th>Content_Rating</th>\n",
              "      <td>0</td>\n",
              "    </tr>\n",
              "    <tr>\n",
              "      <th>Genres</th>\n",
              "      <td>0</td>\n",
              "    </tr>\n",
              "    <tr>\n",
              "      <th>Last_Updated</th>\n",
              "      <td>0</td>\n",
              "    </tr>\n",
              "    <tr>\n",
              "      <th>Current_Ver</th>\n",
              "      <td>0</td>\n",
              "    </tr>\n",
              "    <tr>\n",
              "      <th>Android_Ver</th>\n",
              "      <td>0</td>\n",
              "    </tr>\n",
              "  </tbody>\n",
              "</table>\n",
              "</div><br><label><b>dtype:</b> int64</label>"
            ]
          },
          "metadata": {},
          "execution_count": 118
        }
      ]
    },
    {
      "cell_type": "code",
      "source": [
        "df.info()"
      ],
      "metadata": {
        "colab": {
          "base_uri": "https://localhost:8080/"
        },
        "id": "okXHg0bIz59K",
        "outputId": "2489c33d-c724-45a4-c725-2ea943cec69d"
      },
      "execution_count": 119,
      "outputs": [
        {
          "output_type": "stream",
          "name": "stdout",
          "text": [
            "<class 'pandas.core.frame.DataFrame'>\n",
            "Index: 10829 entries, 0 to 10840\n",
            "Data columns (total 13 columns):\n",
            " #   Column          Non-Null Count  Dtype  \n",
            "---  ------          --------------  -----  \n",
            " 0   App             10829 non-null  object \n",
            " 1   Category        10829 non-null  object \n",
            " 2   Rating          10829 non-null  float64\n",
            " 3   Reviews         10829 non-null  object \n",
            " 4   Size            10829 non-null  object \n",
            " 5   Installs        10829 non-null  object \n",
            " 6   Type            10829 non-null  object \n",
            " 7   Price           10829 non-null  object \n",
            " 8   Content_Rating  10829 non-null  object \n",
            " 9   Genres          10829 non-null  object \n",
            " 10  Last_Updated    10829 non-null  object \n",
            " 11  Current_Ver     10829 non-null  object \n",
            " 12  Android_Ver     10829 non-null  object \n",
            "dtypes: float64(1), object(12)\n",
            "memory usage: 1.2+ MB\n"
          ]
        }
      ]
    },
    {
      "cell_type": "markdown",
      "source": [
        "## ***Data Wrangling***"
      ],
      "metadata": {
        "id": "Eq-5J_m0IahS"
      }
    },
    {
      "cell_type": "markdown",
      "source": [
        "#### Handling the **Reviews** column"
      ],
      "metadata": {
        "id": "gf-t2yEGPv83"
      }
    },
    {
      "cell_type": "code",
      "source": [
        "# Convert 'Reviews' column to integers\n",
        "df['Reviews'] = df['Reviews'].astype(int)"
      ],
      "metadata": {
        "id": "zT7fMqlxPsfr"
      },
      "execution_count": 120,
      "outputs": []
    },
    {
      "cell_type": "markdown",
      "source": [
        "####Handling the **size** column"
      ],
      "metadata": {
        "id": "0cvI4eiJC-2O"
      }
    },
    {
      "cell_type": "code",
      "source": [
        "print(len(df[\"Size\"].unique()))\n",
        "df[\"Size\"].unique()"
      ],
      "metadata": {
        "id": "rvxSE2wQ1czq",
        "colab": {
          "base_uri": "https://localhost:8080/"
        },
        "outputId": "b4b4468e-470f-47fd-fc96-ae12f4298bfb"
      },
      "execution_count": 121,
      "outputs": [
        {
          "output_type": "stream",
          "name": "stdout",
          "text": [
            "457\n"
          ]
        },
        {
          "output_type": "execute_result",
          "data": {
            "text/plain": [
              "array(['19M', '14M', '8.7M', '25M', '2.8M', '5.6M', '29M', '33M', '3.1M',\n",
              "       '28M', '12M', '20M', '21M', '37M', '5.5M', '17M', '39M', '31M',\n",
              "       '4.2M', '7.0M', '23M', '6.0M', '6.1M', '4.6M', '9.2M', '5.2M',\n",
              "       '11M', '24M', 'Varies with device', '9.4M', '15M', '10M', '1.2M',\n",
              "       '26M', '8.0M', '7.9M', '56M', '57M', '35M', '54M', '201k', '3.6M',\n",
              "       '5.7M', '8.6M', '2.4M', '27M', '2.7M', '2.5M', '16M', '3.4M',\n",
              "       '8.9M', '3.9M', '2.9M', '38M', '32M', '5.4M', '18M', '1.1M',\n",
              "       '2.2M', '4.5M', '9.8M', '52M', '9.0M', '6.7M', '30M', '2.6M',\n",
              "       '7.1M', '3.7M', '22M', '7.4M', '6.4M', '3.2M', '8.2M', '9.9M',\n",
              "       '4.9M', '9.5M', '5.0M', '5.9M', '13M', '73M', '6.8M', '3.5M',\n",
              "       '4.0M', '2.3M', '7.2M', '2.1M', '42M', '7.3M', '9.1M', '55M',\n",
              "       '23k', '6.5M', '1.5M', '7.5M', '51M', '41M', '48M', '8.5M', '46M',\n",
              "       '8.3M', '4.3M', '4.7M', '3.3M', '40M', '7.8M', '8.8M', '6.6M',\n",
              "       '5.1M', '61M', '66M', '79k', '8.4M', '118k', '44M', '695k', '1.6M',\n",
              "       '6.2M', '18k', '53M', '1.4M', '3.0M', '5.8M', '3.8M', '9.6M',\n",
              "       '45M', '63M', '49M', '77M', '4.4M', '4.8M', '70M', '6.9M', '9.3M',\n",
              "       '10.0M', '8.1M', '36M', '84M', '97M', '2.0M', '1.9M', '1.8M',\n",
              "       '5.3M', '47M', '556k', '526k', '76M', '7.6M', '59M', '9.7M', '78M',\n",
              "       '72M', '43M', '7.7M', '6.3M', '334k', '34M', '93M', '65M', '79M',\n",
              "       '100M', '58M', '50M', '68M', '64M', '67M', '60M', '94M', '232k',\n",
              "       '99M', '624k', '95M', '8.5k', '41k', '292k', '80M', '1.7M', '74M',\n",
              "       '62M', '69M', '75M', '98M', '85M', '82M', '96M', '87M', '71M',\n",
              "       '86M', '91M', '81M', '92M', '83M', '88M', '704k', '862k', '899k',\n",
              "       '378k', '266k', '375k', '1.3M', '975k', '980k', '4.1M', '89M',\n",
              "       '696k', '544k', '525k', '920k', '779k', '853k', '720k', '713k',\n",
              "       '772k', '318k', '58k', '241k', '196k', '857k', '51k', '953k',\n",
              "       '865k', '251k', '930k', '540k', '313k', '746k', '203k', '26k',\n",
              "       '314k', '239k', '371k', '220k', '730k', '756k', '91k', '293k',\n",
              "       '17k', '74k', '14k', '317k', '78k', '924k', '902k', '818k', '81k',\n",
              "       '939k', '169k', '45k', '475k', '965k', '90M', '545k', '61k',\n",
              "       '283k', '655k', '714k', '93k', '872k', '121k', '322k', '1.0M',\n",
              "       '976k', '172k', '238k', '549k', '206k', '954k', '444k', '717k',\n",
              "       '210k', '609k', '308k', '705k', '306k', '904k', '473k', '175k',\n",
              "       '350k', '383k', '454k', '421k', '70k', '812k', '442k', '842k',\n",
              "       '417k', '412k', '459k', '478k', '335k', '782k', '721k', '430k',\n",
              "       '429k', '192k', '200k', '460k', '728k', '496k', '816k', '414k',\n",
              "       '506k', '887k', '613k', '243k', '569k', '778k', '683k', '592k',\n",
              "       '319k', '186k', '840k', '647k', '191k', '373k', '437k', '598k',\n",
              "       '716k', '585k', '982k', '219k', '55k', '948k', '323k', '691k',\n",
              "       '511k', '951k', '963k', '25k', '554k', '351k', '27k', '82k',\n",
              "       '208k', '913k', '514k', '551k', '29k', '103k', '898k', '743k',\n",
              "       '116k', '153k', '209k', '353k', '499k', '173k', '597k', '809k',\n",
              "       '122k', '411k', '400k', '801k', '787k', '50k', '643k', '986k',\n",
              "       '97k', '516k', '837k', '780k', '961k', '269k', '20k', '498k',\n",
              "       '600k', '749k', '642k', '881k', '72k', '656k', '601k', '221k',\n",
              "       '228k', '108k', '940k', '176k', '33k', '663k', '34k', '942k',\n",
              "       '259k', '164k', '458k', '245k', '629k', '28k', '288k', '775k',\n",
              "       '785k', '636k', '916k', '994k', '309k', '485k', '914k', '903k',\n",
              "       '608k', '500k', '54k', '562k', '847k', '957k', '688k', '811k',\n",
              "       '270k', '48k', '329k', '523k', '921k', '874k', '981k', '784k',\n",
              "       '280k', '24k', '518k', '754k', '892k', '154k', '860k', '364k',\n",
              "       '387k', '626k', '161k', '879k', '39k', '970k', '170k', '141k',\n",
              "       '160k', '144k', '143k', '190k', '376k', '193k', '246k', '73k',\n",
              "       '992k', '253k', '420k', '404k', '470k', '226k', '240k', '89k',\n",
              "       '234k', '257k', '861k', '467k', '157k', '44k', '676k', '67k',\n",
              "       '552k', '885k', '1020k', '582k', '619k'], dtype=object)"
            ]
          },
          "metadata": {},
          "execution_count": 121
        }
      ]
    },
    {
      "cell_type": "markdown",
      "source": [
        "####Let's remove the M and k in the size column."
      ],
      "metadata": {
        "id": "dvJCeBbiDQRt"
      }
    },
    {
      "cell_type": "code",
      "source": [
        "df[\"Size\"].replace(\"M\",\"\", regex=True, inplace = True)\n",
        "df[\"Size\"].replace(\"k\",\"\", regex=True, inplace = True)"
      ],
      "metadata": {
        "id": "pw7COHf3DRaN"
      },
      "execution_count": 122,
      "outputs": []
    },
    {
      "cell_type": "code",
      "source": [
        "df[\"Size\"].unique()"
      ],
      "metadata": {
        "colab": {
          "base_uri": "https://localhost:8080/"
        },
        "id": "Vy6d4kGmDZFc",
        "outputId": "e9b003ea-bfd9-4589-d35d-506b61d3de44"
      },
      "execution_count": 123,
      "outputs": [
        {
          "output_type": "execute_result",
          "data": {
            "text/plain": [
              "array(['19', '14', '8.7', '25', '2.8', '5.6', '29', '33', '3.1', '28',\n",
              "       '12', '20', '21', '37', '5.5', '17', '39', '31', '4.2', '7.0',\n",
              "       '23', '6.0', '6.1', '4.6', '9.2', '5.2', '11', '24',\n",
              "       'Varies with device', '9.4', '15', '10', '1.2', '26', '8.0', '7.9',\n",
              "       '56', '57', '35', '54', '201', '3.6', '5.7', '8.6', '2.4', '27',\n",
              "       '2.7', '2.5', '16', '3.4', '8.9', '3.9', '2.9', '38', '32', '5.4',\n",
              "       '18', '1.1', '2.2', '4.5', '9.8', '52', '9.0', '6.7', '30', '2.6',\n",
              "       '7.1', '3.7', '22', '7.4', '6.4', '3.2', '8.2', '9.9', '4.9',\n",
              "       '9.5', '5.0', '5.9', '13', '73', '6.8', '3.5', '4.0', '2.3', '7.2',\n",
              "       '2.1', '42', '7.3', '9.1', '55', '6.5', '1.5', '7.5', '51', '41',\n",
              "       '48', '8.5', '46', '8.3', '4.3', '4.7', '3.3', '40', '7.8', '8.8',\n",
              "       '6.6', '5.1', '61', '66', '79', '8.4', '118', '44', '695', '1.6',\n",
              "       '6.2', '53', '1.4', '3.0', '5.8', '3.8', '9.6', '45', '63', '49',\n",
              "       '77', '4.4', '4.8', '70', '6.9', '9.3', '10.0', '8.1', '36', '84',\n",
              "       '97', '2.0', '1.9', '1.8', '5.3', '47', '556', '526', '76', '7.6',\n",
              "       '59', '9.7', '78', '72', '43', '7.7', '6.3', '334', '34', '93',\n",
              "       '65', '100', '58', '50', '68', '64', '67', '60', '94', '232', '99',\n",
              "       '624', '95', '292', '80', '1.7', '74', '62', '69', '75', '98',\n",
              "       '85', '82', '96', '87', '71', '86', '91', '81', '92', '83', '88',\n",
              "       '704', '862', '899', '378', '266', '375', '1.3', '975', '980',\n",
              "       '4.1', '89', '696', '544', '525', '920', '779', '853', '720',\n",
              "       '713', '772', '318', '241', '196', '857', '953', '865', '251',\n",
              "       '930', '540', '313', '746', '203', '314', '239', '371', '220',\n",
              "       '730', '756', '293', '317', '924', '902', '818', '939', '169',\n",
              "       '475', '965', '90', '545', '283', '655', '714', '872', '121',\n",
              "       '322', '1.0', '976', '172', '238', '549', '206', '954', '444',\n",
              "       '717', '210', '609', '308', '705', '306', '904', '473', '175',\n",
              "       '350', '383', '454', '421', '812', '442', '842', '417', '412',\n",
              "       '459', '478', '335', '782', '721', '430', '429', '192', '200',\n",
              "       '460', '728', '496', '816', '414', '506', '887', '613', '243',\n",
              "       '569', '778', '683', '592', '319', '186', '840', '647', '191',\n",
              "       '373', '437', '598', '716', '585', '982', '219', '948', '323',\n",
              "       '691', '511', '951', '963', '554', '351', '208', '913', '514',\n",
              "       '551', '103', '898', '743', '116', '153', '209', '353', '499',\n",
              "       '173', '597', '809', '122', '411', '400', '801', '787', '643',\n",
              "       '986', '516', '837', '780', '961', '269', '498', '600', '749',\n",
              "       '642', '881', '656', '601', '221', '228', '108', '940', '176',\n",
              "       '663', '942', '259', '164', '458', '245', '629', '288', '775',\n",
              "       '785', '636', '916', '994', '309', '485', '914', '903', '608',\n",
              "       '500', '562', '847', '957', '688', '811', '270', '329', '523',\n",
              "       '921', '874', '981', '784', '280', '518', '754', '892', '154',\n",
              "       '860', '364', '387', '626', '161', '879', '970', '170', '141',\n",
              "       '160', '144', '143', '190', '376', '193', '246', '992', '253',\n",
              "       '420', '404', '470', '226', '240', '234', '257', '861', '467',\n",
              "       '157', '676', '552', '885', '1020', '582', '619'], dtype=object)"
            ]
          },
          "metadata": {},
          "execution_count": 123
        }
      ]
    },
    {
      "cell_type": "markdown",
      "source": [
        "####Let's replace the string \"Varies with device\" with the median of the size column. To do this, I will first calculate the median of the size."
      ],
      "metadata": {
        "id": "JCftcQXXDhXn"
      }
    },
    {
      "cell_type": "code",
      "source": [
        "size_median = df[df[\"Size\"]!=\"Varies with device\"][\"Size\"].astype(float).median()\n",
        "size_median"
      ],
      "metadata": {
        "colab": {
          "base_uri": "https://localhost:8080/"
        },
        "id": "hc8SajpsDstc",
        "outputId": "fece355a-7f5e-4194-d7e7-2b70e4422c19"
      },
      "execution_count": 124,
      "outputs": [
        {
          "output_type": "execute_result",
          "data": {
            "text/plain": [
              "15.0"
            ]
          },
          "metadata": {},
          "execution_count": 124
        }
      ]
    },
    {
      "cell_type": "code",
      "source": [
        "df[\"Size\"].replace(\"Varies with device\", size_median, inplace=True)"
      ],
      "metadata": {
        "id": "G-dlD6A0D0sQ"
      },
      "execution_count": 125,
      "outputs": []
    },
    {
      "cell_type": "markdown",
      "source": [
        "####Let's convert this column into numeric."
      ],
      "metadata": {
        "id": "rJKahhOtD67T"
      }
    },
    {
      "cell_type": "code",
      "source": [
        "df.Size = pd.to_numeric(df.Size)"
      ],
      "metadata": {
        "id": "9BPnGgaeD8xK"
      },
      "execution_count": 126,
      "outputs": []
    },
    {
      "cell_type": "code",
      "source": [
        "df.Size.head()"
      ],
      "metadata": {
        "colab": {
          "base_uri": "https://localhost:8080/",
          "height": 241
        },
        "id": "GwklzmLZED3L",
        "outputId": "31105f4c-19d1-4a0c-ee31-19d307ad530a"
      },
      "execution_count": 127,
      "outputs": [
        {
          "output_type": "execute_result",
          "data": {
            "text/plain": [
              "0    19.0\n",
              "1    14.0\n",
              "2     8.7\n",
              "3    25.0\n",
              "4     2.8\n",
              "Name: Size, dtype: float64"
            ],
            "text/html": [
              "<div>\n",
              "<style scoped>\n",
              "    .dataframe tbody tr th:only-of-type {\n",
              "        vertical-align: middle;\n",
              "    }\n",
              "\n",
              "    .dataframe tbody tr th {\n",
              "        vertical-align: top;\n",
              "    }\n",
              "\n",
              "    .dataframe thead th {\n",
              "        text-align: right;\n",
              "    }\n",
              "</style>\n",
              "<table border=\"1\" class=\"dataframe\">\n",
              "  <thead>\n",
              "    <tr style=\"text-align: right;\">\n",
              "      <th></th>\n",
              "      <th>Size</th>\n",
              "    </tr>\n",
              "  </thead>\n",
              "  <tbody>\n",
              "    <tr>\n",
              "      <th>0</th>\n",
              "      <td>19.0</td>\n",
              "    </tr>\n",
              "    <tr>\n",
              "      <th>1</th>\n",
              "      <td>14.0</td>\n",
              "    </tr>\n",
              "    <tr>\n",
              "      <th>2</th>\n",
              "      <td>8.7</td>\n",
              "    </tr>\n",
              "    <tr>\n",
              "      <th>3</th>\n",
              "      <td>25.0</td>\n",
              "    </tr>\n",
              "    <tr>\n",
              "      <th>4</th>\n",
              "      <td>2.8</td>\n",
              "    </tr>\n",
              "  </tbody>\n",
              "</table>\n",
              "</div><br><label><b>dtype:</b> float64</label>"
            ]
          },
          "metadata": {},
          "execution_count": 127
        }
      ]
    },
    {
      "cell_type": "code",
      "source": [
        "df.Size.describe().round()"
      ],
      "metadata": {
        "colab": {
          "base_uri": "https://localhost:8080/",
          "height": 335
        },
        "id": "Ky49BaCzEMow",
        "outputId": "c43e81de-15fe-486e-a104-42e80871f347"
      },
      "execution_count": 128,
      "outputs": [
        {
          "output_type": "execute_result",
          "data": {
            "text/plain": [
              "count    10829.0\n",
              "mean        34.0\n",
              "std         91.0\n",
              "min          1.0\n",
              "25%          7.0\n",
              "50%         15.0\n",
              "75%         28.0\n",
              "max       1020.0\n",
              "Name: Size, dtype: float64"
            ],
            "text/html": [
              "<div>\n",
              "<style scoped>\n",
              "    .dataframe tbody tr th:only-of-type {\n",
              "        vertical-align: middle;\n",
              "    }\n",
              "\n",
              "    .dataframe tbody tr th {\n",
              "        vertical-align: top;\n",
              "    }\n",
              "\n",
              "    .dataframe thead th {\n",
              "        text-align: right;\n",
              "    }\n",
              "</style>\n",
              "<table border=\"1\" class=\"dataframe\">\n",
              "  <thead>\n",
              "    <tr style=\"text-align: right;\">\n",
              "      <th></th>\n",
              "      <th>Size</th>\n",
              "    </tr>\n",
              "  </thead>\n",
              "  <tbody>\n",
              "    <tr>\n",
              "      <th>count</th>\n",
              "      <td>10829.0</td>\n",
              "    </tr>\n",
              "    <tr>\n",
              "      <th>mean</th>\n",
              "      <td>34.0</td>\n",
              "    </tr>\n",
              "    <tr>\n",
              "      <th>std</th>\n",
              "      <td>91.0</td>\n",
              "    </tr>\n",
              "    <tr>\n",
              "      <th>min</th>\n",
              "      <td>1.0</td>\n",
              "    </tr>\n",
              "    <tr>\n",
              "      <th>25%</th>\n",
              "      <td>7.0</td>\n",
              "    </tr>\n",
              "    <tr>\n",
              "      <th>50%</th>\n",
              "      <td>15.0</td>\n",
              "    </tr>\n",
              "    <tr>\n",
              "      <th>75%</th>\n",
              "      <td>28.0</td>\n",
              "    </tr>\n",
              "    <tr>\n",
              "      <th>max</th>\n",
              "      <td>1020.0</td>\n",
              "    </tr>\n",
              "  </tbody>\n",
              "</table>\n",
              "</div><br><label><b>dtype:</b> float64</label>"
            ]
          },
          "metadata": {},
          "execution_count": 128
        }
      ]
    },
    {
      "cell_type": "markdown",
      "source": [
        "####Handling the **Installs** and **Price** column"
      ],
      "metadata": {
        "id": "T0hIiD3OQXvO"
      }
    },
    {
      "cell_type": "code",
      "source": [
        "def clean_dataset(dataset):\n",
        "\n",
        "    # Remove '+' and ',' and convert 'Installs' column to integers\n",
        "    df['Installs'] = df['Installs'].astype(str)\n",
        "    df['Installs'] = df['Installs'].str.replace('+', '').str.replace(',', '').astype(int)\n",
        "\n",
        "    # Remove '$' and convert 'Price' column to float\n",
        "    df['Price'] = df['Price'].astype(str)\n",
        "    df['Price'] = df['Price'].str.replace('$', '').astype(float)\n",
        "\n",
        "    return df\n",
        "\n",
        "# Clean and transform the dataset, then display the first few rows\n",
        "cleaned_data_df = clean_dataset(df)\n",
        "cleaned_data_df.head()\n"
      ],
      "metadata": {
        "colab": {
          "base_uri": "https://localhost:8080/",
          "height": 556
        },
        "id": "5GpsiSNaElUL",
        "outputId": "712b5954-addd-401c-f07c-4ad84894e137"
      },
      "execution_count": 129,
      "outputs": [
        {
          "output_type": "execute_result",
          "data": {
            "text/plain": [
              "                                                 App        Category  Rating  \\\n",
              "0     Photo Editor & Candy Camera & Grid & ScrapBook  ART_AND_DESIGN     4.1   \n",
              "1                                Coloring book moana  ART_AND_DESIGN     3.9   \n",
              "2  U Launcher Lite – FREE Live Cool Themes, Hide ...  ART_AND_DESIGN     4.7   \n",
              "3                              Sketch - Draw & Paint  ART_AND_DESIGN     4.5   \n",
              "4              Pixel Draw - Number Art Coloring Book  ART_AND_DESIGN     4.3   \n",
              "\n",
              "   Reviews  Size  Installs  Type  Price Content_Rating  \\\n",
              "0      159  19.0     10000  Free    0.0       Everyone   \n",
              "1      967  14.0    500000  Free    0.0       Everyone   \n",
              "2    87510   8.7   5000000  Free    0.0       Everyone   \n",
              "3   215644  25.0  50000000  Free    0.0           Teen   \n",
              "4      967   2.8    100000  Free    0.0       Everyone   \n",
              "\n",
              "                      Genres      Last_Updated         Current_Ver  \\\n",
              "0               Art & Design   January 7, 2018               1.0.0   \n",
              "1  Art & Design;Pretend Play  January 15, 2018               2.0.0   \n",
              "2               Art & Design    August 1, 2018               1.2.4   \n",
              "3               Art & Design      June 8, 2018  Varies with device   \n",
              "4    Art & Design;Creativity     June 20, 2018                 1.1   \n",
              "\n",
              "    Android_Ver  \n",
              "0  4.0.3 and up  \n",
              "1  4.0.3 and up  \n",
              "2  4.0.3 and up  \n",
              "3    4.2 and up  \n",
              "4    4.4 and up  "
            ],
            "text/html": [
              "\n",
              "  <div id=\"df-a126763b-ae71-4b5e-89f0-a7d282067bd4\" class=\"colab-df-container\">\n",
              "    <div>\n",
              "<style scoped>\n",
              "    .dataframe tbody tr th:only-of-type {\n",
              "        vertical-align: middle;\n",
              "    }\n",
              "\n",
              "    .dataframe tbody tr th {\n",
              "        vertical-align: top;\n",
              "    }\n",
              "\n",
              "    .dataframe thead th {\n",
              "        text-align: right;\n",
              "    }\n",
              "</style>\n",
              "<table border=\"1\" class=\"dataframe\">\n",
              "  <thead>\n",
              "    <tr style=\"text-align: right;\">\n",
              "      <th></th>\n",
              "      <th>App</th>\n",
              "      <th>Category</th>\n",
              "      <th>Rating</th>\n",
              "      <th>Reviews</th>\n",
              "      <th>Size</th>\n",
              "      <th>Installs</th>\n",
              "      <th>Type</th>\n",
              "      <th>Price</th>\n",
              "      <th>Content_Rating</th>\n",
              "      <th>Genres</th>\n",
              "      <th>Last_Updated</th>\n",
              "      <th>Current_Ver</th>\n",
              "      <th>Android_Ver</th>\n",
              "    </tr>\n",
              "  </thead>\n",
              "  <tbody>\n",
              "    <tr>\n",
              "      <th>0</th>\n",
              "      <td>Photo Editor &amp; Candy Camera &amp; Grid &amp; ScrapBook</td>\n",
              "      <td>ART_AND_DESIGN</td>\n",
              "      <td>4.1</td>\n",
              "      <td>159</td>\n",
              "      <td>19.0</td>\n",
              "      <td>10000</td>\n",
              "      <td>Free</td>\n",
              "      <td>0.0</td>\n",
              "      <td>Everyone</td>\n",
              "      <td>Art &amp; Design</td>\n",
              "      <td>January 7, 2018</td>\n",
              "      <td>1.0.0</td>\n",
              "      <td>4.0.3 and up</td>\n",
              "    </tr>\n",
              "    <tr>\n",
              "      <th>1</th>\n",
              "      <td>Coloring book moana</td>\n",
              "      <td>ART_AND_DESIGN</td>\n",
              "      <td>3.9</td>\n",
              "      <td>967</td>\n",
              "      <td>14.0</td>\n",
              "      <td>500000</td>\n",
              "      <td>Free</td>\n",
              "      <td>0.0</td>\n",
              "      <td>Everyone</td>\n",
              "      <td>Art &amp; Design;Pretend Play</td>\n",
              "      <td>January 15, 2018</td>\n",
              "      <td>2.0.0</td>\n",
              "      <td>4.0.3 and up</td>\n",
              "    </tr>\n",
              "    <tr>\n",
              "      <th>2</th>\n",
              "      <td>U Launcher Lite – FREE Live Cool Themes, Hide ...</td>\n",
              "      <td>ART_AND_DESIGN</td>\n",
              "      <td>4.7</td>\n",
              "      <td>87510</td>\n",
              "      <td>8.7</td>\n",
              "      <td>5000000</td>\n",
              "      <td>Free</td>\n",
              "      <td>0.0</td>\n",
              "      <td>Everyone</td>\n",
              "      <td>Art &amp; Design</td>\n",
              "      <td>August 1, 2018</td>\n",
              "      <td>1.2.4</td>\n",
              "      <td>4.0.3 and up</td>\n",
              "    </tr>\n",
              "    <tr>\n",
              "      <th>3</th>\n",
              "      <td>Sketch - Draw &amp; Paint</td>\n",
              "      <td>ART_AND_DESIGN</td>\n",
              "      <td>4.5</td>\n",
              "      <td>215644</td>\n",
              "      <td>25.0</td>\n",
              "      <td>50000000</td>\n",
              "      <td>Free</td>\n",
              "      <td>0.0</td>\n",
              "      <td>Teen</td>\n",
              "      <td>Art &amp; Design</td>\n",
              "      <td>June 8, 2018</td>\n",
              "      <td>Varies with device</td>\n",
              "      <td>4.2 and up</td>\n",
              "    </tr>\n",
              "    <tr>\n",
              "      <th>4</th>\n",
              "      <td>Pixel Draw - Number Art Coloring Book</td>\n",
              "      <td>ART_AND_DESIGN</td>\n",
              "      <td>4.3</td>\n",
              "      <td>967</td>\n",
              "      <td>2.8</td>\n",
              "      <td>100000</td>\n",
              "      <td>Free</td>\n",
              "      <td>0.0</td>\n",
              "      <td>Everyone</td>\n",
              "      <td>Art &amp; Design;Creativity</td>\n",
              "      <td>June 20, 2018</td>\n",
              "      <td>1.1</td>\n",
              "      <td>4.4 and up</td>\n",
              "    </tr>\n",
              "  </tbody>\n",
              "</table>\n",
              "</div>\n",
              "    <div class=\"colab-df-buttons\">\n",
              "\n",
              "  <div class=\"colab-df-container\">\n",
              "    <button class=\"colab-df-convert\" onclick=\"convertToInteractive('df-a126763b-ae71-4b5e-89f0-a7d282067bd4')\"\n",
              "            title=\"Convert this dataframe to an interactive table.\"\n",
              "            style=\"display:none;\">\n",
              "\n",
              "  <svg xmlns=\"http://www.w3.org/2000/svg\" height=\"24px\" viewBox=\"0 -960 960 960\">\n",
              "    <path d=\"M120-120v-720h720v720H120Zm60-500h600v-160H180v160Zm220 220h160v-160H400v160Zm0 220h160v-160H400v160ZM180-400h160v-160H180v160Zm440 0h160v-160H620v160ZM180-180h160v-160H180v160Zm440 0h160v-160H620v160Z\"/>\n",
              "  </svg>\n",
              "    </button>\n",
              "\n",
              "  <style>\n",
              "    .colab-df-container {\n",
              "      display:flex;\n",
              "      gap: 12px;\n",
              "    }\n",
              "\n",
              "    .colab-df-convert {\n",
              "      background-color: #E8F0FE;\n",
              "      border: none;\n",
              "      border-radius: 50%;\n",
              "      cursor: pointer;\n",
              "      display: none;\n",
              "      fill: #1967D2;\n",
              "      height: 32px;\n",
              "      padding: 0 0 0 0;\n",
              "      width: 32px;\n",
              "    }\n",
              "\n",
              "    .colab-df-convert:hover {\n",
              "      background-color: #E2EBFA;\n",
              "      box-shadow: 0px 1px 2px rgba(60, 64, 67, 0.3), 0px 1px 3px 1px rgba(60, 64, 67, 0.15);\n",
              "      fill: #174EA6;\n",
              "    }\n",
              "\n",
              "    .colab-df-buttons div {\n",
              "      margin-bottom: 4px;\n",
              "    }\n",
              "\n",
              "    [theme=dark] .colab-df-convert {\n",
              "      background-color: #3B4455;\n",
              "      fill: #D2E3FC;\n",
              "    }\n",
              "\n",
              "    [theme=dark] .colab-df-convert:hover {\n",
              "      background-color: #434B5C;\n",
              "      box-shadow: 0px 1px 3px 1px rgba(0, 0, 0, 0.15);\n",
              "      filter: drop-shadow(0px 1px 2px rgba(0, 0, 0, 0.3));\n",
              "      fill: #FFFFFF;\n",
              "    }\n",
              "  </style>\n",
              "\n",
              "    <script>\n",
              "      const buttonEl =\n",
              "        document.querySelector('#df-a126763b-ae71-4b5e-89f0-a7d282067bd4 button.colab-df-convert');\n",
              "      buttonEl.style.display =\n",
              "        google.colab.kernel.accessAllowed ? 'block' : 'none';\n",
              "\n",
              "      async function convertToInteractive(key) {\n",
              "        const element = document.querySelector('#df-a126763b-ae71-4b5e-89f0-a7d282067bd4');\n",
              "        const dataTable =\n",
              "          await google.colab.kernel.invokeFunction('convertToInteractive',\n",
              "                                                    [key], {});\n",
              "        if (!dataTable) return;\n",
              "\n",
              "        const docLinkHtml = 'Like what you see? Visit the ' +\n",
              "          '<a target=\"_blank\" href=https://colab.research.google.com/notebooks/data_table.ipynb>data table notebook</a>'\n",
              "          + ' to learn more about interactive tables.';\n",
              "        element.innerHTML = '';\n",
              "        dataTable['output_type'] = 'display_data';\n",
              "        await google.colab.output.renderOutput(dataTable, element);\n",
              "        const docLink = document.createElement('div');\n",
              "        docLink.innerHTML = docLinkHtml;\n",
              "        element.appendChild(docLink);\n",
              "      }\n",
              "    </script>\n",
              "  </div>\n",
              "\n",
              "\n",
              "<div id=\"df-027349b3-ef6d-4e14-aede-fa3f489335a6\">\n",
              "  <button class=\"colab-df-quickchart\" onclick=\"quickchart('df-027349b3-ef6d-4e14-aede-fa3f489335a6')\"\n",
              "            title=\"Suggest charts\"\n",
              "            style=\"display:none;\">\n",
              "\n",
              "<svg xmlns=\"http://www.w3.org/2000/svg\" height=\"24px\"viewBox=\"0 0 24 24\"\n",
              "     width=\"24px\">\n",
              "    <g>\n",
              "        <path d=\"M19 3H5c-1.1 0-2 .9-2 2v14c0 1.1.9 2 2 2h14c1.1 0 2-.9 2-2V5c0-1.1-.9-2-2-2zM9 17H7v-7h2v7zm4 0h-2V7h2v10zm4 0h-2v-4h2v4z\"/>\n",
              "    </g>\n",
              "</svg>\n",
              "  </button>\n",
              "\n",
              "<style>\n",
              "  .colab-df-quickchart {\n",
              "      --bg-color: #E8F0FE;\n",
              "      --fill-color: #1967D2;\n",
              "      --hover-bg-color: #E2EBFA;\n",
              "      --hover-fill-color: #174EA6;\n",
              "      --disabled-fill-color: #AAA;\n",
              "      --disabled-bg-color: #DDD;\n",
              "  }\n",
              "\n",
              "  [theme=dark] .colab-df-quickchart {\n",
              "      --bg-color: #3B4455;\n",
              "      --fill-color: #D2E3FC;\n",
              "      --hover-bg-color: #434B5C;\n",
              "      --hover-fill-color: #FFFFFF;\n",
              "      --disabled-bg-color: #3B4455;\n",
              "      --disabled-fill-color: #666;\n",
              "  }\n",
              "\n",
              "  .colab-df-quickchart {\n",
              "    background-color: var(--bg-color);\n",
              "    border: none;\n",
              "    border-radius: 50%;\n",
              "    cursor: pointer;\n",
              "    display: none;\n",
              "    fill: var(--fill-color);\n",
              "    height: 32px;\n",
              "    padding: 0;\n",
              "    width: 32px;\n",
              "  }\n",
              "\n",
              "  .colab-df-quickchart:hover {\n",
              "    background-color: var(--hover-bg-color);\n",
              "    box-shadow: 0 1px 2px rgba(60, 64, 67, 0.3), 0 1px 3px 1px rgba(60, 64, 67, 0.15);\n",
              "    fill: var(--button-hover-fill-color);\n",
              "  }\n",
              "\n",
              "  .colab-df-quickchart-complete:disabled,\n",
              "  .colab-df-quickchart-complete:disabled:hover {\n",
              "    background-color: var(--disabled-bg-color);\n",
              "    fill: var(--disabled-fill-color);\n",
              "    box-shadow: none;\n",
              "  }\n",
              "\n",
              "  .colab-df-spinner {\n",
              "    border: 2px solid var(--fill-color);\n",
              "    border-color: transparent;\n",
              "    border-bottom-color: var(--fill-color);\n",
              "    animation:\n",
              "      spin 1s steps(1) infinite;\n",
              "  }\n",
              "\n",
              "  @keyframes spin {\n",
              "    0% {\n",
              "      border-color: transparent;\n",
              "      border-bottom-color: var(--fill-color);\n",
              "      border-left-color: var(--fill-color);\n",
              "    }\n",
              "    20% {\n",
              "      border-color: transparent;\n",
              "      border-left-color: var(--fill-color);\n",
              "      border-top-color: var(--fill-color);\n",
              "    }\n",
              "    30% {\n",
              "      border-color: transparent;\n",
              "      border-left-color: var(--fill-color);\n",
              "      border-top-color: var(--fill-color);\n",
              "      border-right-color: var(--fill-color);\n",
              "    }\n",
              "    40% {\n",
              "      border-color: transparent;\n",
              "      border-right-color: var(--fill-color);\n",
              "      border-top-color: var(--fill-color);\n",
              "    }\n",
              "    60% {\n",
              "      border-color: transparent;\n",
              "      border-right-color: var(--fill-color);\n",
              "    }\n",
              "    80% {\n",
              "      border-color: transparent;\n",
              "      border-right-color: var(--fill-color);\n",
              "      border-bottom-color: var(--fill-color);\n",
              "    }\n",
              "    90% {\n",
              "      border-color: transparent;\n",
              "      border-bottom-color: var(--fill-color);\n",
              "    }\n",
              "  }\n",
              "</style>\n",
              "\n",
              "  <script>\n",
              "    async function quickchart(key) {\n",
              "      const quickchartButtonEl =\n",
              "        document.querySelector('#' + key + ' button');\n",
              "      quickchartButtonEl.disabled = true;  // To prevent multiple clicks.\n",
              "      quickchartButtonEl.classList.add('colab-df-spinner');\n",
              "      try {\n",
              "        const charts = await google.colab.kernel.invokeFunction(\n",
              "            'suggestCharts', [key], {});\n",
              "      } catch (error) {\n",
              "        console.error('Error during call to suggestCharts:', error);\n",
              "      }\n",
              "      quickchartButtonEl.classList.remove('colab-df-spinner');\n",
              "      quickchartButtonEl.classList.add('colab-df-quickchart-complete');\n",
              "    }\n",
              "    (() => {\n",
              "      let quickchartButtonEl =\n",
              "        document.querySelector('#df-027349b3-ef6d-4e14-aede-fa3f489335a6 button');\n",
              "      quickchartButtonEl.style.display =\n",
              "        google.colab.kernel.accessAllowed ? 'block' : 'none';\n",
              "    })();\n",
              "  </script>\n",
              "</div>\n",
              "\n",
              "    </div>\n",
              "  </div>\n"
            ],
            "application/vnd.google.colaboratory.intrinsic+json": {
              "type": "dataframe",
              "variable_name": "cleaned_data_df",
              "summary": "{\n  \"name\": \"cleaned_data_df\",\n  \"rows\": 10829,\n  \"fields\": [\n    {\n      \"column\": \"App\",\n      \"properties\": {\n        \"dtype\": \"string\",\n        \"num_unique_values\": 9648,\n        \"samples\": [\n          \"Podcast Addict\",\n          \"DX Alerts\",\n          \"2000 AD Comics and Judge Dredd\"\n        ],\n        \"semantic_type\": \"\",\n        \"description\": \"\"\n      }\n    },\n    {\n      \"column\": \"Category\",\n      \"properties\": {\n        \"dtype\": \"category\",\n        \"num_unique_values\": 33,\n        \"samples\": [\n          \"NEWS_AND_MAGAZINES\",\n          \"LIBRARIES_AND_DEMO\",\n          \"PERSONALIZATION\"\n        ],\n        \"semantic_type\": \"\",\n        \"description\": \"\"\n      }\n    },\n    {\n      \"column\": \"Rating\",\n      \"properties\": {\n        \"dtype\": \"number\",\n        \"std\": 0.48046729348154205,\n        \"min\": 1.0,\n        \"max\": 5.0,\n        \"num_unique_values\": 39,\n        \"samples\": [\n          2.4,\n          1.4,\n          4.3\n        ],\n        \"semantic_type\": \"\",\n        \"description\": \"\"\n      }\n    },\n    {\n      \"column\": \"Reviews\",\n      \"properties\": {\n        \"dtype\": \"number\",\n        \"std\": 2929213,\n        \"min\": 0,\n        \"max\": 78158306,\n        \"num_unique_values\": 5999,\n        \"samples\": [\n          250,\n          1605267,\n          49523\n        ],\n        \"semantic_type\": \"\",\n        \"description\": \"\"\n      }\n    },\n    {\n      \"column\": \"Size\",\n      \"properties\": {\n        \"dtype\": \"number\",\n        \"std\": 90.97349535198103,\n        \"min\": 1.0,\n        \"max\": 1020.0,\n        \"num_unique_values\": 417,\n        \"samples\": [\n          93.0,\n          193.0,\n          676.0\n        ],\n        \"semantic_type\": \"\",\n        \"description\": \"\"\n      }\n    },\n    {\n      \"column\": \"Installs\",\n      \"properties\": {\n        \"dtype\": \"number\",\n        \"std\": 85071136,\n        \"min\": 0,\n        \"max\": 1000000000,\n        \"num_unique_values\": 20,\n        \"samples\": [\n          10000,\n          1,\n          500\n        ],\n        \"semantic_type\": \"\",\n        \"description\": \"\"\n      }\n    },\n    {\n      \"column\": \"Type\",\n      \"properties\": {\n        \"dtype\": \"category\",\n        \"num_unique_values\": 2,\n        \"samples\": [\n          \"Paid\",\n          \"Free\"\n        ],\n        \"semantic_type\": \"\",\n        \"description\": \"\"\n      }\n    },\n    {\n      \"column\": \"Price\",\n      \"properties\": {\n        \"dtype\": \"number\",\n        \"std\": 15.957777865477246,\n        \"min\": 0.0,\n        \"max\": 400.0,\n        \"num_unique_values\": 92,\n        \"samples\": [\n          17.99,\n          29.99\n        ],\n        \"semantic_type\": \"\",\n        \"description\": \"\"\n      }\n    },\n    {\n      \"column\": \"Content_Rating\",\n      \"properties\": {\n        \"dtype\": \"category\",\n        \"num_unique_values\": 6,\n        \"samples\": [\n          \"Everyone\",\n          \"Teen\"\n        ],\n        \"semantic_type\": \"\",\n        \"description\": \"\"\n      }\n    },\n    {\n      \"column\": \"Genres\",\n      \"properties\": {\n        \"dtype\": \"category\",\n        \"num_unique_values\": 119,\n        \"samples\": [\n          \"Educational;Education\",\n          \"Travel & Local\"\n        ],\n        \"semantic_type\": \"\",\n        \"description\": \"\"\n      }\n    },\n    {\n      \"column\": \"Last_Updated\",\n      \"properties\": {\n        \"dtype\": \"object\",\n        \"num_unique_values\": 1376,\n        \"samples\": [\n          \"May 11, 2016\",\n          \"June 21, 2018\"\n        ],\n        \"semantic_type\": \"\",\n        \"description\": \"\"\n      }\n    },\n    {\n      \"column\": \"Current_Ver\",\n      \"properties\": {\n        \"dtype\": \"category\",\n        \"num_unique_values\": 2831,\n        \"samples\": [\n          \"2.8.216.6-ba\",\n          \"5.0.44\"\n        ],\n        \"semantic_type\": \"\",\n        \"description\": \"\"\n      }\n    },\n    {\n      \"column\": \"Android_Ver\",\n      \"properties\": {\n        \"dtype\": \"category\",\n        \"num_unique_values\": 33,\n        \"samples\": [\n          \"2.2 - 7.1.1\",\n          \"7.0 and up\"\n        ],\n        \"semantic_type\": \"\",\n        \"description\": \"\"\n      }\n    }\n  ]\n}"
            }
          },
          "metadata": {},
          "execution_count": 129
        }
      ]
    },
    {
      "cell_type": "code",
      "source": [
        "df.Size.describe().round()"
      ],
      "metadata": {
        "id": "uhDsUs9f9Fdj",
        "colab": {
          "base_uri": "https://localhost:8080/",
          "height": 335
        },
        "outputId": "a8abd2e1-de37-4d29-9ae1-f030c490afb0"
      },
      "execution_count": 130,
      "outputs": [
        {
          "output_type": "execute_result",
          "data": {
            "text/plain": [
              "count    10829.0\n",
              "mean        34.0\n",
              "std         91.0\n",
              "min          1.0\n",
              "25%          7.0\n",
              "50%         15.0\n",
              "75%         28.0\n",
              "max       1020.0\n",
              "Name: Size, dtype: float64"
            ],
            "text/html": [
              "<div>\n",
              "<style scoped>\n",
              "    .dataframe tbody tr th:only-of-type {\n",
              "        vertical-align: middle;\n",
              "    }\n",
              "\n",
              "    .dataframe tbody tr th {\n",
              "        vertical-align: top;\n",
              "    }\n",
              "\n",
              "    .dataframe thead th {\n",
              "        text-align: right;\n",
              "    }\n",
              "</style>\n",
              "<table border=\"1\" class=\"dataframe\">\n",
              "  <thead>\n",
              "    <tr style=\"text-align: right;\">\n",
              "      <th></th>\n",
              "      <th>Size</th>\n",
              "    </tr>\n",
              "  </thead>\n",
              "  <tbody>\n",
              "    <tr>\n",
              "      <th>count</th>\n",
              "      <td>10829.0</td>\n",
              "    </tr>\n",
              "    <tr>\n",
              "      <th>mean</th>\n",
              "      <td>34.0</td>\n",
              "    </tr>\n",
              "    <tr>\n",
              "      <th>std</th>\n",
              "      <td>91.0</td>\n",
              "    </tr>\n",
              "    <tr>\n",
              "      <th>min</th>\n",
              "      <td>1.0</td>\n",
              "    </tr>\n",
              "    <tr>\n",
              "      <th>25%</th>\n",
              "      <td>7.0</td>\n",
              "    </tr>\n",
              "    <tr>\n",
              "      <th>50%</th>\n",
              "      <td>15.0</td>\n",
              "    </tr>\n",
              "    <tr>\n",
              "      <th>75%</th>\n",
              "      <td>28.0</td>\n",
              "    </tr>\n",
              "    <tr>\n",
              "      <th>max</th>\n",
              "      <td>1020.0</td>\n",
              "    </tr>\n",
              "  </tbody>\n",
              "</table>\n",
              "</div><br><label><b>dtype:</b> float64</label>"
            ]
          },
          "metadata": {},
          "execution_count": 130
        }
      ]
    },
    {
      "cell_type": "markdown",
      "source": [
        "####Handling the genres column\n"
      ],
      "metadata": {
        "id": "nISGwLSmCi-v"
      }
    },
    {
      "cell_type": "code",
      "source": [
        "len(df[\"Genres\"].unique())"
      ],
      "metadata": {
        "colab": {
          "base_uri": "https://localhost:8080/"
        },
        "id": "LIBYo7VHChRn",
        "outputId": "9c9fde07-f1dd-4992-829f-3a79a35341c5"
      },
      "execution_count": 131,
      "outputs": [
        {
          "output_type": "execute_result",
          "data": {
            "text/plain": [
              "119"
            ]
          },
          "metadata": {},
          "execution_count": 131
        }
      ]
    },
    {
      "cell_type": "code",
      "source": [
        "df[\"Genres\"].head(10)"
      ],
      "metadata": {
        "colab": {
          "base_uri": "https://localhost:8080/",
          "height": 397
        },
        "id": "5W0nFKs0CuQe",
        "outputId": "c997a0d4-77f0-47e5-9af0-f31ca403cb51"
      },
      "execution_count": 132,
      "outputs": [
        {
          "output_type": "execute_result",
          "data": {
            "text/plain": [
              "0                 Art & Design\n",
              "1    Art & Design;Pretend Play\n",
              "2                 Art & Design\n",
              "3                 Art & Design\n",
              "4      Art & Design;Creativity\n",
              "5                 Art & Design\n",
              "6                 Art & Design\n",
              "7                 Art & Design\n",
              "8                 Art & Design\n",
              "9      Art & Design;Creativity\n",
              "Name: Genres, dtype: object"
            ],
            "text/html": [
              "<div>\n",
              "<style scoped>\n",
              "    .dataframe tbody tr th:only-of-type {\n",
              "        vertical-align: middle;\n",
              "    }\n",
              "\n",
              "    .dataframe tbody tr th {\n",
              "        vertical-align: top;\n",
              "    }\n",
              "\n",
              "    .dataframe thead th {\n",
              "        text-align: right;\n",
              "    }\n",
              "</style>\n",
              "<table border=\"1\" class=\"dataframe\">\n",
              "  <thead>\n",
              "    <tr style=\"text-align: right;\">\n",
              "      <th></th>\n",
              "      <th>Genres</th>\n",
              "    </tr>\n",
              "  </thead>\n",
              "  <tbody>\n",
              "    <tr>\n",
              "      <th>0</th>\n",
              "      <td>Art &amp; Design</td>\n",
              "    </tr>\n",
              "    <tr>\n",
              "      <th>1</th>\n",
              "      <td>Art &amp; Design;Pretend Play</td>\n",
              "    </tr>\n",
              "    <tr>\n",
              "      <th>2</th>\n",
              "      <td>Art &amp; Design</td>\n",
              "    </tr>\n",
              "    <tr>\n",
              "      <th>3</th>\n",
              "      <td>Art &amp; Design</td>\n",
              "    </tr>\n",
              "    <tr>\n",
              "      <th>4</th>\n",
              "      <td>Art &amp; Design;Creativity</td>\n",
              "    </tr>\n",
              "    <tr>\n",
              "      <th>5</th>\n",
              "      <td>Art &amp; Design</td>\n",
              "    </tr>\n",
              "    <tr>\n",
              "      <th>6</th>\n",
              "      <td>Art &amp; Design</td>\n",
              "    </tr>\n",
              "    <tr>\n",
              "      <th>7</th>\n",
              "      <td>Art &amp; Design</td>\n",
              "    </tr>\n",
              "    <tr>\n",
              "      <th>8</th>\n",
              "      <td>Art &amp; Design</td>\n",
              "    </tr>\n",
              "    <tr>\n",
              "      <th>9</th>\n",
              "      <td>Art &amp; Design;Creativity</td>\n",
              "    </tr>\n",
              "  </tbody>\n",
              "</table>\n",
              "</div><br><label><b>dtype:</b> object</label>"
            ]
          },
          "metadata": {},
          "execution_count": 132
        }
      ]
    },
    {
      "cell_type": "markdown",
      "source": [
        "####The data is divided between genre and subgenre, let's only set by genre."
      ],
      "metadata": {
        "id": "plDaYZ8DCtrO"
      }
    },
    {
      "cell_type": "code",
      "source": [
        "df[\"Genres\"] = df[\"Genres\"].str.split(\";\").str[0]"
      ],
      "metadata": {
        "id": "FlFYERfzC4gG"
      },
      "execution_count": 133,
      "outputs": []
    },
    {
      "cell_type": "code",
      "source": [
        "len(df[\"Genres\"].unique())"
      ],
      "metadata": {
        "colab": {
          "base_uri": "https://localhost:8080/"
        },
        "id": "mOSANNCODI6B",
        "outputId": "95683074-fa34-47a5-b8a1-fa1b2f862b4c"
      },
      "execution_count": 134,
      "outputs": [
        {
          "output_type": "execute_result",
          "data": {
            "text/plain": [
              "48"
            ]
          },
          "metadata": {},
          "execution_count": 134
        }
      ]
    },
    {
      "cell_type": "code",
      "source": [
        "df[\"Genres\"].unique()"
      ],
      "metadata": {
        "colab": {
          "base_uri": "https://localhost:8080/"
        },
        "id": "WX0AfWyJDPs2",
        "outputId": "f9f27946-5d0f-4f83-e9fe-f44224ab9950"
      },
      "execution_count": 135,
      "outputs": [
        {
          "output_type": "execute_result",
          "data": {
            "text/plain": [
              "array(['Art & Design', 'Auto & Vehicles', 'Beauty', 'Books & Reference',\n",
              "       'Business', 'Comics', 'Communication', 'Dating', 'Education',\n",
              "       'Entertainment', 'Events', 'Finance', 'Food & Drink',\n",
              "       'Health & Fitness', 'House & Home', 'Libraries & Demo',\n",
              "       'Lifestyle', 'Adventure', 'Arcade', 'Casual', 'Card', 'Action',\n",
              "       'Strategy', 'Puzzle', 'Sports', 'Music', 'Word', 'Racing',\n",
              "       'Simulation', 'Board', 'Trivia', 'Role Playing', 'Educational',\n",
              "       'Music & Audio', 'Video Players & Editors', 'Medical', 'Social',\n",
              "       'Shopping', 'Photography', 'Travel & Local', 'Tools',\n",
              "       'Personalization', 'Productivity', 'Parenting', 'Weather',\n",
              "       'News & Magazines', 'Maps & Navigation', 'Casino'], dtype=object)"
            ]
          },
          "metadata": {},
          "execution_count": 135
        }
      ]
    },
    {
      "cell_type": "code",
      "source": [
        "df[\"Genres\"].value_counts()"
      ],
      "metadata": {
        "colab": {
          "base_uri": "https://localhost:8080/",
          "height": 1000
        },
        "id": "rbioKvavDbOg",
        "outputId": "5330835b-9c9d-454f-cb67-f5b23c94eff1"
      },
      "execution_count": 136,
      "outputs": [
        {
          "output_type": "execute_result",
          "data": {
            "text/plain": [
              "Genres\n",
              "Tools                      841\n",
              "Entertainment              666\n",
              "Education                  644\n",
              "Medical                    463\n",
              "Business                   460\n",
              "Productivity               424\n",
              "Sports                     402\n",
              "Personalization            390\n",
              "Communication              388\n",
              "Lifestyle                  383\n",
              "Action                     382\n",
              "Finance                    366\n",
              "Health & Fitness           343\n",
              "Photography                335\n",
              "Social                     295\n",
              "News & Magazines           283\n",
              "Casual                     270\n",
              "Shopping                   260\n",
              "Travel & Local             258\n",
              "Arcade                     237\n",
              "Dating                     234\n",
              "Books & Reference          233\n",
              "Simulation                 218\n",
              "Video Players & Editors    178\n",
              "Puzzle                     166\n",
              "Maps & Navigation          137\n",
              "Food & Drink               127\n",
              "Role Playing               123\n",
              "Racing                     119\n",
              "Educational                112\n",
              "Strategy                   110\n",
              "Adventure                   91\n",
              "House & Home                88\n",
              "Auto & Vehicles             85\n",
              "Libraries & Demo            84\n",
              "Weather                     82\n",
              "Art & Design                68\n",
              "Events                      64\n",
              "Board                       63\n",
              "Parenting                   60\n",
              "Comics                      60\n",
              "Beauty                      53\n",
              "Card                        51\n",
              "Trivia                      39\n",
              "Casino                      39\n",
              "Word                        29\n",
              "Music                       25\n",
              "Music & Audio                1\n",
              "Name: count, dtype: int64"
            ],
            "text/html": [
              "<div>\n",
              "<style scoped>\n",
              "    .dataframe tbody tr th:only-of-type {\n",
              "        vertical-align: middle;\n",
              "    }\n",
              "\n",
              "    .dataframe tbody tr th {\n",
              "        vertical-align: top;\n",
              "    }\n",
              "\n",
              "    .dataframe thead th {\n",
              "        text-align: right;\n",
              "    }\n",
              "</style>\n",
              "<table border=\"1\" class=\"dataframe\">\n",
              "  <thead>\n",
              "    <tr style=\"text-align: right;\">\n",
              "      <th></th>\n",
              "      <th>count</th>\n",
              "    </tr>\n",
              "    <tr>\n",
              "      <th>Genres</th>\n",
              "      <th></th>\n",
              "    </tr>\n",
              "  </thead>\n",
              "  <tbody>\n",
              "    <tr>\n",
              "      <th>Tools</th>\n",
              "      <td>841</td>\n",
              "    </tr>\n",
              "    <tr>\n",
              "      <th>Entertainment</th>\n",
              "      <td>666</td>\n",
              "    </tr>\n",
              "    <tr>\n",
              "      <th>Education</th>\n",
              "      <td>644</td>\n",
              "    </tr>\n",
              "    <tr>\n",
              "      <th>Medical</th>\n",
              "      <td>463</td>\n",
              "    </tr>\n",
              "    <tr>\n",
              "      <th>Business</th>\n",
              "      <td>460</td>\n",
              "    </tr>\n",
              "    <tr>\n",
              "      <th>Productivity</th>\n",
              "      <td>424</td>\n",
              "    </tr>\n",
              "    <tr>\n",
              "      <th>Sports</th>\n",
              "      <td>402</td>\n",
              "    </tr>\n",
              "    <tr>\n",
              "      <th>Personalization</th>\n",
              "      <td>390</td>\n",
              "    </tr>\n",
              "    <tr>\n",
              "      <th>Communication</th>\n",
              "      <td>388</td>\n",
              "    </tr>\n",
              "    <tr>\n",
              "      <th>Lifestyle</th>\n",
              "      <td>383</td>\n",
              "    </tr>\n",
              "    <tr>\n",
              "      <th>Action</th>\n",
              "      <td>382</td>\n",
              "    </tr>\n",
              "    <tr>\n",
              "      <th>Finance</th>\n",
              "      <td>366</td>\n",
              "    </tr>\n",
              "    <tr>\n",
              "      <th>Health &amp; Fitness</th>\n",
              "      <td>343</td>\n",
              "    </tr>\n",
              "    <tr>\n",
              "      <th>Photography</th>\n",
              "      <td>335</td>\n",
              "    </tr>\n",
              "    <tr>\n",
              "      <th>Social</th>\n",
              "      <td>295</td>\n",
              "    </tr>\n",
              "    <tr>\n",
              "      <th>News &amp; Magazines</th>\n",
              "      <td>283</td>\n",
              "    </tr>\n",
              "    <tr>\n",
              "      <th>Casual</th>\n",
              "      <td>270</td>\n",
              "    </tr>\n",
              "    <tr>\n",
              "      <th>Shopping</th>\n",
              "      <td>260</td>\n",
              "    </tr>\n",
              "    <tr>\n",
              "      <th>Travel &amp; Local</th>\n",
              "      <td>258</td>\n",
              "    </tr>\n",
              "    <tr>\n",
              "      <th>Arcade</th>\n",
              "      <td>237</td>\n",
              "    </tr>\n",
              "    <tr>\n",
              "      <th>Dating</th>\n",
              "      <td>234</td>\n",
              "    </tr>\n",
              "    <tr>\n",
              "      <th>Books &amp; Reference</th>\n",
              "      <td>233</td>\n",
              "    </tr>\n",
              "    <tr>\n",
              "      <th>Simulation</th>\n",
              "      <td>218</td>\n",
              "    </tr>\n",
              "    <tr>\n",
              "      <th>Video Players &amp; Editors</th>\n",
              "      <td>178</td>\n",
              "    </tr>\n",
              "    <tr>\n",
              "      <th>Puzzle</th>\n",
              "      <td>166</td>\n",
              "    </tr>\n",
              "    <tr>\n",
              "      <th>Maps &amp; Navigation</th>\n",
              "      <td>137</td>\n",
              "    </tr>\n",
              "    <tr>\n",
              "      <th>Food &amp; Drink</th>\n",
              "      <td>127</td>\n",
              "    </tr>\n",
              "    <tr>\n",
              "      <th>Role Playing</th>\n",
              "      <td>123</td>\n",
              "    </tr>\n",
              "    <tr>\n",
              "      <th>Racing</th>\n",
              "      <td>119</td>\n",
              "    </tr>\n",
              "    <tr>\n",
              "      <th>Educational</th>\n",
              "      <td>112</td>\n",
              "    </tr>\n",
              "    <tr>\n",
              "      <th>Strategy</th>\n",
              "      <td>110</td>\n",
              "    </tr>\n",
              "    <tr>\n",
              "      <th>Adventure</th>\n",
              "      <td>91</td>\n",
              "    </tr>\n",
              "    <tr>\n",
              "      <th>House &amp; Home</th>\n",
              "      <td>88</td>\n",
              "    </tr>\n",
              "    <tr>\n",
              "      <th>Auto &amp; Vehicles</th>\n",
              "      <td>85</td>\n",
              "    </tr>\n",
              "    <tr>\n",
              "      <th>Libraries &amp; Demo</th>\n",
              "      <td>84</td>\n",
              "    </tr>\n",
              "    <tr>\n",
              "      <th>Weather</th>\n",
              "      <td>82</td>\n",
              "    </tr>\n",
              "    <tr>\n",
              "      <th>Art &amp; Design</th>\n",
              "      <td>68</td>\n",
              "    </tr>\n",
              "    <tr>\n",
              "      <th>Events</th>\n",
              "      <td>64</td>\n",
              "    </tr>\n",
              "    <tr>\n",
              "      <th>Board</th>\n",
              "      <td>63</td>\n",
              "    </tr>\n",
              "    <tr>\n",
              "      <th>Parenting</th>\n",
              "      <td>60</td>\n",
              "    </tr>\n",
              "    <tr>\n",
              "      <th>Comics</th>\n",
              "      <td>60</td>\n",
              "    </tr>\n",
              "    <tr>\n",
              "      <th>Beauty</th>\n",
              "      <td>53</td>\n",
              "    </tr>\n",
              "    <tr>\n",
              "      <th>Card</th>\n",
              "      <td>51</td>\n",
              "    </tr>\n",
              "    <tr>\n",
              "      <th>Trivia</th>\n",
              "      <td>39</td>\n",
              "    </tr>\n",
              "    <tr>\n",
              "      <th>Casino</th>\n",
              "      <td>39</td>\n",
              "    </tr>\n",
              "    <tr>\n",
              "      <th>Word</th>\n",
              "      <td>29</td>\n",
              "    </tr>\n",
              "    <tr>\n",
              "      <th>Music</th>\n",
              "      <td>25</td>\n",
              "    </tr>\n",
              "    <tr>\n",
              "      <th>Music &amp; Audio</th>\n",
              "      <td>1</td>\n",
              "    </tr>\n",
              "  </tbody>\n",
              "</table>\n",
              "</div><br><label><b>dtype:</b> int64</label>"
            ]
          },
          "metadata": {},
          "execution_count": 136
        }
      ]
    },
    {
      "cell_type": "markdown",
      "source": [
        "####Let's combine the music & audio with the music."
      ],
      "metadata": {
        "id": "wPjeax6gDo8I"
      }
    },
    {
      "cell_type": "code",
      "source": [
        "df[\"Genres\"].replace(\"Music & Audio\", \"Music\", inplace =True)"
      ],
      "metadata": {
        "id": "BWFKD2UjDn0d"
      },
      "execution_count": 137,
      "outputs": []
    },
    {
      "cell_type": "code",
      "source": [
        "df[\"Genres\"].value_counts()"
      ],
      "metadata": {
        "colab": {
          "base_uri": "https://localhost:8080/",
          "height": 1000
        },
        "id": "SUP2ocOkD1j4",
        "outputId": "04476569-f7c0-4546-b5e0-5e86e1db14a6"
      },
      "execution_count": 138,
      "outputs": [
        {
          "output_type": "execute_result",
          "data": {
            "text/plain": [
              "Genres\n",
              "Tools                      841\n",
              "Entertainment              666\n",
              "Education                  644\n",
              "Medical                    463\n",
              "Business                   460\n",
              "Productivity               424\n",
              "Sports                     402\n",
              "Personalization            390\n",
              "Communication              388\n",
              "Lifestyle                  383\n",
              "Action                     382\n",
              "Finance                    366\n",
              "Health & Fitness           343\n",
              "Photography                335\n",
              "Social                     295\n",
              "News & Magazines           283\n",
              "Casual                     270\n",
              "Shopping                   260\n",
              "Travel & Local             258\n",
              "Arcade                     237\n",
              "Dating                     234\n",
              "Books & Reference          233\n",
              "Simulation                 218\n",
              "Video Players & Editors    178\n",
              "Puzzle                     166\n",
              "Maps & Navigation          137\n",
              "Food & Drink               127\n",
              "Role Playing               123\n",
              "Racing                     119\n",
              "Educational                112\n",
              "Strategy                   110\n",
              "Adventure                   91\n",
              "House & Home                88\n",
              "Auto & Vehicles             85\n",
              "Libraries & Demo            84\n",
              "Weather                     82\n",
              "Art & Design                68\n",
              "Events                      64\n",
              "Board                       63\n",
              "Parenting                   60\n",
              "Comics                      60\n",
              "Beauty                      53\n",
              "Card                        51\n",
              "Trivia                      39\n",
              "Casino                      39\n",
              "Word                        29\n",
              "Music                       26\n",
              "Name: count, dtype: int64"
            ],
            "text/html": [
              "<div>\n",
              "<style scoped>\n",
              "    .dataframe tbody tr th:only-of-type {\n",
              "        vertical-align: middle;\n",
              "    }\n",
              "\n",
              "    .dataframe tbody tr th {\n",
              "        vertical-align: top;\n",
              "    }\n",
              "\n",
              "    .dataframe thead th {\n",
              "        text-align: right;\n",
              "    }\n",
              "</style>\n",
              "<table border=\"1\" class=\"dataframe\">\n",
              "  <thead>\n",
              "    <tr style=\"text-align: right;\">\n",
              "      <th></th>\n",
              "      <th>count</th>\n",
              "    </tr>\n",
              "    <tr>\n",
              "      <th>Genres</th>\n",
              "      <th></th>\n",
              "    </tr>\n",
              "  </thead>\n",
              "  <tbody>\n",
              "    <tr>\n",
              "      <th>Tools</th>\n",
              "      <td>841</td>\n",
              "    </tr>\n",
              "    <tr>\n",
              "      <th>Entertainment</th>\n",
              "      <td>666</td>\n",
              "    </tr>\n",
              "    <tr>\n",
              "      <th>Education</th>\n",
              "      <td>644</td>\n",
              "    </tr>\n",
              "    <tr>\n",
              "      <th>Medical</th>\n",
              "      <td>463</td>\n",
              "    </tr>\n",
              "    <tr>\n",
              "      <th>Business</th>\n",
              "      <td>460</td>\n",
              "    </tr>\n",
              "    <tr>\n",
              "      <th>Productivity</th>\n",
              "      <td>424</td>\n",
              "    </tr>\n",
              "    <tr>\n",
              "      <th>Sports</th>\n",
              "      <td>402</td>\n",
              "    </tr>\n",
              "    <tr>\n",
              "      <th>Personalization</th>\n",
              "      <td>390</td>\n",
              "    </tr>\n",
              "    <tr>\n",
              "      <th>Communication</th>\n",
              "      <td>388</td>\n",
              "    </tr>\n",
              "    <tr>\n",
              "      <th>Lifestyle</th>\n",
              "      <td>383</td>\n",
              "    </tr>\n",
              "    <tr>\n",
              "      <th>Action</th>\n",
              "      <td>382</td>\n",
              "    </tr>\n",
              "    <tr>\n",
              "      <th>Finance</th>\n",
              "      <td>366</td>\n",
              "    </tr>\n",
              "    <tr>\n",
              "      <th>Health &amp; Fitness</th>\n",
              "      <td>343</td>\n",
              "    </tr>\n",
              "    <tr>\n",
              "      <th>Photography</th>\n",
              "      <td>335</td>\n",
              "    </tr>\n",
              "    <tr>\n",
              "      <th>Social</th>\n",
              "      <td>295</td>\n",
              "    </tr>\n",
              "    <tr>\n",
              "      <th>News &amp; Magazines</th>\n",
              "      <td>283</td>\n",
              "    </tr>\n",
              "    <tr>\n",
              "      <th>Casual</th>\n",
              "      <td>270</td>\n",
              "    </tr>\n",
              "    <tr>\n",
              "      <th>Shopping</th>\n",
              "      <td>260</td>\n",
              "    </tr>\n",
              "    <tr>\n",
              "      <th>Travel &amp; Local</th>\n",
              "      <td>258</td>\n",
              "    </tr>\n",
              "    <tr>\n",
              "      <th>Arcade</th>\n",
              "      <td>237</td>\n",
              "    </tr>\n",
              "    <tr>\n",
              "      <th>Dating</th>\n",
              "      <td>234</td>\n",
              "    </tr>\n",
              "    <tr>\n",
              "      <th>Books &amp; Reference</th>\n",
              "      <td>233</td>\n",
              "    </tr>\n",
              "    <tr>\n",
              "      <th>Simulation</th>\n",
              "      <td>218</td>\n",
              "    </tr>\n",
              "    <tr>\n",
              "      <th>Video Players &amp; Editors</th>\n",
              "      <td>178</td>\n",
              "    </tr>\n",
              "    <tr>\n",
              "      <th>Puzzle</th>\n",
              "      <td>166</td>\n",
              "    </tr>\n",
              "    <tr>\n",
              "      <th>Maps &amp; Navigation</th>\n",
              "      <td>137</td>\n",
              "    </tr>\n",
              "    <tr>\n",
              "      <th>Food &amp; Drink</th>\n",
              "      <td>127</td>\n",
              "    </tr>\n",
              "    <tr>\n",
              "      <th>Role Playing</th>\n",
              "      <td>123</td>\n",
              "    </tr>\n",
              "    <tr>\n",
              "      <th>Racing</th>\n",
              "      <td>119</td>\n",
              "    </tr>\n",
              "    <tr>\n",
              "      <th>Educational</th>\n",
              "      <td>112</td>\n",
              "    </tr>\n",
              "    <tr>\n",
              "      <th>Strategy</th>\n",
              "      <td>110</td>\n",
              "    </tr>\n",
              "    <tr>\n",
              "      <th>Adventure</th>\n",
              "      <td>91</td>\n",
              "    </tr>\n",
              "    <tr>\n",
              "      <th>House &amp; Home</th>\n",
              "      <td>88</td>\n",
              "    </tr>\n",
              "    <tr>\n",
              "      <th>Auto &amp; Vehicles</th>\n",
              "      <td>85</td>\n",
              "    </tr>\n",
              "    <tr>\n",
              "      <th>Libraries &amp; Demo</th>\n",
              "      <td>84</td>\n",
              "    </tr>\n",
              "    <tr>\n",
              "      <th>Weather</th>\n",
              "      <td>82</td>\n",
              "    </tr>\n",
              "    <tr>\n",
              "      <th>Art &amp; Design</th>\n",
              "      <td>68</td>\n",
              "    </tr>\n",
              "    <tr>\n",
              "      <th>Events</th>\n",
              "      <td>64</td>\n",
              "    </tr>\n",
              "    <tr>\n",
              "      <th>Board</th>\n",
              "      <td>63</td>\n",
              "    </tr>\n",
              "    <tr>\n",
              "      <th>Parenting</th>\n",
              "      <td>60</td>\n",
              "    </tr>\n",
              "    <tr>\n",
              "      <th>Comics</th>\n",
              "      <td>60</td>\n",
              "    </tr>\n",
              "    <tr>\n",
              "      <th>Beauty</th>\n",
              "      <td>53</td>\n",
              "    </tr>\n",
              "    <tr>\n",
              "      <th>Card</th>\n",
              "      <td>51</td>\n",
              "    </tr>\n",
              "    <tr>\n",
              "      <th>Trivia</th>\n",
              "      <td>39</td>\n",
              "    </tr>\n",
              "    <tr>\n",
              "      <th>Casino</th>\n",
              "      <td>39</td>\n",
              "    </tr>\n",
              "    <tr>\n",
              "      <th>Word</th>\n",
              "      <td>29</td>\n",
              "    </tr>\n",
              "    <tr>\n",
              "      <th>Music</th>\n",
              "      <td>26</td>\n",
              "    </tr>\n",
              "  </tbody>\n",
              "</table>\n",
              "</div><br><label><b>dtype:</b> int64</label>"
            ]
          },
          "metadata": {},
          "execution_count": 138
        }
      ]
    },
    {
      "cell_type": "markdown",
      "source": [
        "#### Handling the last updated column"
      ],
      "metadata": {
        "id": "cmYm29ewD-5g"
      }
    },
    {
      "cell_type": "code",
      "source": [
        "df[\"Last_Updated\"].head()"
      ],
      "metadata": {
        "colab": {
          "base_uri": "https://localhost:8080/",
          "height": 241
        },
        "id": "2NVYdEOTEEEY",
        "outputId": "053fdfc1-9160-4498-fdc3-ada3113016b4"
      },
      "execution_count": 139,
      "outputs": [
        {
          "output_type": "execute_result",
          "data": {
            "text/plain": [
              "0     January 7, 2018\n",
              "1    January 15, 2018\n",
              "2      August 1, 2018\n",
              "3        June 8, 2018\n",
              "4       June 20, 2018\n",
              "Name: Last_Updated, dtype: object"
            ],
            "text/html": [
              "<div>\n",
              "<style scoped>\n",
              "    .dataframe tbody tr th:only-of-type {\n",
              "        vertical-align: middle;\n",
              "    }\n",
              "\n",
              "    .dataframe tbody tr th {\n",
              "        vertical-align: top;\n",
              "    }\n",
              "\n",
              "    .dataframe thead th {\n",
              "        text-align: right;\n",
              "    }\n",
              "</style>\n",
              "<table border=\"1\" class=\"dataframe\">\n",
              "  <thead>\n",
              "    <tr style=\"text-align: right;\">\n",
              "      <th></th>\n",
              "      <th>Last_Updated</th>\n",
              "    </tr>\n",
              "  </thead>\n",
              "  <tbody>\n",
              "    <tr>\n",
              "      <th>0</th>\n",
              "      <td>January 7, 2018</td>\n",
              "    </tr>\n",
              "    <tr>\n",
              "      <th>1</th>\n",
              "      <td>January 15, 2018</td>\n",
              "    </tr>\n",
              "    <tr>\n",
              "      <th>2</th>\n",
              "      <td>August 1, 2018</td>\n",
              "    </tr>\n",
              "    <tr>\n",
              "      <th>3</th>\n",
              "      <td>June 8, 2018</td>\n",
              "    </tr>\n",
              "    <tr>\n",
              "      <th>4</th>\n",
              "      <td>June 20, 2018</td>\n",
              "    </tr>\n",
              "  </tbody>\n",
              "</table>\n",
              "</div><br><label><b>dtype:</b> object</label>"
            ]
          },
          "metadata": {},
          "execution_count": 139
        }
      ]
    },
    {
      "cell_type": "code",
      "source": [
        "df[\"Last_Updated\"] = pd.to_datetime(df[\"Last_Updated\"])"
      ],
      "metadata": {
        "id": "f45lH7iaEMN8"
      },
      "execution_count": 140,
      "outputs": []
    },
    {
      "cell_type": "code",
      "source": [
        "df.head()"
      ],
      "metadata": {
        "colab": {
          "base_uri": "https://localhost:8080/",
          "height": 397
        },
        "id": "KUAiwLVOEZ65",
        "outputId": "fe2ece4b-9e7f-4545-ccb4-bdd9f99b6763"
      },
      "execution_count": 141,
      "outputs": [
        {
          "output_type": "execute_result",
          "data": {
            "text/plain": [
              "                                                 App        Category  Rating  \\\n",
              "0     Photo Editor & Candy Camera & Grid & ScrapBook  ART_AND_DESIGN     4.1   \n",
              "1                                Coloring book moana  ART_AND_DESIGN     3.9   \n",
              "2  U Launcher Lite – FREE Live Cool Themes, Hide ...  ART_AND_DESIGN     4.7   \n",
              "3                              Sketch - Draw & Paint  ART_AND_DESIGN     4.5   \n",
              "4              Pixel Draw - Number Art Coloring Book  ART_AND_DESIGN     4.3   \n",
              "\n",
              "   Reviews  Size  Installs  Type  Price Content_Rating        Genres  \\\n",
              "0      159  19.0     10000  Free    0.0       Everyone  Art & Design   \n",
              "1      967  14.0    500000  Free    0.0       Everyone  Art & Design   \n",
              "2    87510   8.7   5000000  Free    0.0       Everyone  Art & Design   \n",
              "3   215644  25.0  50000000  Free    0.0           Teen  Art & Design   \n",
              "4      967   2.8    100000  Free    0.0       Everyone  Art & Design   \n",
              "\n",
              "  Last_Updated         Current_Ver   Android_Ver  \n",
              "0   2018-01-07               1.0.0  4.0.3 and up  \n",
              "1   2018-01-15               2.0.0  4.0.3 and up  \n",
              "2   2018-08-01               1.2.4  4.0.3 and up  \n",
              "3   2018-06-08  Varies with device    4.2 and up  \n",
              "4   2018-06-20                 1.1    4.4 and up  "
            ],
            "text/html": [
              "\n",
              "  <div id=\"df-b5752b9c-0900-4d82-9394-c52c63220242\" class=\"colab-df-container\">\n",
              "    <div>\n",
              "<style scoped>\n",
              "    .dataframe tbody tr th:only-of-type {\n",
              "        vertical-align: middle;\n",
              "    }\n",
              "\n",
              "    .dataframe tbody tr th {\n",
              "        vertical-align: top;\n",
              "    }\n",
              "\n",
              "    .dataframe thead th {\n",
              "        text-align: right;\n",
              "    }\n",
              "</style>\n",
              "<table border=\"1\" class=\"dataframe\">\n",
              "  <thead>\n",
              "    <tr style=\"text-align: right;\">\n",
              "      <th></th>\n",
              "      <th>App</th>\n",
              "      <th>Category</th>\n",
              "      <th>Rating</th>\n",
              "      <th>Reviews</th>\n",
              "      <th>Size</th>\n",
              "      <th>Installs</th>\n",
              "      <th>Type</th>\n",
              "      <th>Price</th>\n",
              "      <th>Content_Rating</th>\n",
              "      <th>Genres</th>\n",
              "      <th>Last_Updated</th>\n",
              "      <th>Current_Ver</th>\n",
              "      <th>Android_Ver</th>\n",
              "    </tr>\n",
              "  </thead>\n",
              "  <tbody>\n",
              "    <tr>\n",
              "      <th>0</th>\n",
              "      <td>Photo Editor &amp; Candy Camera &amp; Grid &amp; ScrapBook</td>\n",
              "      <td>ART_AND_DESIGN</td>\n",
              "      <td>4.1</td>\n",
              "      <td>159</td>\n",
              "      <td>19.0</td>\n",
              "      <td>10000</td>\n",
              "      <td>Free</td>\n",
              "      <td>0.0</td>\n",
              "      <td>Everyone</td>\n",
              "      <td>Art &amp; Design</td>\n",
              "      <td>2018-01-07</td>\n",
              "      <td>1.0.0</td>\n",
              "      <td>4.0.3 and up</td>\n",
              "    </tr>\n",
              "    <tr>\n",
              "      <th>1</th>\n",
              "      <td>Coloring book moana</td>\n",
              "      <td>ART_AND_DESIGN</td>\n",
              "      <td>3.9</td>\n",
              "      <td>967</td>\n",
              "      <td>14.0</td>\n",
              "      <td>500000</td>\n",
              "      <td>Free</td>\n",
              "      <td>0.0</td>\n",
              "      <td>Everyone</td>\n",
              "      <td>Art &amp; Design</td>\n",
              "      <td>2018-01-15</td>\n",
              "      <td>2.0.0</td>\n",
              "      <td>4.0.3 and up</td>\n",
              "    </tr>\n",
              "    <tr>\n",
              "      <th>2</th>\n",
              "      <td>U Launcher Lite – FREE Live Cool Themes, Hide ...</td>\n",
              "      <td>ART_AND_DESIGN</td>\n",
              "      <td>4.7</td>\n",
              "      <td>87510</td>\n",
              "      <td>8.7</td>\n",
              "      <td>5000000</td>\n",
              "      <td>Free</td>\n",
              "      <td>0.0</td>\n",
              "      <td>Everyone</td>\n",
              "      <td>Art &amp; Design</td>\n",
              "      <td>2018-08-01</td>\n",
              "      <td>1.2.4</td>\n",
              "      <td>4.0.3 and up</td>\n",
              "    </tr>\n",
              "    <tr>\n",
              "      <th>3</th>\n",
              "      <td>Sketch - Draw &amp; Paint</td>\n",
              "      <td>ART_AND_DESIGN</td>\n",
              "      <td>4.5</td>\n",
              "      <td>215644</td>\n",
              "      <td>25.0</td>\n",
              "      <td>50000000</td>\n",
              "      <td>Free</td>\n",
              "      <td>0.0</td>\n",
              "      <td>Teen</td>\n",
              "      <td>Art &amp; Design</td>\n",
              "      <td>2018-06-08</td>\n",
              "      <td>Varies with device</td>\n",
              "      <td>4.2 and up</td>\n",
              "    </tr>\n",
              "    <tr>\n",
              "      <th>4</th>\n",
              "      <td>Pixel Draw - Number Art Coloring Book</td>\n",
              "      <td>ART_AND_DESIGN</td>\n",
              "      <td>4.3</td>\n",
              "      <td>967</td>\n",
              "      <td>2.8</td>\n",
              "      <td>100000</td>\n",
              "      <td>Free</td>\n",
              "      <td>0.0</td>\n",
              "      <td>Everyone</td>\n",
              "      <td>Art &amp; Design</td>\n",
              "      <td>2018-06-20</td>\n",
              "      <td>1.1</td>\n",
              "      <td>4.4 and up</td>\n",
              "    </tr>\n",
              "  </tbody>\n",
              "</table>\n",
              "</div>\n",
              "    <div class=\"colab-df-buttons\">\n",
              "\n",
              "  <div class=\"colab-df-container\">\n",
              "    <button class=\"colab-df-convert\" onclick=\"convertToInteractive('df-b5752b9c-0900-4d82-9394-c52c63220242')\"\n",
              "            title=\"Convert this dataframe to an interactive table.\"\n",
              "            style=\"display:none;\">\n",
              "\n",
              "  <svg xmlns=\"http://www.w3.org/2000/svg\" height=\"24px\" viewBox=\"0 -960 960 960\">\n",
              "    <path d=\"M120-120v-720h720v720H120Zm60-500h600v-160H180v160Zm220 220h160v-160H400v160Zm0 220h160v-160H400v160ZM180-400h160v-160H180v160Zm440 0h160v-160H620v160ZM180-180h160v-160H180v160Zm440 0h160v-160H620v160Z\"/>\n",
              "  </svg>\n",
              "    </button>\n",
              "\n",
              "  <style>\n",
              "    .colab-df-container {\n",
              "      display:flex;\n",
              "      gap: 12px;\n",
              "    }\n",
              "\n",
              "    .colab-df-convert {\n",
              "      background-color: #E8F0FE;\n",
              "      border: none;\n",
              "      border-radius: 50%;\n",
              "      cursor: pointer;\n",
              "      display: none;\n",
              "      fill: #1967D2;\n",
              "      height: 32px;\n",
              "      padding: 0 0 0 0;\n",
              "      width: 32px;\n",
              "    }\n",
              "\n",
              "    .colab-df-convert:hover {\n",
              "      background-color: #E2EBFA;\n",
              "      box-shadow: 0px 1px 2px rgba(60, 64, 67, 0.3), 0px 1px 3px 1px rgba(60, 64, 67, 0.15);\n",
              "      fill: #174EA6;\n",
              "    }\n",
              "\n",
              "    .colab-df-buttons div {\n",
              "      margin-bottom: 4px;\n",
              "    }\n",
              "\n",
              "    [theme=dark] .colab-df-convert {\n",
              "      background-color: #3B4455;\n",
              "      fill: #D2E3FC;\n",
              "    }\n",
              "\n",
              "    [theme=dark] .colab-df-convert:hover {\n",
              "      background-color: #434B5C;\n",
              "      box-shadow: 0px 1px 3px 1px rgba(0, 0, 0, 0.15);\n",
              "      filter: drop-shadow(0px 1px 2px rgba(0, 0, 0, 0.3));\n",
              "      fill: #FFFFFF;\n",
              "    }\n",
              "  </style>\n",
              "\n",
              "    <script>\n",
              "      const buttonEl =\n",
              "        document.querySelector('#df-b5752b9c-0900-4d82-9394-c52c63220242 button.colab-df-convert');\n",
              "      buttonEl.style.display =\n",
              "        google.colab.kernel.accessAllowed ? 'block' : 'none';\n",
              "\n",
              "      async function convertToInteractive(key) {\n",
              "        const element = document.querySelector('#df-b5752b9c-0900-4d82-9394-c52c63220242');\n",
              "        const dataTable =\n",
              "          await google.colab.kernel.invokeFunction('convertToInteractive',\n",
              "                                                    [key], {});\n",
              "        if (!dataTable) return;\n",
              "\n",
              "        const docLinkHtml = 'Like what you see? Visit the ' +\n",
              "          '<a target=\"_blank\" href=https://colab.research.google.com/notebooks/data_table.ipynb>data table notebook</a>'\n",
              "          + ' to learn more about interactive tables.';\n",
              "        element.innerHTML = '';\n",
              "        dataTable['output_type'] = 'display_data';\n",
              "        await google.colab.output.renderOutput(dataTable, element);\n",
              "        const docLink = document.createElement('div');\n",
              "        docLink.innerHTML = docLinkHtml;\n",
              "        element.appendChild(docLink);\n",
              "      }\n",
              "    </script>\n",
              "  </div>\n",
              "\n",
              "\n",
              "<div id=\"df-63ff7e0e-4fae-4172-b45d-1b4f6c4e91a1\">\n",
              "  <button class=\"colab-df-quickchart\" onclick=\"quickchart('df-63ff7e0e-4fae-4172-b45d-1b4f6c4e91a1')\"\n",
              "            title=\"Suggest charts\"\n",
              "            style=\"display:none;\">\n",
              "\n",
              "<svg xmlns=\"http://www.w3.org/2000/svg\" height=\"24px\"viewBox=\"0 0 24 24\"\n",
              "     width=\"24px\">\n",
              "    <g>\n",
              "        <path d=\"M19 3H5c-1.1 0-2 .9-2 2v14c0 1.1.9 2 2 2h14c1.1 0 2-.9 2-2V5c0-1.1-.9-2-2-2zM9 17H7v-7h2v7zm4 0h-2V7h2v10zm4 0h-2v-4h2v4z\"/>\n",
              "    </g>\n",
              "</svg>\n",
              "  </button>\n",
              "\n",
              "<style>\n",
              "  .colab-df-quickchart {\n",
              "      --bg-color: #E8F0FE;\n",
              "      --fill-color: #1967D2;\n",
              "      --hover-bg-color: #E2EBFA;\n",
              "      --hover-fill-color: #174EA6;\n",
              "      --disabled-fill-color: #AAA;\n",
              "      --disabled-bg-color: #DDD;\n",
              "  }\n",
              "\n",
              "  [theme=dark] .colab-df-quickchart {\n",
              "      --bg-color: #3B4455;\n",
              "      --fill-color: #D2E3FC;\n",
              "      --hover-bg-color: #434B5C;\n",
              "      --hover-fill-color: #FFFFFF;\n",
              "      --disabled-bg-color: #3B4455;\n",
              "      --disabled-fill-color: #666;\n",
              "  }\n",
              "\n",
              "  .colab-df-quickchart {\n",
              "    background-color: var(--bg-color);\n",
              "    border: none;\n",
              "    border-radius: 50%;\n",
              "    cursor: pointer;\n",
              "    display: none;\n",
              "    fill: var(--fill-color);\n",
              "    height: 32px;\n",
              "    padding: 0;\n",
              "    width: 32px;\n",
              "  }\n",
              "\n",
              "  .colab-df-quickchart:hover {\n",
              "    background-color: var(--hover-bg-color);\n",
              "    box-shadow: 0 1px 2px rgba(60, 64, 67, 0.3), 0 1px 3px 1px rgba(60, 64, 67, 0.15);\n",
              "    fill: var(--button-hover-fill-color);\n",
              "  }\n",
              "\n",
              "  .colab-df-quickchart-complete:disabled,\n",
              "  .colab-df-quickchart-complete:disabled:hover {\n",
              "    background-color: var(--disabled-bg-color);\n",
              "    fill: var(--disabled-fill-color);\n",
              "    box-shadow: none;\n",
              "  }\n",
              "\n",
              "  .colab-df-spinner {\n",
              "    border: 2px solid var(--fill-color);\n",
              "    border-color: transparent;\n",
              "    border-bottom-color: var(--fill-color);\n",
              "    animation:\n",
              "      spin 1s steps(1) infinite;\n",
              "  }\n",
              "\n",
              "  @keyframes spin {\n",
              "    0% {\n",
              "      border-color: transparent;\n",
              "      border-bottom-color: var(--fill-color);\n",
              "      border-left-color: var(--fill-color);\n",
              "    }\n",
              "    20% {\n",
              "      border-color: transparent;\n",
              "      border-left-color: var(--fill-color);\n",
              "      border-top-color: var(--fill-color);\n",
              "    }\n",
              "    30% {\n",
              "      border-color: transparent;\n",
              "      border-left-color: var(--fill-color);\n",
              "      border-top-color: var(--fill-color);\n",
              "      border-right-color: var(--fill-color);\n",
              "    }\n",
              "    40% {\n",
              "      border-color: transparent;\n",
              "      border-right-color: var(--fill-color);\n",
              "      border-top-color: var(--fill-color);\n",
              "    }\n",
              "    60% {\n",
              "      border-color: transparent;\n",
              "      border-right-color: var(--fill-color);\n",
              "    }\n",
              "    80% {\n",
              "      border-color: transparent;\n",
              "      border-right-color: var(--fill-color);\n",
              "      border-bottom-color: var(--fill-color);\n",
              "    }\n",
              "    90% {\n",
              "      border-color: transparent;\n",
              "      border-bottom-color: var(--fill-color);\n",
              "    }\n",
              "  }\n",
              "</style>\n",
              "\n",
              "  <script>\n",
              "    async function quickchart(key) {\n",
              "      const quickchartButtonEl =\n",
              "        document.querySelector('#' + key + ' button');\n",
              "      quickchartButtonEl.disabled = true;  // To prevent multiple clicks.\n",
              "      quickchartButtonEl.classList.add('colab-df-spinner');\n",
              "      try {\n",
              "        const charts = await google.colab.kernel.invokeFunction(\n",
              "            'suggestCharts', [key], {});\n",
              "      } catch (error) {\n",
              "        console.error('Error during call to suggestCharts:', error);\n",
              "      }\n",
              "      quickchartButtonEl.classList.remove('colab-df-spinner');\n",
              "      quickchartButtonEl.classList.add('colab-df-quickchart-complete');\n",
              "    }\n",
              "    (() => {\n",
              "      let quickchartButtonEl =\n",
              "        document.querySelector('#df-63ff7e0e-4fae-4172-b45d-1b4f6c4e91a1 button');\n",
              "      quickchartButtonEl.style.display =\n",
              "        google.colab.kernel.accessAllowed ? 'block' : 'none';\n",
              "    })();\n",
              "  </script>\n",
              "</div>\n",
              "\n",
              "    </div>\n",
              "  </div>\n"
            ],
            "application/vnd.google.colaboratory.intrinsic+json": {
              "type": "dataframe",
              "variable_name": "df",
              "summary": "{\n  \"name\": \"df\",\n  \"rows\": 10829,\n  \"fields\": [\n    {\n      \"column\": \"App\",\n      \"properties\": {\n        \"dtype\": \"string\",\n        \"num_unique_values\": 9648,\n        \"samples\": [\n          \"Podcast Addict\",\n          \"DX Alerts\",\n          \"2000 AD Comics and Judge Dredd\"\n        ],\n        \"semantic_type\": \"\",\n        \"description\": \"\"\n      }\n    },\n    {\n      \"column\": \"Category\",\n      \"properties\": {\n        \"dtype\": \"category\",\n        \"num_unique_values\": 33,\n        \"samples\": [\n          \"NEWS_AND_MAGAZINES\",\n          \"LIBRARIES_AND_DEMO\",\n          \"PERSONALIZATION\"\n        ],\n        \"semantic_type\": \"\",\n        \"description\": \"\"\n      }\n    },\n    {\n      \"column\": \"Rating\",\n      \"properties\": {\n        \"dtype\": \"number\",\n        \"std\": 0.48046729348154205,\n        \"min\": 1.0,\n        \"max\": 5.0,\n        \"num_unique_values\": 39,\n        \"samples\": [\n          2.4,\n          1.4,\n          4.3\n        ],\n        \"semantic_type\": \"\",\n        \"description\": \"\"\n      }\n    },\n    {\n      \"column\": \"Reviews\",\n      \"properties\": {\n        \"dtype\": \"number\",\n        \"std\": 2929213,\n        \"min\": 0,\n        \"max\": 78158306,\n        \"num_unique_values\": 5999,\n        \"samples\": [\n          250,\n          1605267,\n          49523\n        ],\n        \"semantic_type\": \"\",\n        \"description\": \"\"\n      }\n    },\n    {\n      \"column\": \"Size\",\n      \"properties\": {\n        \"dtype\": \"number\",\n        \"std\": 90.97349535198103,\n        \"min\": 1.0,\n        \"max\": 1020.0,\n        \"num_unique_values\": 417,\n        \"samples\": [\n          93.0,\n          193.0,\n          676.0\n        ],\n        \"semantic_type\": \"\",\n        \"description\": \"\"\n      }\n    },\n    {\n      \"column\": \"Installs\",\n      \"properties\": {\n        \"dtype\": \"number\",\n        \"std\": 85071136,\n        \"min\": 0,\n        \"max\": 1000000000,\n        \"num_unique_values\": 20,\n        \"samples\": [\n          10000,\n          1,\n          500\n        ],\n        \"semantic_type\": \"\",\n        \"description\": \"\"\n      }\n    },\n    {\n      \"column\": \"Type\",\n      \"properties\": {\n        \"dtype\": \"category\",\n        \"num_unique_values\": 2,\n        \"samples\": [\n          \"Paid\",\n          \"Free\"\n        ],\n        \"semantic_type\": \"\",\n        \"description\": \"\"\n      }\n    },\n    {\n      \"column\": \"Price\",\n      \"properties\": {\n        \"dtype\": \"number\",\n        \"std\": 15.957777865477246,\n        \"min\": 0.0,\n        \"max\": 400.0,\n        \"num_unique_values\": 92,\n        \"samples\": [\n          17.99,\n          29.99\n        ],\n        \"semantic_type\": \"\",\n        \"description\": \"\"\n      }\n    },\n    {\n      \"column\": \"Content_Rating\",\n      \"properties\": {\n        \"dtype\": \"category\",\n        \"num_unique_values\": 6,\n        \"samples\": [\n          \"Everyone\",\n          \"Teen\"\n        ],\n        \"semantic_type\": \"\",\n        \"description\": \"\"\n      }\n    },\n    {\n      \"column\": \"Genres\",\n      \"properties\": {\n        \"dtype\": \"category\",\n        \"num_unique_values\": 47,\n        \"samples\": [\n          \"Racing\",\n          \"Tools\"\n        ],\n        \"semantic_type\": \"\",\n        \"description\": \"\"\n      }\n    },\n    {\n      \"column\": \"Last_Updated\",\n      \"properties\": {\n        \"dtype\": \"date\",\n        \"min\": \"2010-05-21 00:00:00\",\n        \"max\": \"2018-08-08 00:00:00\",\n        \"num_unique_values\": 1376,\n        \"samples\": [\n          \"2016-05-11 00:00:00\",\n          \"2018-06-21 00:00:00\"\n        ],\n        \"semantic_type\": \"\",\n        \"description\": \"\"\n      }\n    },\n    {\n      \"column\": \"Current_Ver\",\n      \"properties\": {\n        \"dtype\": \"category\",\n        \"num_unique_values\": 2831,\n        \"samples\": [\n          \"2.8.216.6-ba\",\n          \"5.0.44\"\n        ],\n        \"semantic_type\": \"\",\n        \"description\": \"\"\n      }\n    },\n    {\n      \"column\": \"Android_Ver\",\n      \"properties\": {\n        \"dtype\": \"category\",\n        \"num_unique_values\": 33,\n        \"samples\": [\n          \"2.2 - 7.1.1\",\n          \"7.0 and up\"\n        ],\n        \"semantic_type\": \"\",\n        \"description\": \"\"\n      }\n    }\n  ]\n}"
            }
          },
          "metadata": {},
          "execution_count": 141
        }
      ]
    },
    {
      "cell_type": "markdown",
      "source": [
        "#### Handling the Current_Ver column"
      ],
      "metadata": {
        "id": "y8FCLytYM_-f"
      }
    },
    {
      "cell_type": "code",
      "source": [
        "len(df[\"Current_Ver\"].unique())"
      ],
      "metadata": {
        "colab": {
          "base_uri": "https://localhost:8080/"
        },
        "id": "6LIh-n2IR1kW",
        "outputId": "6721e18f-e612-49b7-ff2a-70bedcfb59ae"
      },
      "execution_count": 142,
      "outputs": [
        {
          "output_type": "execute_result",
          "data": {
            "text/plain": [
              "2831"
            ]
          },
          "metadata": {},
          "execution_count": 142
        }
      ]
    },
    {
      "cell_type": "code",
      "source": [
        "df[\"Current_Ver\"].unique()"
      ],
      "metadata": {
        "colab": {
          "base_uri": "https://localhost:8080/"
        },
        "id": "eNlAAPumSG4E",
        "outputId": "1553ce5b-e4e6-4de5-b436-40c9869acf80"
      },
      "execution_count": 143,
      "outputs": [
        {
          "output_type": "execute_result",
          "data": {
            "text/plain": [
              "array(['1.0.0', '2.0.0', '1.2.4', ..., '1.0.612928', '0.3.4', '2.0.148.0'],\n",
              "      dtype=object)"
            ]
          },
          "metadata": {},
          "execution_count": 143
        }
      ]
    },
    {
      "cell_type": "code",
      "source": [
        "df['Current_Ver'] = pd.to_numeric(df['Current_Ver'], errors='coerce')"
      ],
      "metadata": {
        "id": "g5a3cJDiT1f2"
      },
      "execution_count": 144,
      "outputs": []
    },
    {
      "cell_type": "code",
      "source": [
        "df['Current_Ver'].dropna(inplace=True)\n",
        "df = df.dropna(subset=['Current_Ver'])"
      ],
      "metadata": {
        "id": "2sKAd3XjT35l"
      },
      "execution_count": 145,
      "outputs": []
    },
    {
      "cell_type": "code",
      "source": [
        "df[\"Current_Ver\"].unique()"
      ],
      "metadata": {
        "colab": {
          "base_uri": "https://localhost:8080/"
        },
        "id": "7PG7NAKCUpJ8",
        "outputId": "e17d47f9-5d8b-4ec4-9c63-3ca4af483df8"
      },
      "execution_count": 146,
      "outputs": [
        {
          "output_type": "execute_result",
          "data": {
            "text/plain": [
              "array([1.10000000e+00, 1.00000000e+00, 2.80000000e+00, 3.80000000e+00,\n",
              "       3.10000000e+00, 4.00000000e+00, 1.50000000e+00, 1.03000000e+00,\n",
              "       6.00000000e+00, 1.20000000e+00, 2.20000000e+00, 1.60000000e+00,\n",
              "       2.10000000e+00, 1.30000000e+00, 1.46000000e+00, 1.10000000e+01,\n",
              "       3.00000000e+00, 2.49300000e+00, 1.70000000e+00, 1.37000000e+00,\n",
              "       2.90000000e+00, 1.79000000e+00, 8.31000000e+00, 1.40000000e+00,\n",
              "       2.17000000e+00, 1.90000000e+00, 5.40000000e+00, 8.00000000e+00,\n",
              "       1.85000000e+01, 1.15000000e+00, 2.00000000e+00, 1.91180527e+00,\n",
              "       1.50000000e+01, 3.12000000e+00, 1.28000000e+00, 1.40000000e+01,\n",
              "       3.05000000e+00, 3.30000000e+00, 4.90000000e+00, 1.87000000e+01,\n",
              "       1.08000000e+00, 1.01000000e+00, 5.20000000e+00, 6.10000000e+00,\n",
              "       7.73000000e+00, 4.98000000e+00, 7.21000000e+00, 3.47000000e+00,\n",
              "       1.96000000e+02, 5.86000000e+00, 1.28600000e+00, 5.40300000e+00,\n",
              "       2.30000000e+00, 1.63900000e+00, 2.45000000e+00, 1.23000000e+00,\n",
              "       1.58000000e+01, 4.30000000e+00, 1.55000000e+00, 1.17000000e+00,\n",
              "       2.40000000e+00, 2.50000000e+00, 8.20000000e+00, 4.20000000e+00,\n",
              "       3.52000000e+00, 3.70000000e+00, 4.81300000e+00, 4.10000000e+00,\n",
              "       2.24000000e+00, 1.00000000e+01, 2.48000000e+00, 2.09000000e+00,\n",
              "       5.00000000e+00, 1.16000000e+00, 1.02000000e+00, 7.30000000e+00,\n",
              "       8.06260000e+00, 4.30000000e+01, 8.10000000e+00, 4.42600000e+00,\n",
              "       8.40000000e+00, 1.57000000e+00, 1.75000000e+00, 1.10700000e+00,\n",
              "       1.14000000e+00, 4.20000000e+01, 1.84000000e+01, 8.18000000e+00,\n",
              "       1.07800000e+01, 1.66000000e+01, 4.63000000e+00, 2.13100000e+00,\n",
              "       5.10000000e+00, 2.12000000e+00, 7.12000000e+00, 4.26000000e+00,\n",
              "       5.23000000e+00, 2.60000000e+00, 3.40100000e+00, 1.12000000e+02,\n",
              "       3.48000000e+00, 5.30000000e+00, 4.40000000e+00, 6.70000000e+00,\n",
              "       1.60000000e+01, 7.00000000e+00, 3.22000000e+00, 1.02400000e+01,\n",
              "       3.70000000e+01, 1.92000000e+00, 7.40000000e+00, 3.60000000e+00,\n",
              "       2.20000000e+02, 1.04000000e+00, 8.58000000e+02, 1.80000000e+00,\n",
              "       5.28000000e+00, 9.00000000e+00, 1.01900000e+01, 5.80000000e+00,\n",
              "       2.15000000e+00, 4.35000000e+00, 5.66000000e+00, 3.50000000e+00,\n",
              "       3.19600000e+03, 1.75100000e+00, 5.42300000e+03, 5.06400000e+00,\n",
              "       1.24000000e+00, 1.93000000e+00, 1.76000000e+00, 7.90000000e+01,\n",
              "       1.08000000e+02, 6.20000000e+00, 3.15000000e+00, 6.00000000e+01,\n",
              "       1.49000000e+00, 2.70000000e+00, 1.73000000e+00, 2.18072300e+00,\n",
              "       7.32000000e+00, 1.01805300e+01, 1.49000000e+02, 1.18070200e+00,\n",
              "       1.22100000e+00, 1.47000000e+00, 3.49000000e+00, 3.78930000e+04,\n",
              "       1.19000000e+00, 1.81000000e+01, 7.50000000e+00, 2.01806090e+07,\n",
              "       1.82000000e+01, 3.46000000e+00, 1.90000000e+01, 2.29000000e+00,\n",
              "       3.19000000e+00, 4.36000000e+00, 5.11000000e+00, 6.60000000e+00,\n",
              "       1.00000000e-01, 1.12000000e+00, 5.51000000e+00, 1.30000000e+01,\n",
              "       4.81000000e+00, 2.69000000e+00, 2.70000000e+01, 2.16000000e+00,\n",
              "       2.91400000e+01, 4.89000000e+00, 7.36000000e+00, 3.90000000e+00,\n",
              "       5.84000000e+02, 2.20000000e+01, 6.21000000e+00, 4.47000000e+00,\n",
              "       1.43000000e+00, 1.32000000e+00, 4.70000000e+00, 7.10000000e+01,\n",
              "       3.20000000e+00, 1.38000000e+00, 4.50000000e+00, 4.21000000e+00,\n",
              "       6.71000000e+00, 1.00400000e+03, 6.50000000e+00, 5.50000000e+00,\n",
              "       1.20000000e+01, 5.90000000e+00, 2.01860000e+03, 7.10000000e+00,\n",
              "       5.48000000e+00, 4.60000000e+00, 1.12600000e+01, 5.36000000e+00,\n",
              "       1.04000000e+01, 3.21000000e+01, 1.51000000e+00, 2.01805170e+07,\n",
              "       1.33000000e+00, 4.00000000e+01, 1.13000000e+00, 2.85000000e+00,\n",
              "       2.41000000e+00, 6.07000000e+00, 1.80000000e+01, 2.32000000e+00,\n",
              "       1.34000000e+01, 8.90000000e+00, 3.00000000e+01, 1.76000000e+01,\n",
              "       1.78000000e+00, 2.71000000e+00, 5.17000000e+00, 8.30000000e+00,\n",
              "       9.10000000e+00, 5.38000000e+00, 1.63000000e+01, 5.70000000e+00,\n",
              "       1.16000000e+02, 1.39000000e+00, 4.76000000e+00, 8.60000000e+00,\n",
              "       1.58000000e+00, 1.05000000e+00, 2.75000000e+07, 1.52000000e+00,\n",
              "       1.35000000e+00, 1.07800000e+00, 1.09000000e+00, 1.64000000e+00,\n",
              "       1.91000000e+00, 1.46000000e+01, 2.23000000e+00, 2.14000000e+00,\n",
              "       1.67000000e+01, 1.11000000e+00, 5.26000000e+00, 2.44000000e+00,\n",
              "       3.10000000e+01, 1.00900100e+06, 3.01000000e+00, 1.53000000e+00,\n",
              "       5.20600000e+00, 1.90000100e+06, 7.46000000e+00, 1.42000000e+00,\n",
              "       2.30000000e+01, 9.55000000e+00, 2.18000000e+00, 3.40000000e+00,\n",
              "       2.07000000e+00, 3.20000000e+01, 3.42000000e+00, 1.56000000e+01,\n",
              "       1.10000000e-01, 2.24400000e+00, 3.00200000e+00, 2.03000000e+00,\n",
              "       1.22000000e+00, 1.57400000e+00, 2.31000000e+00, 1.26000000e+01,\n",
              "       1.07000000e+00, 1.36000000e+00, 1.06000000e+00, 8.80000000e+00,\n",
              "       1.60000000e-01, 3.04000000e+00, 1.93500000e+00, 6.50000000e+01,\n",
              "       4.54000000e+00, 1.18000000e+00, 2.92000000e+00, 3.11000000e+00,\n",
              "       1.62000000e+00, 1.09100000e+00, 2.94000000e+00, 1.77000000e+00,\n",
              "       1.26000000e+00, 1.25000000e+00, 4.16000000e+00, 2.01000000e+00,\n",
              "       8.00000000e-01, 2.50000000e+01, 1.25516202e+09, 1.17000000e+02,\n",
              "       1.32000000e+02, 2.00000000e+01, 4.43500000e+00, 3.30000000e-01,\n",
              "       1.00010080e+07, 1.10400000e+01, 1.80601040e+07, 5.68000000e+02,\n",
              "       3.92310000e+01, 6.66000000e+02, 1.01000000e+01, 2.13700000e+00,\n",
              "       1.54000000e+00, 2.11000000e+00, 7.20000000e+00, 2.00300000e+00,\n",
              "       6.40000000e+00, 1.37500000e+00, 2.25000000e+00, 7.80000000e+00,\n",
              "       2.01806080e+07, 2.01806200e+07, 4.05000000e+00, 1.85000000e+00,\n",
              "       5.06000000e+00, 2.04000000e+00, 1.06000000e+01, 1.24600000e+00,\n",
              "       1.48000000e+00, 3.15317000e+00, 1.40100000e+00, 2.42000000e+00,\n",
              "       2.50000000e+02, 2.55000000e+00, 3.55000000e+00, 2.22000000e+00,\n",
              "       5.54000000e+00, 1.29000000e+00, 1.12600000e+00, 1.00500000e+01,\n",
              "       2.53000000e+00, 2.13000000e+00, 3.51190000e+01, 2.28000000e+00,\n",
              "       2.21000000e+00, 1.20160000e+00, 2.60000000e+01, 1.33000000e+01,\n",
              "       1.11000000e+01, 1.21000000e+00, 1.20000000e-01, 3.61000000e+00,\n",
              "       2.02000000e+00, 7.60000000e+00, 4.80000000e+00, 1.31000000e+00,\n",
              "       4.72000000e+00, 1.99800000e+00, 1.94000000e+00, 1.98000000e+00,\n",
              "       1.09300000e+00, 1.41000000e+00, 1.06000000e+02, 1.04200000e+00,\n",
              "       4.11000000e+00, 1.21000000e+01, 6.95000000e+00, 7.00000000e-01,\n",
              "       4.19000000e+01, 2.47000000e+00, 2.46000000e+00, 2.38000000e+00,\n",
              "       2.02000000e+02, 4.80000000e+01, 3.82000000e+00, 6.24000000e+00,\n",
              "       3.24000000e+00, 1.41500000e+01, 9.90000000e-01, 4.01000000e+01,\n",
              "       2.49000000e+00, 3.21000000e+00, 4.84000000e+00, 1.82000000e+00,\n",
              "       2.01401000e+03, 2.00000000e+02, 2.79000000e+00, 7.70000000e+00,\n",
              "       4.38000000e+00, 2.01808050e+07, 3.29000000e+00, 7.00000000e+02,\n",
              "       2.95000000e+00, 4.75000000e+00, 1.08400000e+00, 1.56000000e+00,\n",
              "       1.19300000e+00, 1.67000000e+00, 2.01708280e+07, 5.19000000e+00,\n",
              "       5.03000000e+00, 6.70000000e+01, 2.05000000e+00, 1.96000000e+00,\n",
              "       4.70000000e+01, 3.67000000e+00, 2.00000000e-01, 2.98300000e+00,\n",
              "       6.93000000e+00, 5.00000000e-01, 2.57000000e+01, 3.16000000e+00,\n",
              "       1.44000000e+00, 2.20000000e-01, 1.03600000e+01, 3.98000000e+00,\n",
              "       8.50000000e+00, 1.00120000e+01, 1.27000000e+00, 1.70000000e+01,\n",
              "       1.00200000e+00, 2.61000000e+01, 6.91000000e+01, 1.13100000e+00,\n",
              "       1.44100000e+00, 2.51000000e+00, 3.50000000e-01, 3.30000000e+01,\n",
              "       1.40100000e+01, 1.95000000e+00, 6.08000000e+00, 3.33000000e+00,\n",
              "       6.20000000e-01, 2.50720180e+07, 3.45000000e+00, 1.93200000e+00,\n",
              "       5.60000000e+01, 2.15400000e+01, 5.13000000e+00, 8.02000000e+00,\n",
              "       2.72000000e+00, 3.00000000e-01, 3.14007000e+05, 1.00000060e+06,\n",
              "       3.60000000e+01, 6.00000000e-01, 3.07000000e+00, 6.11000000e+00,\n",
              "       2.08000000e+00, 1.59000000e+00, 8.10000000e+01, 2.96000000e+00,\n",
              "       2.00100000e+00, 3.08000000e+00, 5.90000000e-01, 2.52000000e+00,\n",
              "       2.44000000e+01, 7.95000000e+00, 3.95300000e+00, 6.08160000e+04,\n",
              "       1.25000000e+02, 6.80000000e+01, 2.31700000e+01, 3.40000000e+01,\n",
              "       9.00000000e-01, 2.01709200e+07, 2.40000000e-01, 3.53000000e+00,\n",
              "       8.58000000e-01, 2.27000000e+00, 1.74000000e+01, 3.36000000e+00,\n",
              "       1.04040000e+00, 4.10000000e+01, 1.22000000e+01, 8.70000000e+00,\n",
              "       1.02200000e+00, 1.74000000e+00, 1.72000000e+00, 6.04000000e+00])"
            ]
          },
          "metadata": {},
          "execution_count": 146
        }
      ]
    },
    {
      "cell_type": "code",
      "source": [
        "df[\"Current_Ver\"].value_counts()"
      ],
      "metadata": {
        "colab": {
          "base_uri": "https://localhost:8080/",
          "height": 489
        },
        "id": "IRdMazhBQ8O_",
        "outputId": "d3f903a2-9495-47ed-f7a5-6598cd54dfd8"
      },
      "execution_count": 147,
      "outputs": [
        {
          "output_type": "execute_result",
          "data": {
            "text/plain": [
              "Current_Ver\n",
              "1.000000e+00    842\n",
              "1.100000e+00    275\n",
              "1.200000e+00    185\n",
              "2.000000e+00    165\n",
              "1.300000e+00    145\n",
              "               ... \n",
              "1.104000e+01      1\n",
              "1.806010e+07      1\n",
              "5.680000e+02      1\n",
              "3.923100e+01      1\n",
              "6.040000e+00      1\n",
              "Name: count, Length: 468, dtype: int64"
            ],
            "text/html": [
              "<div>\n",
              "<style scoped>\n",
              "    .dataframe tbody tr th:only-of-type {\n",
              "        vertical-align: middle;\n",
              "    }\n",
              "\n",
              "    .dataframe tbody tr th {\n",
              "        vertical-align: top;\n",
              "    }\n",
              "\n",
              "    .dataframe thead th {\n",
              "        text-align: right;\n",
              "    }\n",
              "</style>\n",
              "<table border=\"1\" class=\"dataframe\">\n",
              "  <thead>\n",
              "    <tr style=\"text-align: right;\">\n",
              "      <th></th>\n",
              "      <th>count</th>\n",
              "    </tr>\n",
              "    <tr>\n",
              "      <th>Current_Ver</th>\n",
              "      <th></th>\n",
              "    </tr>\n",
              "  </thead>\n",
              "  <tbody>\n",
              "    <tr>\n",
              "      <th>1.000000e+00</th>\n",
              "      <td>842</td>\n",
              "    </tr>\n",
              "    <tr>\n",
              "      <th>1.100000e+00</th>\n",
              "      <td>275</td>\n",
              "    </tr>\n",
              "    <tr>\n",
              "      <th>1.200000e+00</th>\n",
              "      <td>185</td>\n",
              "    </tr>\n",
              "    <tr>\n",
              "      <th>2.000000e+00</th>\n",
              "      <td>165</td>\n",
              "    </tr>\n",
              "    <tr>\n",
              "      <th>1.300000e+00</th>\n",
              "      <td>145</td>\n",
              "    </tr>\n",
              "    <tr>\n",
              "      <th>...</th>\n",
              "      <td>...</td>\n",
              "    </tr>\n",
              "    <tr>\n",
              "      <th>1.104000e+01</th>\n",
              "      <td>1</td>\n",
              "    </tr>\n",
              "    <tr>\n",
              "      <th>1.806010e+07</th>\n",
              "      <td>1</td>\n",
              "    </tr>\n",
              "    <tr>\n",
              "      <th>5.680000e+02</th>\n",
              "      <td>1</td>\n",
              "    </tr>\n",
              "    <tr>\n",
              "      <th>3.923100e+01</th>\n",
              "      <td>1</td>\n",
              "    </tr>\n",
              "    <tr>\n",
              "      <th>6.040000e+00</th>\n",
              "      <td>1</td>\n",
              "    </tr>\n",
              "  </tbody>\n",
              "</table>\n",
              "<p>468 rows × 1 columns</p>\n",
              "</div><br><label><b>dtype:</b> int64</label>"
            ]
          },
          "metadata": {},
          "execution_count": 147
        }
      ]
    },
    {
      "cell_type": "markdown",
      "source": [
        "#### Handling the Android_Ver column\n",
        "\n",
        "\n"
      ],
      "metadata": {
        "id": "Ukn_NSHhVZ4H"
      }
    },
    {
      "cell_type": "code",
      "source": [
        "len(df[\"Android_Ver\"].unique())"
      ],
      "metadata": {
        "colab": {
          "base_uri": "https://localhost:8080/"
        },
        "id": "RlIQOs4YNiYV",
        "outputId": "2be5e07b-40df-49af-daa8-27068059c331"
      },
      "execution_count": 148,
      "outputs": [
        {
          "output_type": "execute_result",
          "data": {
            "text/plain": [
              "27"
            ]
          },
          "metadata": {},
          "execution_count": 148
        }
      ]
    },
    {
      "cell_type": "code",
      "source": [
        "df[\"Android_Ver\"] = df[\"Android_Ver\"].str[0:3]"
      ],
      "metadata": {
        "id": "OL34Fh9E5fz2"
      },
      "execution_count": 149,
      "outputs": []
    },
    {
      "cell_type": "code",
      "source": [
        "df[\"Android_Ver\"].unique()"
      ],
      "metadata": {
        "colab": {
          "base_uri": "https://localhost:8080/"
        },
        "id": "rn_yNoRvrGkm",
        "outputId": "4b271173-35c4-444b-9c52-66fb1c2aa144"
      },
      "execution_count": 150,
      "outputs": [
        {
          "output_type": "execute_result",
          "data": {
            "text/plain": [
              "array(['4.4', '2.3', '4.0', '4.1', '3.0', '4.2', '5.0', '6.0', '5.1',\n",
              "       '1.5', '2.2', '2.1', '2.0', '1.6', 'Var', '4.3', '7.1', '7.0',\n",
              "       '3.2', '8.0', '3.1', '1.0'], dtype=object)"
            ]
          },
          "metadata": {},
          "execution_count": 150
        }
      ]
    },
    {
      "cell_type": "code",
      "source": [
        "Android_Ver_median = df[df[\"Android_Ver\"]!=\"Var\"][\"Android_Ver\"].astype(float).median()\n",
        "Android_Ver_median"
      ],
      "metadata": {
        "id": "q_EWo1kA8RRM",
        "colab": {
          "base_uri": "https://localhost:8080/"
        },
        "outputId": "bae079ae-6f04-4254-f959-6b77799dd269"
      },
      "execution_count": 151,
      "outputs": [
        {
          "output_type": "execute_result",
          "data": {
            "text/plain": [
              "4.0"
            ]
          },
          "metadata": {},
          "execution_count": 151
        }
      ]
    },
    {
      "cell_type": "code",
      "source": [
        "df[\"Android_Ver\"].replace(\"Var\", Android_Ver_median, inplace=True)"
      ],
      "metadata": {
        "id": "xjJxbztnrbuE"
      },
      "execution_count": 152,
      "outputs": []
    },
    {
      "cell_type": "code",
      "source": [
        "df[\"Android_Ver\"].unique()"
      ],
      "metadata": {
        "id": "5FmlM6IcWbPs",
        "colab": {
          "base_uri": "https://localhost:8080/"
        },
        "outputId": "faa7ae1e-0582-4677-a701-7803e8f4f9c0"
      },
      "execution_count": 153,
      "outputs": [
        {
          "output_type": "execute_result",
          "data": {
            "text/plain": [
              "array(['4.4', '2.3', '4.0', '4.1', '3.0', '4.2', '5.0', '6.0', '5.1',\n",
              "       '1.5', '2.2', '2.1', '2.0', '1.6', 4.0, '4.3', '7.1', '7.0', '3.2',\n",
              "       '8.0', '3.1', '1.0'], dtype=object)"
            ]
          },
          "metadata": {},
          "execution_count": 153
        }
      ]
    },
    {
      "cell_type": "code",
      "source": [
        "df['Android_Ver'] = df['Android_Ver'].astype(float)"
      ],
      "metadata": {
        "id": "-ufEu4Gy8h7F"
      },
      "execution_count": 154,
      "outputs": []
    },
    {
      "cell_type": "code",
      "source": [
        "df[\"Android_Ver\"].unique()"
      ],
      "metadata": {
        "id": "vDMNUPcD6Ni2",
        "colab": {
          "base_uri": "https://localhost:8080/"
        },
        "outputId": "2dd20052-1890-46ab-a6ee-744c955b8fee"
      },
      "execution_count": 155,
      "outputs": [
        {
          "output_type": "execute_result",
          "data": {
            "text/plain": [
              "array([4.4, 2.3, 4. , 4.1, 3. , 4.2, 5. , 6. , 5.1, 1.5, 2.2, 2.1, 2. ,\n",
              "       1.6, 4.3, 7.1, 7. , 3.2, 8. , 3.1, 1. ])"
            ]
          },
          "metadata": {},
          "execution_count": 155
        }
      ]
    },
    {
      "cell_type": "code",
      "source": [
        "df.head()"
      ],
      "metadata": {
        "colab": {
          "base_uri": "https://localhost:8080/",
          "height": 362
        },
        "id": "yRi-sB8Grb0m",
        "outputId": "657fc939-efa4-46f2-d589-f69e2e1fa006"
      },
      "execution_count": 156,
      "outputs": [
        {
          "output_type": "execute_result",
          "data": {
            "text/plain": [
              "                                        App        Category  Rating  Reviews  \\\n",
              "4     Pixel Draw - Number Art Coloring Book  ART_AND_DESIGN     4.3      967   \n",
              "5                Paper flowers instructions  ART_AND_DESIGN     4.4      167   \n",
              "6   Smoke Effect Photo Maker - Smoke Editor  ART_AND_DESIGN     3.8      178   \n",
              "9             Kids Paint Free - Drawing Fun  ART_AND_DESIGN     4.7      121   \n",
              "12           Tattoo Name On My Photo Editor  ART_AND_DESIGN     4.2    44829   \n",
              "\n",
              "    Size  Installs  Type  Price Content_Rating        Genres Last_Updated  \\\n",
              "4    2.8    100000  Free    0.0       Everyone  Art & Design   2018-06-20   \n",
              "5    5.6     50000  Free    0.0       Everyone  Art & Design   2017-03-26   \n",
              "6   19.0     50000  Free    0.0       Everyone  Art & Design   2018-04-26   \n",
              "9    3.1     10000  Free    0.0       Everyone  Art & Design   2018-07-03   \n",
              "12  20.0  10000000  Free    0.0           Teen  Art & Design   2018-04-02   \n",
              "\n",
              "    Current_Ver  Android_Ver  \n",
              "4           1.1          4.4  \n",
              "5           1.0          2.3  \n",
              "6           1.1          4.0  \n",
              "9           2.8          4.0  \n",
              "12          3.8          4.1  "
            ],
            "text/html": [
              "\n",
              "  <div id=\"df-aa1ad5a1-6dad-4f8c-996f-733e2d69a786\" class=\"colab-df-container\">\n",
              "    <div>\n",
              "<style scoped>\n",
              "    .dataframe tbody tr th:only-of-type {\n",
              "        vertical-align: middle;\n",
              "    }\n",
              "\n",
              "    .dataframe tbody tr th {\n",
              "        vertical-align: top;\n",
              "    }\n",
              "\n",
              "    .dataframe thead th {\n",
              "        text-align: right;\n",
              "    }\n",
              "</style>\n",
              "<table border=\"1\" class=\"dataframe\">\n",
              "  <thead>\n",
              "    <tr style=\"text-align: right;\">\n",
              "      <th></th>\n",
              "      <th>App</th>\n",
              "      <th>Category</th>\n",
              "      <th>Rating</th>\n",
              "      <th>Reviews</th>\n",
              "      <th>Size</th>\n",
              "      <th>Installs</th>\n",
              "      <th>Type</th>\n",
              "      <th>Price</th>\n",
              "      <th>Content_Rating</th>\n",
              "      <th>Genres</th>\n",
              "      <th>Last_Updated</th>\n",
              "      <th>Current_Ver</th>\n",
              "      <th>Android_Ver</th>\n",
              "    </tr>\n",
              "  </thead>\n",
              "  <tbody>\n",
              "    <tr>\n",
              "      <th>4</th>\n",
              "      <td>Pixel Draw - Number Art Coloring Book</td>\n",
              "      <td>ART_AND_DESIGN</td>\n",
              "      <td>4.3</td>\n",
              "      <td>967</td>\n",
              "      <td>2.8</td>\n",
              "      <td>100000</td>\n",
              "      <td>Free</td>\n",
              "      <td>0.0</td>\n",
              "      <td>Everyone</td>\n",
              "      <td>Art &amp; Design</td>\n",
              "      <td>2018-06-20</td>\n",
              "      <td>1.1</td>\n",
              "      <td>4.4</td>\n",
              "    </tr>\n",
              "    <tr>\n",
              "      <th>5</th>\n",
              "      <td>Paper flowers instructions</td>\n",
              "      <td>ART_AND_DESIGN</td>\n",
              "      <td>4.4</td>\n",
              "      <td>167</td>\n",
              "      <td>5.6</td>\n",
              "      <td>50000</td>\n",
              "      <td>Free</td>\n",
              "      <td>0.0</td>\n",
              "      <td>Everyone</td>\n",
              "      <td>Art &amp; Design</td>\n",
              "      <td>2017-03-26</td>\n",
              "      <td>1.0</td>\n",
              "      <td>2.3</td>\n",
              "    </tr>\n",
              "    <tr>\n",
              "      <th>6</th>\n",
              "      <td>Smoke Effect Photo Maker - Smoke Editor</td>\n",
              "      <td>ART_AND_DESIGN</td>\n",
              "      <td>3.8</td>\n",
              "      <td>178</td>\n",
              "      <td>19.0</td>\n",
              "      <td>50000</td>\n",
              "      <td>Free</td>\n",
              "      <td>0.0</td>\n",
              "      <td>Everyone</td>\n",
              "      <td>Art &amp; Design</td>\n",
              "      <td>2018-04-26</td>\n",
              "      <td>1.1</td>\n",
              "      <td>4.0</td>\n",
              "    </tr>\n",
              "    <tr>\n",
              "      <th>9</th>\n",
              "      <td>Kids Paint Free - Drawing Fun</td>\n",
              "      <td>ART_AND_DESIGN</td>\n",
              "      <td>4.7</td>\n",
              "      <td>121</td>\n",
              "      <td>3.1</td>\n",
              "      <td>10000</td>\n",
              "      <td>Free</td>\n",
              "      <td>0.0</td>\n",
              "      <td>Everyone</td>\n",
              "      <td>Art &amp; Design</td>\n",
              "      <td>2018-07-03</td>\n",
              "      <td>2.8</td>\n",
              "      <td>4.0</td>\n",
              "    </tr>\n",
              "    <tr>\n",
              "      <th>12</th>\n",
              "      <td>Tattoo Name On My Photo Editor</td>\n",
              "      <td>ART_AND_DESIGN</td>\n",
              "      <td>4.2</td>\n",
              "      <td>44829</td>\n",
              "      <td>20.0</td>\n",
              "      <td>10000000</td>\n",
              "      <td>Free</td>\n",
              "      <td>0.0</td>\n",
              "      <td>Teen</td>\n",
              "      <td>Art &amp; Design</td>\n",
              "      <td>2018-04-02</td>\n",
              "      <td>3.8</td>\n",
              "      <td>4.1</td>\n",
              "    </tr>\n",
              "  </tbody>\n",
              "</table>\n",
              "</div>\n",
              "    <div class=\"colab-df-buttons\">\n",
              "\n",
              "  <div class=\"colab-df-container\">\n",
              "    <button class=\"colab-df-convert\" onclick=\"convertToInteractive('df-aa1ad5a1-6dad-4f8c-996f-733e2d69a786')\"\n",
              "            title=\"Convert this dataframe to an interactive table.\"\n",
              "            style=\"display:none;\">\n",
              "\n",
              "  <svg xmlns=\"http://www.w3.org/2000/svg\" height=\"24px\" viewBox=\"0 -960 960 960\">\n",
              "    <path d=\"M120-120v-720h720v720H120Zm60-500h600v-160H180v160Zm220 220h160v-160H400v160Zm0 220h160v-160H400v160ZM180-400h160v-160H180v160Zm440 0h160v-160H620v160ZM180-180h160v-160H180v160Zm440 0h160v-160H620v160Z\"/>\n",
              "  </svg>\n",
              "    </button>\n",
              "\n",
              "  <style>\n",
              "    .colab-df-container {\n",
              "      display:flex;\n",
              "      gap: 12px;\n",
              "    }\n",
              "\n",
              "    .colab-df-convert {\n",
              "      background-color: #E8F0FE;\n",
              "      border: none;\n",
              "      border-radius: 50%;\n",
              "      cursor: pointer;\n",
              "      display: none;\n",
              "      fill: #1967D2;\n",
              "      height: 32px;\n",
              "      padding: 0 0 0 0;\n",
              "      width: 32px;\n",
              "    }\n",
              "\n",
              "    .colab-df-convert:hover {\n",
              "      background-color: #E2EBFA;\n",
              "      box-shadow: 0px 1px 2px rgba(60, 64, 67, 0.3), 0px 1px 3px 1px rgba(60, 64, 67, 0.15);\n",
              "      fill: #174EA6;\n",
              "    }\n",
              "\n",
              "    .colab-df-buttons div {\n",
              "      margin-bottom: 4px;\n",
              "    }\n",
              "\n",
              "    [theme=dark] .colab-df-convert {\n",
              "      background-color: #3B4455;\n",
              "      fill: #D2E3FC;\n",
              "    }\n",
              "\n",
              "    [theme=dark] .colab-df-convert:hover {\n",
              "      background-color: #434B5C;\n",
              "      box-shadow: 0px 1px 3px 1px rgba(0, 0, 0, 0.15);\n",
              "      filter: drop-shadow(0px 1px 2px rgba(0, 0, 0, 0.3));\n",
              "      fill: #FFFFFF;\n",
              "    }\n",
              "  </style>\n",
              "\n",
              "    <script>\n",
              "      const buttonEl =\n",
              "        document.querySelector('#df-aa1ad5a1-6dad-4f8c-996f-733e2d69a786 button.colab-df-convert');\n",
              "      buttonEl.style.display =\n",
              "        google.colab.kernel.accessAllowed ? 'block' : 'none';\n",
              "\n",
              "      async function convertToInteractive(key) {\n",
              "        const element = document.querySelector('#df-aa1ad5a1-6dad-4f8c-996f-733e2d69a786');\n",
              "        const dataTable =\n",
              "          await google.colab.kernel.invokeFunction('convertToInteractive',\n",
              "                                                    [key], {});\n",
              "        if (!dataTable) return;\n",
              "\n",
              "        const docLinkHtml = 'Like what you see? Visit the ' +\n",
              "          '<a target=\"_blank\" href=https://colab.research.google.com/notebooks/data_table.ipynb>data table notebook</a>'\n",
              "          + ' to learn more about interactive tables.';\n",
              "        element.innerHTML = '';\n",
              "        dataTable['output_type'] = 'display_data';\n",
              "        await google.colab.output.renderOutput(dataTable, element);\n",
              "        const docLink = document.createElement('div');\n",
              "        docLink.innerHTML = docLinkHtml;\n",
              "        element.appendChild(docLink);\n",
              "      }\n",
              "    </script>\n",
              "  </div>\n",
              "\n",
              "\n",
              "<div id=\"df-4d8bfb52-ef1a-4da7-85e7-058c846a88c3\">\n",
              "  <button class=\"colab-df-quickchart\" onclick=\"quickchart('df-4d8bfb52-ef1a-4da7-85e7-058c846a88c3')\"\n",
              "            title=\"Suggest charts\"\n",
              "            style=\"display:none;\">\n",
              "\n",
              "<svg xmlns=\"http://www.w3.org/2000/svg\" height=\"24px\"viewBox=\"0 0 24 24\"\n",
              "     width=\"24px\">\n",
              "    <g>\n",
              "        <path d=\"M19 3H5c-1.1 0-2 .9-2 2v14c0 1.1.9 2 2 2h14c1.1 0 2-.9 2-2V5c0-1.1-.9-2-2-2zM9 17H7v-7h2v7zm4 0h-2V7h2v10zm4 0h-2v-4h2v4z\"/>\n",
              "    </g>\n",
              "</svg>\n",
              "  </button>\n",
              "\n",
              "<style>\n",
              "  .colab-df-quickchart {\n",
              "      --bg-color: #E8F0FE;\n",
              "      --fill-color: #1967D2;\n",
              "      --hover-bg-color: #E2EBFA;\n",
              "      --hover-fill-color: #174EA6;\n",
              "      --disabled-fill-color: #AAA;\n",
              "      --disabled-bg-color: #DDD;\n",
              "  }\n",
              "\n",
              "  [theme=dark] .colab-df-quickchart {\n",
              "      --bg-color: #3B4455;\n",
              "      --fill-color: #D2E3FC;\n",
              "      --hover-bg-color: #434B5C;\n",
              "      --hover-fill-color: #FFFFFF;\n",
              "      --disabled-bg-color: #3B4455;\n",
              "      --disabled-fill-color: #666;\n",
              "  }\n",
              "\n",
              "  .colab-df-quickchart {\n",
              "    background-color: var(--bg-color);\n",
              "    border: none;\n",
              "    border-radius: 50%;\n",
              "    cursor: pointer;\n",
              "    display: none;\n",
              "    fill: var(--fill-color);\n",
              "    height: 32px;\n",
              "    padding: 0;\n",
              "    width: 32px;\n",
              "  }\n",
              "\n",
              "  .colab-df-quickchart:hover {\n",
              "    background-color: var(--hover-bg-color);\n",
              "    box-shadow: 0 1px 2px rgba(60, 64, 67, 0.3), 0 1px 3px 1px rgba(60, 64, 67, 0.15);\n",
              "    fill: var(--button-hover-fill-color);\n",
              "  }\n",
              "\n",
              "  .colab-df-quickchart-complete:disabled,\n",
              "  .colab-df-quickchart-complete:disabled:hover {\n",
              "    background-color: var(--disabled-bg-color);\n",
              "    fill: var(--disabled-fill-color);\n",
              "    box-shadow: none;\n",
              "  }\n",
              "\n",
              "  .colab-df-spinner {\n",
              "    border: 2px solid var(--fill-color);\n",
              "    border-color: transparent;\n",
              "    border-bottom-color: var(--fill-color);\n",
              "    animation:\n",
              "      spin 1s steps(1) infinite;\n",
              "  }\n",
              "\n",
              "  @keyframes spin {\n",
              "    0% {\n",
              "      border-color: transparent;\n",
              "      border-bottom-color: var(--fill-color);\n",
              "      border-left-color: var(--fill-color);\n",
              "    }\n",
              "    20% {\n",
              "      border-color: transparent;\n",
              "      border-left-color: var(--fill-color);\n",
              "      border-top-color: var(--fill-color);\n",
              "    }\n",
              "    30% {\n",
              "      border-color: transparent;\n",
              "      border-left-color: var(--fill-color);\n",
              "      border-top-color: var(--fill-color);\n",
              "      border-right-color: var(--fill-color);\n",
              "    }\n",
              "    40% {\n",
              "      border-color: transparent;\n",
              "      border-right-color: var(--fill-color);\n",
              "      border-top-color: var(--fill-color);\n",
              "    }\n",
              "    60% {\n",
              "      border-color: transparent;\n",
              "      border-right-color: var(--fill-color);\n",
              "    }\n",
              "    80% {\n",
              "      border-color: transparent;\n",
              "      border-right-color: var(--fill-color);\n",
              "      border-bottom-color: var(--fill-color);\n",
              "    }\n",
              "    90% {\n",
              "      border-color: transparent;\n",
              "      border-bottom-color: var(--fill-color);\n",
              "    }\n",
              "  }\n",
              "</style>\n",
              "\n",
              "  <script>\n",
              "    async function quickchart(key) {\n",
              "      const quickchartButtonEl =\n",
              "        document.querySelector('#' + key + ' button');\n",
              "      quickchartButtonEl.disabled = true;  // To prevent multiple clicks.\n",
              "      quickchartButtonEl.classList.add('colab-df-spinner');\n",
              "      try {\n",
              "        const charts = await google.colab.kernel.invokeFunction(\n",
              "            'suggestCharts', [key], {});\n",
              "      } catch (error) {\n",
              "        console.error('Error during call to suggestCharts:', error);\n",
              "      }\n",
              "      quickchartButtonEl.classList.remove('colab-df-spinner');\n",
              "      quickchartButtonEl.classList.add('colab-df-quickchart-complete');\n",
              "    }\n",
              "    (() => {\n",
              "      let quickchartButtonEl =\n",
              "        document.querySelector('#df-4d8bfb52-ef1a-4da7-85e7-058c846a88c3 button');\n",
              "      quickchartButtonEl.style.display =\n",
              "        google.colab.kernel.accessAllowed ? 'block' : 'none';\n",
              "    })();\n",
              "  </script>\n",
              "</div>\n",
              "\n",
              "    </div>\n",
              "  </div>\n"
            ],
            "application/vnd.google.colaboratory.intrinsic+json": {
              "type": "dataframe",
              "variable_name": "df",
              "summary": "{\n  \"name\": \"df\",\n  \"rows\": 3577,\n  \"fields\": [\n    {\n      \"column\": \"App\",\n      \"properties\": {\n        \"dtype\": \"string\",\n        \"num_unique_values\": 3450,\n        \"samples\": [\n          \"Traffic signs BD\",\n          \"Colors of white in Urdu\",\n          \"Photo Mixer\"\n        ],\n        \"semantic_type\": \"\",\n        \"description\": \"\"\n      }\n    },\n    {\n      \"column\": \"Category\",\n      \"properties\": {\n        \"dtype\": \"category\",\n        \"num_unique_values\": 33,\n        \"samples\": [\n          \"NEWS_AND_MAGAZINES\",\n          \"LIBRARIES_AND_DEMO\",\n          \"PERSONALIZATION\"\n        ],\n        \"semantic_type\": \"\",\n        \"description\": \"\"\n      }\n    },\n    {\n      \"column\": \"Rating\",\n      \"properties\": {\n        \"dtype\": \"number\",\n        \"std\": 0.5076522033655936,\n        \"min\": 1.0,\n        \"max\": 5.0,\n        \"num_unique_values\": 38,\n        \"samples\": [\n          1.4,\n          2.5,\n          4.2\n        ],\n        \"semantic_type\": \"\",\n        \"description\": \"\"\n      }\n    },\n    {\n      \"column\": \"Reviews\",\n      \"properties\": {\n        \"dtype\": \"number\",\n        \"std\": 468614,\n        \"min\": 0,\n        \"max\": 9883806,\n        \"num_unique_values\": 1601,\n        \"samples\": [\n          54207,\n          520962,\n          11904\n        ],\n        \"semantic_type\": \"\",\n        \"description\": \"\"\n      }\n    },\n    {\n      \"column\": \"Size\",\n      \"properties\": {\n        \"dtype\": \"number\",\n        \"std\": 122.5851537649059,\n        \"min\": 1.0,\n        \"max\": 1020.0,\n        \"num_unique_values\": 323,\n        \"samples\": [\n          79.0,\n          80.0,\n          293.0\n        ],\n        \"semantic_type\": \"\",\n        \"description\": \"\"\n      }\n    },\n    {\n      \"column\": \"Installs\",\n      \"properties\": {\n        \"dtype\": \"number\",\n        \"std\": 9687807,\n        \"min\": 0,\n        \"max\": 100000000,\n        \"num_unique_values\": 18,\n        \"samples\": [\n          100000,\n          50000,\n          1000\n        ],\n        \"semantic_type\": \"\",\n        \"description\": \"\"\n      }\n    },\n    {\n      \"column\": \"Type\",\n      \"properties\": {\n        \"dtype\": \"category\",\n        \"num_unique_values\": 2,\n        \"samples\": [\n          \"Paid\",\n          \"Free\"\n        ],\n        \"semantic_type\": \"\",\n        \"description\": \"\"\n      }\n    },\n    {\n      \"column\": \"Price\",\n      \"properties\": {\n        \"dtype\": \"number\",\n        \"std\": 23.41090036719272,\n        \"min\": 0.0,\n        \"max\": 399.99,\n        \"num_unique_values\": 59,\n        \"samples\": [\n          0.0,\n          0.99\n        ],\n        \"semantic_type\": \"\",\n        \"description\": \"\"\n      }\n    },\n    {\n      \"column\": \"Content_Rating\",\n      \"properties\": {\n        \"dtype\": \"category\",\n        \"num_unique_values\": 5,\n        \"samples\": [\n          \"Teen\",\n          \"Unrated\"\n        ],\n        \"semantic_type\": \"\",\n        \"description\": \"\"\n      }\n    },\n    {\n      \"column\": \"Genres\",\n      \"properties\": {\n        \"dtype\": \"category\",\n        \"num_unique_values\": 47,\n        \"samples\": [\n          \"Music\",\n          \"Parenting\"\n        ],\n        \"semantic_type\": \"\",\n        \"description\": \"\"\n      }\n    },\n    {\n      \"column\": \"Last_Updated\",\n      \"properties\": {\n        \"dtype\": \"date\",\n        \"min\": \"2010-05-21 00:00:00\",\n        \"max\": \"2018-08-07 00:00:00\",\n        \"num_unique_values\": 1099,\n        \"samples\": [\n          \"2015-07-19 00:00:00\",\n          \"2016-05-05 00:00:00\"\n        ],\n        \"semantic_type\": \"\",\n        \"description\": \"\"\n      }\n    },\n    {\n      \"column\": \"Current_Ver\",\n      \"properties\": {\n        \"dtype\": \"number\",\n        \"std\": 21019028.90406262,\n        \"min\": 0.1,\n        \"max\": 1255162018.0,\n        \"num_unique_values\": 468,\n        \"samples\": [\n          1.23,\n          4.2\n        ],\n        \"semantic_type\": \"\",\n        \"description\": \"\"\n      }\n    },\n    {\n      \"column\": \"Android_Ver\",\n      \"properties\": {\n        \"dtype\": \"number\",\n        \"std\": 0.8958162935156786,\n        \"min\": 1.0,\n        \"max\": 8.0,\n        \"num_unique_values\": 21,\n        \"samples\": [\n          4.4,\n          3.2\n        ],\n        \"semantic_type\": \"\",\n        \"description\": \"\"\n      }\n    }\n  ]\n}"
            }
          },
          "metadata": {},
          "execution_count": 156
        }
      ]
    },
    {
      "cell_type": "markdown",
      "source": [
        "# **Data Visualization**  :"
      ],
      "metadata": {
        "id": "wscZ3A4TFAne"
      }
    },
    {
      "cell_type": "markdown",
      "source": [
        " Investigate relationships between app Ratings, Reviews, and Installs."
      ],
      "metadata": {
        "id": "eGNQkU6psIN5"
      }
    },
    {
      "cell_type": "code",
      "source": [
        "corr = df[['Rating', 'Reviews', 'Installs']].corr()\n",
        "print(corr)"
      ],
      "metadata": {
        "colab": {
          "base_uri": "https://localhost:8080/"
        },
        "id": "1z0zWrj6kVbd",
        "outputId": "6b181759-f86e-4440-a6bd-094a491aecec"
      },
      "execution_count": 157,
      "outputs": [
        {
          "output_type": "stream",
          "name": "stdout",
          "text": [
            "            Rating   Reviews  Installs\n",
            "Rating    1.000000  0.064519  0.051933\n",
            "Reviews   0.064519  1.000000  0.779954\n",
            "Installs  0.051933  0.779954  1.000000\n"
          ]
        }
      ]
    },
    {
      "cell_type": "code",
      "source": [
        "sns.heatmap(corr, annot=True, cmap='coolwarm', square=True)\n",
        "plt.title('Correlation Matrix')\n",
        "plt.show()"
      ],
      "metadata": {
        "colab": {
          "base_uri": "https://localhost:8080/",
          "height": 537
        },
        "id": "jvIas4xduXDt",
        "outputId": "32b4835b-9197-4c27-f207-8bd64607ed4d"
      },
      "execution_count": 158,
      "outputs": [
        {
          "output_type": "display_data",
          "data": {
            "text/plain": [
              "<Figure size 1000x600 with 2 Axes>"
            ],
            "image/png": "[encoded data removed]"
          },
          "metadata": {}
        }
      ]
    },
    {
      "cell_type": "markdown",
      "source": [
        "Insights:\n",
        "\n",
        "1. There's a weak positive relationship between app rating and reviews.\n",
        "2. There's a weak positive relationship between app rating and installs.\n",
        "3. There's a strong positive relationship between reviews and installs.\n",
        "\n",
        "This suggests that:\n",
        "\n",
        "- Increasing reviews tends to lead to more installs.\n",
        "- Improving app rating may have a slight positive impact on reviews and installs."
      ],
      "metadata": {
        "id": "M80mb4Nrv5Je"
      }
    },
    {
      "cell_type": "markdown",
      "source": [
        "####Pie plot for the Type column"
      ],
      "metadata": {
        "id": "s7Rnj7s_khEA"
      }
    },
    {
      "cell_type": "code",
      "source": [
        "plt.rcParams['figure.figsize'] = (10, 6)\n",
        "y = df[\"Type\"].value_counts()\n",
        "mylabels = [\"Free\", \"Paid\"]\n",
        "myexplode = [0.1, 0,]\n",
        "mycolors = [\"#58E146\", \"g\"]\n",
        "plt.title(\"Distribution of Free & Paid Applications\")\n",
        "plt.pie(y, labels = mylabels, colors = mycolors, explode = myexplode, autopct='%1.1f%%')\n",
        "plt.show()"
      ],
      "metadata": {
        "colab": {
          "base_uri": "https://localhost:8080/",
          "height": 517
        },
        "id": "hHhZfE4fk0Kr",
        "outputId": "baa594f6-59d0-475c-ddef-b86289da262e"
      },
      "execution_count": 159,
      "outputs": [
        {
          "output_type": "display_data",
          "data": {
            "text/plain": [
              "<Figure size 1000x600 with 1 Axes>"
            ],
            "image/png": "[encoded data removed]"
          },
          "metadata": {}
        }
      ]
    },
    {
      "cell_type": "markdown",
      "source": [
        "####Identifying the distribution of paid and free apps. Free apps are more than Paid apps."
      ],
      "metadata": {
        "id": "DmzfkLPoUeAl"
      }
    },
    {
      "cell_type": "code",
      "source": [
        "# Filter paid applications\n",
        "paid_apps = df[df['Type'] == 'Paid']\n",
        "\n",
        "# Calculate revenue\n",
        "revenue = (paid_apps['Installs'] * paid_apps['Price']).sum()\n",
        "\n",
        "print(\"Total Revenue from paid applications is :\", revenue)\n",
        "\n",
        "#Revenue for each paid application separately:\n",
        "paid_apps['Revenue'] = paid_apps['Installs'] * paid_apps['Price']\n",
        "print(paid_apps)\n"
      ],
      "metadata": {
        "colab": {
          "base_uri": "https://localhost:8080/"
        },
        "id": "OrXlku1wSJSb",
        "outputId": "468dde13-4b95-4ab3-d179-31b00a6d1d96"
      },
      "execution_count": 160,
      "outputs": [
        {
          "output_type": "stream",
          "name": "stdout",
          "text": [
            "Total Revenue from paid applications is : 107631328.47999999\n",
            "                                          App       Category  Rating  Reviews  \\\n",
            "478                         Truth or Dare Pro         DATING     4.3        0   \n",
            "480                      Ad Blocker for SayHi         DATING     4.3        4   \n",
            "851                       Sago Mini Hat Maker      EDUCATION     4.9       11   \n",
            "852    Fuzzy Numbers: Pre-K Number Foundation      EDUCATION     4.7       21   \n",
            "1001                           Meme Generator  ENTERTAINMENT     4.6     3771   \n",
            "...                                       ...            ...     ...      ...   \n",
            "10697                                 Mu.F.O.           GAME     5.0        2   \n",
            "10735                             FP VoiceBot         FAMILY     4.3       17   \n",
            "10782                 Trine 2: Complete Story           GAME     3.8      252   \n",
            "10785                            sugar, sugar         FAMILY     4.2     1405   \n",
            "10798                    Word Search Tab 1 FR         FAMILY     4.3        0   \n",
            "\n",
            "         Size  Installs  Type  Price Content_Rating         Genres  \\\n",
            "478      20.0        50  Paid   1.49           Teen         Dating   \n",
            "480       1.2       100  Paid   3.99           Teen         Dating   \n",
            "851      63.0      1000  Paid   3.99       Everyone      Education   \n",
            "852      44.0      1000  Paid   5.99       Everyone      Education   \n",
            "1001     53.0    100000  Paid   2.99     Mature 17+  Entertainment   \n",
            "...       ...       ...   ...    ...            ...            ...   \n",
            "10697    16.0         1  Paid   0.99       Everyone         Arcade   \n",
            "10735   157.0       100  Paid   0.99     Mature 17+  Entertainment   \n",
            "10782    11.0     10000  Paid  16.99           Teen         Action   \n",
            "10785     9.5     10000  Paid   1.20       Everyone         Puzzle   \n",
            "10798  1020.0        50  Paid   1.04       Everyone         Puzzle   \n",
            "\n",
            "      Last_Updated  Current_Ver  Android_Ver    Revenue  \n",
            "478     2017-09-01        1.000          4.0      74.50  \n",
            "480     2018-08-02        1.200          4.0     399.00  \n",
            "851     2017-07-24        1.000          4.0    3990.00  \n",
            "852     2017-07-21        1.300          4.1    5990.00  \n",
            "1001    2018-08-03        4.426          4.1  299000.00  \n",
            "...            ...          ...          ...        ...  \n",
            "10697   2017-03-03        1.000          2.3       0.99  \n",
            "10735   2015-11-25        1.200          2.1      99.00  \n",
            "10782   2015-02-27        2.220          5.0  169900.00  \n",
            "10785   2018-06-05        2.700          2.3   12000.00  \n",
            "10798   2012-02-06        1.100          3.0      52.00  \n",
            "\n",
            "[336 rows x 14 columns]\n"
          ]
        }
      ]
    },
    {
      "cell_type": "markdown",
      "source": [
        "#### Here we use Plotly Express which provides a high-level interface for creating interactive, web-based visualizations.\n",
        "1. Faster plot creation: Plotly Express reduces the amount of code required.\n",
        "2. Improved readability: Plotly Express code is more concise and readable."
      ],
      "metadata": {
        "id": "PmI95dCta7aK"
      }
    },
    {
      "cell_type": "code",
      "source": [
        "fig = px.bar(paid_apps, x='App', y='Revenue')\n",
        "fig.show()"
      ],
      "metadata": {
        "colab": {
          "base_uri": "https://localhost:8080/",
          "height": 542
        },
        "id": "ilcLoZ7yOVB4",
        "outputId": "c6445ebd-2ca4-453b-a8f9-1a89905bc7f0"
      },
      "execution_count": 161,
      "outputs": [
        {
          "output_type": "display_data",
          "data": {
            "text/html": [
              "<html>\n",
              "<head><meta charset=\"utf-8\" /></head>\n",
              "<body>\n",
              "    <div>            <script src=\"https://cdnjs.cloudflare.com/ajax/libs/mathjax/2.7.5/MathJax.js?config=TeX-AMS-MML_SVG\"></script><script type=\"text/javascript\">if (window.MathJax && window.MathJax.Hub && window.MathJax.Hub.Config) {window.MathJax.Hub.Config({SVG: {font: \"STIX-Web\"}});}</script>                <script type=\"text/javascript\">window.PlotlyConfig = {MathJaxConfig: 'local'};</script>\n",
              "        <script charset=\"utf-8\" src=\"https://cdn.plot.ly/plotly-2.35.2.min.js\"></script>                <div id=\"5fa5bfbf-7c8b-4692-a7e1-d1bd3c940b7c\" class=\"plotly-graph-div\" style=\"height:525px; width:100%;\"></div>            <script type=\"text/javascript\">                                    window.PLOTLYENV=window.PLOTLYENV || {};                                    if (document.getElementById(\"5fa5bfbf-7c8b-4692-a7e1-d1bd3c940b7c\")) {                    Plotly.newPlot(                        \"5fa5bfbf-7c8b-4692-a7e1-d1bd3c940b7c\",                        [{\"alignmentgroup\":\"True\",\"hovertemplate\":\"App=%{x}\\u003cbr\\u003eRevenue=%{y}\\u003cextra\\u003e\\u003c\\u002fextra\\u003e\",\"legendgroup\":\"\",\"marker\":{\"color\":\"#636efa\",\"pattern\":{\"shape\":\"\"}},\"name\":\"\",\"offsetgroup\":\"\",\"orientation\":\"v\",\"showlegend\":false,\"textposition\":\"auto\",\"x\":[\"Truth or Dare Pro\",\"Ad Blocker for SayHi\",\"Sago Mini Hat Maker\",\"Fuzzy Numbers: Pre-K Number Foundation\",\"Meme Generator\",\"My Little Princess : Stores\",\"Sago Mini Big City\",\"All-in-One Mahjong 3\",\"World Racers family board game\",\"SweetLand — Family Board Game\",\"Whoowasit? - Best kids game!\",\"Nighty Night Circus\",\"Sago Mini Babies\",\"Dr. Panda & Toto's Treehouse\",\"Nighty Night Circus\",\"Sago Mini Babies\",\"Dr. Panda & Toto's Treehouse\",\"Vargo Anesthesia Mega App\",\"ASRA Coags\",\"Super Hearing Secret Voices Recorder PRO\",\"EMT Study - NREMT Test Prep\",\"Arrhythmias and Dysrhythmias\",\"Pocket Lab Values\",\"Cardiac diagnosis (heart rate, arrhythmia)\",\"ERres- Emergency Medicine\",\"FHR 5-Tier 2.0\",\"AnatomyMapp\",\"OptoDrum\",\"CCHT PREP\",\"Advanced Comprehension Therapy\",\"Lab Values + Medical Reference\",\"Anti Mosquito simulation\",\"Pain Tracker & Diary\",\"Whist - Tinnitus Relief\",\"End Anxiety Pro - Stress, Panic Attack Help\",\"Number Therapy\",\"EMT Tutor NREMT-B Study Guide\",\"PTA Content Master\",\"Nursing Care Plan NANDA Tables\",\"palmPEDi: Pediatric Tape\",\"Vargo Anesthesia Mega App\",\"AnatomyMapp\",\"PTA Content Master\",\"Cardiac diagnosis (heart rate, arrhythmia)\",\"Advanced Comprehension Therapy\",\"Visualmed\",\"ABG Master\",\"Be the Expert in Phlebotomy - Professional Nursing\",\"Lapse It • Time Lapse • Pro\",\"Kairo XP (for HD Widgets)\",\"Weather Live Pro\",\"ADS-B Driver\",\"B-17 Flying Fortress WWII LWP\",\"Smart Launcher theme b. gold\",\"EMT Tutor NREMT-B Study Guide\",\"Next Launcher 3D Theme Hit-B\",\"Koi Live Wallpaper\",\"F-Stop Gallery Pro\",\"Speech Therapy: F\",\"Norwegian For Kids & Babies F\",\"F Length Sim (no Ads)\",\"Arto: f.infrared photo\",\"G Cloud Apps Backup Key * root\",\"Next Launcher 3D Theme Hit-G\",\"G-Playlists\",\"Ramfer - CNC Lathe G-code Tool\",\"G-Force Driving Assistant\",\"G-NetTrack Pro\",\"G-NetReport Pro\",\"Dialer theme G Black Gold\",\"G-NetWiFi Pro\",\"H*nest Meditation\",\"Deaf - Hearing chat device H\",\"most expensive app (H)\",\"J Alvarej Moji\",\"K.MOJI\",\"Math Games for Pre-K - Grade 4\",\"Fuzzy Numbers: Pre-K Number Foundation\",\"Traps n' Gemstones\",\"Dark Infusion Substratum Theme for Android N & O\",\"Jump'N'Shoot Attack\",\"Stand O’Food® (Full)\",\"Detect-O-Gromit (D.O.G 2)\",\"Prime Key for Nougat Launcher& O Launcher &KitKat\",\"Theme Android P Design for LG V30\",\"Theme Android P for LG G7 & V35\",\"Volume Slider Like Android P Volume Control\",\"Popsicle Launcher for Android P 9.0 launcher\",\"Theme Android P Black design for LG V30\",\"Theme Android P Black for LG G7 & V35\",\"Android P Style Icon Pack\",\"Pixel Oreo\\u002fP Dark White AMOLED UI - Icon Pack\",\"Q-slope\",\"R Instructor\",\"Day R Premium\",\"Neon-R (Red)\",\"S Launcher Pro for Galaxy\",\"PitchBlack S - Samsung Substratum Theme “For Oreo”\",\"Shopping List S PRO\",\"Don't Starve: Pocket Edition\",\"Please Don't Touch Anything 3D\",\"Don't Starve: Shipwrecked\",\"Jurassic Life: T Rex Simulator\",\"Kicker U\",\"Mental Hospital V\",\"W Pro - Weather Forecast & Animated Weather Maps\",\"W-History Standalone\",\"weather HD\",\"X-Plane to GPS\",\"X Construction\",\"X Home Bar - Home Bar Gesture Pro\",\"Z Origins - (Z The Game)\",\"Z PIVOT\",\"WhatsFake Pro (Ad free)\",\"Ad Removal: thereisonlywe\",\"RAM Cleanup Ad-Free Option\",\"Easy Hotspot Ad Free\",\"NewTek NDI\",\"AF-STROKE\",\"Michael's AG Sound Board\",\"The Artificial Intelligence Project (A.I. Chat)\",\"Age of AI: War Strategy\",\"AJ Jump: Animal Jam Kangaroos!\",\"Watch Face Swiss AJ-6\",\"AJ Gray Icon Pack\",\"AJ Gray Dark Icon Pack\",\"AJ Blue Icon Pack\",\"AJ Turquoise Dark Icon Pack\",\"AJ Orange Icon Pack\",\"I am rich\",\"I am Rich Plus\",\"I Am Rich Premium\",\"I am extremely Rich\",\"I am Rich!\",\"I am rich(premium)\",\"I am Rich Person\",\"I am Rich Premium Plus\",\"I Am Rich Pro\",\"I am rich (Most expensive app)\",\"I Am Rich\",\"I am Rich\",\"I am Millionaire - Richest guy in the town\",\"The Hunt for the Lost Treasure\",\"Gravidez ao Vivo\",\"AP Government Review\",\"500 AP World History Questions\",\"iScore5 AP Psych\",\"meStudying: AP English Lit\",\"AP Series Solution Pro\",\"AP Art History Flashcards\",\"Sleep as Android Unlock\",\"Lullaby Add-on for Sleep as Android\",\"Five Nights at Freddy's 2\",\"Five Nights at Freddy's\",\"Five Nights at Freddy's: SL\",\"Five Nights at Freddy's 4\",\"Five Nights at Freddy's 3\",\"Ai-Ball AV Recorder\",\"Analog Clock AW-7 PRO\",\"Analog and Digital Clock AW-7PRO\",\"INTERACTIVE CALCULUS PRO\",\"AX Watch for WatchMaker\",\"¡Ay Caramba!\",\"YAKALA AY\",\"Alif Ba Ta Bullseye\",\"Learn Quran with Elif Ba\",\"PROFESSOR SEE-BA LINGUAGENS E SUAS TECNOLOGIAS\",\"Ain Arabic Kids Alif Ba ta\",\"Hunt Buddy BC\",\"iFish BC\",\"Ice Crush 10.000 B.C.\",\"BC MVA Fines\",\"Car Driving Theory Test BC\",\"Truck Driving Test Class 3 BC\",\"My Virtual Boyfriend\",\"Droid PRoCon BF3\",\"Es-Bg Offline Voice Translator\",\"Baldur's Gate: Enhanced Edition\",\"Backgammon NJ for Android\",\"CSCS BG (в български)\",\"Bi-Tank Ads Free\",\"BI Barcode Scanner\",\"Power Widget\",\"SLANGY-Perfect BK World Theme\",\"Bk Bee Sales Manager\",\"Chess of Blades (BL\\u002fYaoi Game) (No VA)\",\"Basket Manager 2018 Pro\",\"Basket Manager 2016 Pro\",\"Basket Manager 2017 Pro\",\"Bo's Bedtime Story\",\"Dr.Dice - Sic bo analyzer\",\"Bo's Matching Game\",\"Bo's Dinnertime Story\",\"Bo's School Day\",\"QR Code Pro\",\"BS Detector - Diss 'n' Gauges\",\"17th Edition Cable Sizer\",\"USB BT Wi-Fi Color Terminal Modem\",\"My Budget Book\",\"BlackCam Pro - B&W Camera\",\"Color Changer Pro [root]\",\"Bixby Button Remapper - bxActions Pro \\u002f Coffee\",\"Bitcoin BX Thailand PRO\",\"Lollipop Launcher Plus\",\"Trinomial Factoring Wizard\",\"California Cop Assist CA Cop\",\"CA Speakers\",\"CB Frequencies\",\"Antenna Tool Premium\",\"Frequencies\",\"Билеты ПДД CD 2019 PRO\",\"CE Map - Interactive Conan Exiles Map\",\"Theatre of the Absurd CE(Full)\",\"AC CE BJT Actorial\",\"CE Genius Nurses Edition\",\"CF-Bench Pro\",\"Next Launcher 3D Bold-CF Theme\",\"FAV KWGT\",\"Reading Race 1b: sh, ch words\",\"Speech Therapy: CH\",\"ch-mm Dict\",\"Paris ci la Sortie du Métro\",\"CI 174 Gray Icon Pack\",\"Grand Theft Auto: San Andreas\",\"211:CK\",\"USMLE Step 2 CK Flashcards\",\"FREE CHATS C.L.\",\"OMEGA Black UI Theme - CM 12+\",\"Wuwu & Co.\",\"DCUO|CR Calculator Pro\",\"Jetting for Honda CR dirt bike\",\"CamScanner (License)\",\"CS go bomb simulator\",\"CT-REMOTE\",\"Abdominal CT Sectional Walker\",\"CT and XR Dose Calculator\",\"Chest CT Sectional Walker\",\"Radiological Anatomy For FRCR1\",\"Navigator PRO - GPS Navigation with Offline Maps\",\"Super Resume Builder Pro, CV\",\"Morse Decoder for Ham Radio\",\"CW Studio ®\",\"Morse Trainer for Ham Radio\",\"Learn CW\",\"Absolute RC Heli Simulator\",\"10,000 Quotes DB (Premium)\",\"LC-DB\",\"AC DC Power Monitor\",\"Técnico Legislativo Câmara Legislativa DF\",\"Cargo de Praça PM DF\",\"Droidbug BusyBox Advance PRO\",\"Diseño de columnas NTC - RSEE 2017\",\"DG Surveyor\",\"Dungeons and Dragons DM Tools\",\"DM Die Roller 9000\",\"Cossack Dictionary (DN)\",\"MC.Fitting\",\"Dr. Panda Farm\",\"DR.MEEP\",\"Dr. Panda Art Class\",\"Dr. Panda's Swimming Pool\",\"Dr. Panda & Toto's Treehouse\",\"Dr. Splorchy Presents Space Heroes\",\"Dr. McDougall Mobile Cookbook\",\"Dr. Seuss's ABC\",\"Dr. Panda Hospital\",\"Dr. Panda Restaurant 2\",\"Dr. Panda Supermarket\",\"Ability DS UNO\",\"Deep Sleep Battery Saver Pro\",\"PhotoFrame for Synology DS\",\"Real Sheet ∞: Pathfinder + DT\",\"Bloons TD 5\",\"The Secret Daily Teachings\",\"Weather Forecast Pro\",\"Officiel du SCRABBLE LAROUSSE\",\"RETRO Shocked DW-6000\",\"PORTABLE SOCCER DX\",\"Chronolink DX\",\"Bubble Shooter DX AdFree\",\"Santa's Monster Shootout DX\",\"DX Glow - Clock Widget\",\"iCluster - The DX-Cluster database\",\"Unstoppaball DX\",\"DZ Puzzle\",\"amm dz\",\"Dz kayas\",\"Schlaumeier\",\"RPG ブレイジング ソウルズ アクセレイト\",\"Electrician Calculator Pro\",\"EC music dictionary\",\"Inventory & Barcode scanner & WIFI scanner\",\"Vital Tones EI Pro\",\"Monastery of El Escorial\",\"Trazado de tuberia El Tubero\",\"EM Launcher Pro\",\"Poker Equity Calculator Pro for No Limit Hold'em\",\"O Céu e o Inferno\",\"EP Calipers\",\"EP Coding\",\"EP Cook Book\",\"Lean EQ\",\"EU Flags Live Wallpaper\",\"Eu sou Rico\",\"EU RCD Guide\",\"Eu Sou Rico\",\"IF YOU TO EU PEGO\",\"Advanced EX for HYUNDAI\",\"Remote EX for NISSAN\",\"Advanced EX for MITSUBISHI\",\"Advanced EX for KIA\",\"Advanced EX for NISSAN\",\"Advanced EX for FIAT\",\"Advanced EX for RENAULT\",\"EX File Explorer File Manage Pro\",\"An Elite Warrior Ex\",\"GO Contacts EX Black & Grey\",\"ExDialer PRO Key\",\"Organizer\",\"Galaxian(FC)\",\"FiSwitch\",\"Smart Wi-Fi Hotspot PRO\",\"Police Field Interview FI Card\",\"WiFi Monitor Pro - analyzer of Wi-Fi networks\",\"FJ Toolkit\",\"Ray Financial Calculator Pro\",\"FL SW Fishing Regulations\",\"FL Racing Manager 2015 Pro\",\"FL Racing Manager 2018 Pro\",\"Circle Colors Pack-FN Theme\",\"FO Bixby\",\"Mu.F.O.\",\"FP VoiceBot\",\"Trine 2: Complete Story\",\"sugar, sugar\",\"Word Search Tab 1 FR\"],\"xaxis\":\"x\",\"y\":[74.5,399.0,3990.0,5990.0,299000.0,14950.000000000002,3990.0,99.0,99.0,990.0,14950.000000000002,29900.000000000004,39900.0,199500.0,29900.000000000004,39900.0,199500.0,79990.0,3990.0,299.0,19950.0,500.0,29900.000000000004,1299.0,4990.0,1495.0,74950.0,5990.0,10990.0,2499.0,29900.000000000004,1500.0,299.0,1990.0,3990.0,749.5,39900.0,29990.0,495.0,4950.0,79990.0,74950.0,29990.0,1299.0,2499.0,2.99,49.5,0.99,299000.0,9900.0,449000.0,199.0,149.0,9950.0,39900.0,1700.0,99000.0,49900.0,29.900000000000002,199.95000000000002,20.0,745.0,24950.0,1700.0,1490.0,299.0,388.0,74950.0,259.9,745.0,599.0,9950.0,1995.0,39999.0,19.9,995.0,1990.0,5990.0,4990.0,2490.0,2490.0,19900.0,24900.000000000004,34950.0,745.0,149.0,9900.0,0.0,149.0,149.0,99.0,7450.0,88.0,4840.0,499000.0,99.0,4990.0,1990.0,249.00000000000003,499000.0,29950.0,49900.0,9900.0,19950.0,49500.0,995.0,990.0,19900.0,4950.0,149000.0,19900.0,149500.0,199.89999999999998,4950.0,649.0,29900.000000000004,9.9,19990.0,500.0,0.99,9950.0,1245.0,99500.0,99.0,49.5,9.9,49.5,9.9,9.9,39999000.0,3999900.0,19999500.0,379990.0,399990.0,1999950.0,37990.0,189899.99999999997,1999950.0,399990.0,3899900.0,1999950.0,12450.000000000002,299000.0,2990.0,2990.0,999.0,499.0,49.900000000000006,0.0,299.9,5990000.0,99500.0,1495000.0,2990000.0,299000.0,299000.0,299000.0,14950.000000000002,1990.0,199.0,9.9,0.99,1.99,0.99,9.95,149.0,29.900000000000002,0.0,14950.000000000002,3990.0,99.0,87.5,14.9,74.5,990.0,4950.0,14.9,999000.0,79900.0,399.0,0.99,9.9,19900.0,242.49999999999997,4.95,149.9,2990.0,990.0,990.0,2490.0,469.90000000000003,990.0,2490.0,2990.0,449000.0,74.5,3080.0,44.95,299000.0,149000.0,990.0,29900.000000000004,499.0,4990.0,990.0,499.0,99.0,99.0,495.0,495.0,149.0,990.0,29900.000000000004,100.0,3.99,1490.0,990.0,990.0,199.5,19.9,19.6,29900.000000000004,9.9,6990000.0,9.9,199.89999999999998,9.9,99.0,299.0,495.0,349.0,995000.0,9.9,449.0,999.0,49.5,999.0,699.0,124500.00000000001,4990.0,24950.0,99.0,29900.000000000004,2.49,49900.0,495.0,34.900000000000006,30.4,29.900000000000002,29.900000000000002,399.0,99.0,449.5,1990.0,4.95,29.900000000000002,8490.0,29900.000000000004,1495.0,149500.0,199000.0,199500.0,499.0,4990.0,39900.0,149500.0,299000.0,149500.0,130.0,32800.0,49.900000000000006,149.5,2990000.0,4990.0,399000.0,23000.0,149.0,5000.0,9.9,149.5,99.5,49.5,9.9,74.5,9.9,5.99,28.99,4.95,10990.0,14990.0,995.0,74500.0,499.5,1990.0,19700.0,3990.0,4950.0,495.0,99.0,49.5,0.0,899.9,9900.0,0.0,36.1,0.0,126.0,24950.0,7450.0,4990.0,24950.0,24950.0,24950.0,24950.0,99.5,99.0,495.0,399000.0,149500.0,199.0,19900.0,29900.000000000004,7990.0,2990.0,149.0,29900.000000000004,1990.0,4950.0,9950.0,49.5,99.0,0.99,99.0,169899.99999999997,12000.0,52.0],\"yaxis\":\"y\",\"type\":\"bar\"}],                        {\"template\":{\"data\":{\"histogram2dcontour\":[{\"type\":\"histogram2dcontour\",\"colorbar\":{\"outlinewidth\":0,\"ticks\":\"\"},\"colorscale\":[[0.0,\"#0d0887\"],[0.1111111111111111,\"#46039f\"],[0.2222222222222222,\"#7201a8\"],[0.3333333333333333,\"#9c179e\"],[0.4444444444444444,\"#bd3786\"],[0.5555555555555556,\"#d8576b\"],[0.6666666666666666,\"#ed7953\"],[0.7777777777777778,\"#fb9f3a\"],[0.8888888888888888,\"#fdca26\"],[1.0,\"#f0f921\"]]}],\"choropleth\":[{\"type\":\"choropleth\",\"colorbar\":{\"outlinewidth\":0,\"ticks\":\"\"}}],\"histogram2d\":[{\"type\":\"histogram2d\",\"colorbar\":{\"outlinewidth\":0,\"ticks\":\"\"},\"colorscale\":[[0.0,\"#0d0887\"],[0.1111111111111111,\"#46039f\"],[0.2222222222222222,\"#7201a8\"],[0.3333333333333333,\"#9c179e\"],[0.4444444444444444,\"#bd3786\"],[0.5555555555555556,\"#d8576b\"],[0.6666666666666666,\"#ed7953\"],[0.7777777777777778,\"#fb9f3a\"],[0.8888888888888888,\"#fdca26\"],[1.0,\"#f0f921\"]]}],\"heatmap\":[{\"type\":\"heatmap\",\"colorbar\":{\"outlinewidth\":0,\"ticks\":\"\"},\"colorscale\":[[0.0,\"#0d0887\"],[0.1111111111111111,\"#46039f\"],[0.2222222222222222,\"#7201a8\"],[0.3333333333333333,\"#9c179e\"],[0.4444444444444444,\"#bd3786\"],[0.5555555555555556,\"#d8576b\"],[0.6666666666666666,\"#ed7953\"],[0.7777777777777778,\"#fb9f3a\"],[0.8888888888888888,\"#fdca26\"],[1.0,\"#f0f921\"]]}],\"heatmapgl\":[{\"type\":\"heatmapgl\",\"colorbar\":{\"outlinewidth\":0,\"ticks\":\"\"},\"colorscale\":[[0.0,\"#0d0887\"],[0.1111111111111111,\"#46039f\"],[0.2222222222222222,\"#7201a8\"],[0.3333333333333333,\"#9c179e\"],[0.4444444444444444,\"#bd3786\"],[0.5555555555555556,\"#d8576b\"],[0.6666666666666666,\"#ed7953\"],[0.7777777777777778,\"#fb9f3a\"],[0.8888888888888888,\"#fdca26\"],[1.0,\"#f0f921\"]]}],\"contourcarpet\":[{\"type\":\"contourcarpet\",\"colorbar\":{\"outlinewidth\":0,\"ticks\":\"\"}}],\"contour\":[{\"type\":\"contour\",\"colorbar\":{\"outlinewidth\":0,\"ticks\":\"\"},\"colorscale\":[[0.0,\"#0d0887\"],[0.1111111111111111,\"#46039f\"],[0.2222222222222222,\"#7201a8\"],[0.3333333333333333,\"#9c179e\"],[0.4444444444444444,\"#bd3786\"],[0.5555555555555556,\"#d8576b\"],[0.6666666666666666,\"#ed7953\"],[0.7777777777777778,\"#fb9f3a\"],[0.8888888888888888,\"#fdca26\"],[1.0,\"#f0f921\"]]}],\"surface\":[{\"type\":\"surface\",\"colorbar\":{\"outlinewidth\":0,\"ticks\":\"\"},\"colorscale\":[[0.0,\"#0d0887\"],[0.1111111111111111,\"#46039f\"],[0.2222222222222222,\"#7201a8\"],[0.3333333333333333,\"#9c179e\"],[0.4444444444444444,\"#bd3786\"],[0.5555555555555556,\"#d8576b\"],[0.6666666666666666,\"#ed7953\"],[0.7777777777777778,\"#fb9f3a\"],[0.8888888888888888,\"#fdca26\"],[1.0,\"#f0f921\"]]}],\"mesh3d\":[{\"type\":\"mesh3d\",\"colorbar\":{\"outlinewidth\":0,\"ticks\":\"\"}}],\"scatter\":[{\"fillpattern\":{\"fillmode\":\"overlay\",\"size\":10,\"solidity\":0.2},\"type\":\"scatter\"}],\"parcoords\":[{\"type\":\"parcoords\",\"line\":{\"colorbar\":{\"outlinewidth\":0,\"ticks\":\"\"}}}],\"scatterpolargl\":[{\"type\":\"scatterpolargl\",\"marker\":{\"colorbar\":{\"outlinewidth\":0,\"ticks\":\"\"}}}],\"bar\":[{\"error_x\":{\"color\":\"#2a3f5f\"},\"error_y\":{\"color\":\"#2a3f5f\"},\"marker\":{\"line\":{\"color\":\"#E5ECF6\",\"width\":0.5},\"pattern\":{\"fillmode\":\"overlay\",\"size\":10,\"solidity\":0.2}},\"type\":\"bar\"}],\"scattergeo\":[{\"type\":\"scattergeo\",\"marker\":{\"colorbar\":{\"outlinewidth\":0,\"ticks\":\"\"}}}],\"scatterpolar\":[{\"type\":\"scatterpolar\",\"marker\":{\"colorbar\":{\"outlinewidth\":0,\"ticks\":\"\"}}}],\"histogram\":[{\"marker\":{\"pattern\":{\"fillmode\":\"overlay\",\"size\":10,\"solidity\":0.2}},\"type\":\"histogram\"}],\"scattergl\":[{\"type\":\"scattergl\",\"marker\":{\"colorbar\":{\"outlinewidth\":0,\"ticks\":\"\"}}}],\"scatter3d\":[{\"type\":\"scatter3d\",\"line\":{\"colorbar\":{\"outlinewidth\":0,\"ticks\":\"\"}},\"marker\":{\"colorbar\":{\"outlinewidth\":0,\"ticks\":\"\"}}}],\"scattermapbox\":[{\"type\":\"scattermapbox\",\"marker\":{\"colorbar\":{\"outlinewidth\":0,\"ticks\":\"\"}}}],\"scatterternary\":[{\"type\":\"scatterternary\",\"marker\":{\"colorbar\":{\"outlinewidth\":0,\"ticks\":\"\"}}}],\"scattercarpet\":[{\"type\":\"scattercarpet\",\"marker\":{\"colorbar\":{\"outlinewidth\":0,\"ticks\":\"\"}}}],\"carpet\":[{\"aaxis\":{\"endlinecolor\":\"#2a3f5f\",\"gridcolor\":\"white\",\"linecolor\":\"white\",\"minorgridcolor\":\"white\",\"startlinecolor\":\"#2a3f5f\"},\"baxis\":{\"endlinecolor\":\"#2a3f5f\",\"gridcolor\":\"white\",\"linecolor\":\"white\",\"minorgridcolor\":\"white\",\"startlinecolor\":\"#2a3f5f\"},\"type\":\"carpet\"}],\"table\":[{\"cells\":{\"fill\":{\"color\":\"#EBF0F8\"},\"line\":{\"color\":\"white\"}},\"header\":{\"fill\":{\"color\":\"#C8D4E3\"},\"line\":{\"color\":\"white\"}},\"type\":\"table\"}],\"barpolar\":[{\"marker\":{\"line\":{\"color\":\"#E5ECF6\",\"width\":0.5},\"pattern\":{\"fillmode\":\"overlay\",\"size\":10,\"solidity\":0.2}},\"type\":\"barpolar\"}],\"pie\":[{\"automargin\":true,\"type\":\"pie\"}]},\"layout\":{\"autotypenumbers\":\"strict\",\"colorway\":[\"#636efa\",\"#EF553B\",\"#00cc96\",\"#ab63fa\",\"#FFA15A\",\"#19d3f3\",\"#FF6692\",\"#B6E880\",\"#FF97FF\",\"#FECB52\"],\"font\":{\"color\":\"#2a3f5f\"},\"hovermode\":\"closest\",\"hoverlabel\":{\"align\":\"left\"},\"paper_bgcolor\":\"white\",\"plot_bgcolor\":\"#E5ECF6\",\"polar\":{\"bgcolor\":\"#E5ECF6\",\"angularaxis\":{\"gridcolor\":\"white\",\"linecolor\":\"white\",\"ticks\":\"\"},\"radialaxis\":{\"gridcolor\":\"white\",\"linecolor\":\"white\",\"ticks\":\"\"}},\"ternary\":{\"bgcolor\":\"#E5ECF6\",\"aaxis\":{\"gridcolor\":\"white\",\"linecolor\":\"white\",\"ticks\":\"\"},\"baxis\":{\"gridcolor\":\"white\",\"linecolor\":\"white\",\"ticks\":\"\"},\"caxis\":{\"gridcolor\":\"white\",\"linecolor\":\"white\",\"ticks\":\"\"}},\"coloraxis\":{\"colorbar\":{\"outlinewidth\":0,\"ticks\":\"\"}},\"colorscale\":{\"sequential\":[[0.0,\"#0d0887\"],[0.1111111111111111,\"#46039f\"],[0.2222222222222222,\"#7201a8\"],[0.3333333333333333,\"#9c179e\"],[0.4444444444444444,\"#bd3786\"],[0.5555555555555556,\"#d8576b\"],[0.6666666666666666,\"#ed7953\"],[0.7777777777777778,\"#fb9f3a\"],[0.8888888888888888,\"#fdca26\"],[1.0,\"#f0f921\"]],\"sequentialminus\":[[0.0,\"#0d0887\"],[0.1111111111111111,\"#46039f\"],[0.2222222222222222,\"#7201a8\"],[0.3333333333333333,\"#9c179e\"],[0.4444444444444444,\"#bd3786\"],[0.5555555555555556,\"#d8576b\"],[0.6666666666666666,\"#ed7953\"],[0.7777777777777778,\"#fb9f3a\"],[0.8888888888888888,\"#fdca26\"],[1.0,\"#f0f921\"]],\"diverging\":[[0,\"#8e0152\"],[0.1,\"#c51b7d\"],[0.2,\"#de77ae\"],[0.3,\"#f1b6da\"],[0.4,\"#fde0ef\"],[0.5,\"#f7f7f7\"],[0.6,\"#e6f5d0\"],[0.7,\"#b8e186\"],[0.8,\"#7fbc41\"],[0.9,\"#4d9221\"],[1,\"#276419\"]]},\"xaxis\":{\"gridcolor\":\"white\",\"linecolor\":\"white\",\"ticks\":\"\",\"title\":{\"standoff\":15},\"zerolinecolor\":\"white\",\"automargin\":true,\"zerolinewidth\":2},\"yaxis\":{\"gridcolor\":\"white\",\"linecolor\":\"white\",\"ticks\":\"\",\"title\":{\"standoff\":15},\"zerolinecolor\":\"white\",\"automargin\":true,\"zerolinewidth\":2},\"scene\":{\"xaxis\":{\"backgroundcolor\":\"#E5ECF6\",\"gridcolor\":\"white\",\"linecolor\":\"white\",\"showbackground\":true,\"ticks\":\"\",\"zerolinecolor\":\"white\",\"gridwidth\":2},\"yaxis\":{\"backgroundcolor\":\"#E5ECF6\",\"gridcolor\":\"white\",\"linecolor\":\"white\",\"showbackground\":true,\"ticks\":\"\",\"zerolinecolor\":\"white\",\"gridwidth\":2},\"zaxis\":{\"backgroundcolor\":\"#E5ECF6\",\"gridcolor\":\"white\",\"linecolor\":\"white\",\"showbackground\":true,\"ticks\":\"\",\"zerolinecolor\":\"white\",\"gridwidth\":2}},\"shapedefaults\":{\"line\":{\"color\":\"#2a3f5f\"}},\"annotationdefaults\":{\"arrowcolor\":\"#2a3f5f\",\"arrowhead\":0,\"arrowwidth\":1},\"geo\":{\"bgcolor\":\"white\",\"landcolor\":\"#E5ECF6\",\"subunitcolor\":\"white\",\"showland\":true,\"showlakes\":true,\"lakecolor\":\"white\"},\"title\":{\"x\":0.05},\"mapbox\":{\"style\":\"light\"}}},\"xaxis\":{\"anchor\":\"y\",\"domain\":[0.0,1.0],\"title\":{\"text\":\"App\"}},\"yaxis\":{\"anchor\":\"x\",\"domain\":[0.0,1.0],\"title\":{\"text\":\"Revenue\"}},\"legend\":{\"tracegroupgap\":0},\"margin\":{\"t\":60},\"barmode\":\"relative\"},                        {\"responsive\": true}                    ).then(function(){\n",
              "                            \n",
              "var gd = document.getElementById('5fa5bfbf-7c8b-4692-a7e1-d1bd3c940b7c');\n",
              "var x = new MutationObserver(function (mutations, observer) {{\n",
              "        var display = window.getComputedStyle(gd).display;\n",
              "        if (!display || display === 'none') {{\n",
              "            console.log([gd, 'removed!']);\n",
              "            Plotly.purge(gd);\n",
              "            observer.disconnect();\n",
              "        }}\n",
              "}});\n",
              "\n",
              "// Listen for the removal of the full notebook cells\n",
              "var notebookContainer = gd.closest('#notebook-container');\n",
              "if (notebookContainer) {{\n",
              "    x.observe(notebookContainer, {childList: true});\n",
              "}}\n",
              "\n",
              "// Listen for the clearing of the current output cell\n",
              "var outputEl = gd.closest('.output');\n",
              "if (outputEl) {{\n",
              "    x.observe(outputEl, {childList: true});\n",
              "}}\n",
              "\n",
              "                        })                };                            </script>        </div>\n",
              "</body>\n",
              "</html>"
            ]
          },
          "metadata": {}
        }
      ]
    },
    {
      "cell_type": "code",
      "source": [
        "# All details of most Revenue generating Application in Paid Application Type\n",
        "top_app = paid_apps.loc[paid_apps['Revenue'].idxmax()]\n",
        "print(top_app)"
      ],
      "metadata": {
        "colab": {
          "base_uri": "https://localhost:8080/"
        },
        "id": "4grzzXTGfTlS",
        "outputId": "f3595229-e869-4560-c271-5b5bff0b9319"
      },
      "execution_count": 162,
      "outputs": [
        {
          "output_type": "stream",
          "name": "stdout",
          "text": [
            "App                         I am rich\n",
            "Category                    LIFESTYLE\n",
            "Rating                            3.8\n",
            "Reviews                          3547\n",
            "Size                              1.8\n",
            "Installs                       100000\n",
            "Type                             Paid\n",
            "Price                          399.99\n",
            "Content_Rating               Everyone\n",
            "Genres                      Lifestyle\n",
            "Last_Updated      2018-01-12 00:00:00\n",
            "Current_Ver                       2.0\n",
            "Android_Ver                       4.0\n",
            "Revenue                    39999000.0\n",
            "Name: 5351, dtype: object\n"
          ]
        }
      ]
    },
    {
      "cell_type": "markdown",
      "source": [
        "####We can see Pricing significantly impacts app installs and revenue. Here's a breakdown:\n",
        "\n",
        "**App Installs:**\n",
        "\n",
        "1. Free apps: Attract more downloads, but may generate less revenue.\n",
        "2. Paid apps: Fewer downloads, but potentially higher revenue per user.\n",
        "\n",
        "**Revenue:**\n",
        "\n",
        "1. Paid apps: Direct revenue from sales.\n",
        "2. In-app purchases: Additional revenue from free apps.\n",
        "\n",
        "**Pricing Strategies:**\n",
        "\n",
        "1. Penetration pricing: Low initial price to attract users.\n",
        "2. Skimming: High initial price to maximize revenue."
      ],
      "metadata": {
        "id": "9jXqXSqfzm4o"
      }
    },
    {
      "cell_type": "markdown",
      "source": [
        "####Bar plot for the Category and App column"
      ],
      "metadata": {
        "id": "SJ31vvARuH_E"
      }
    },
    {
      "cell_type": "code",
      "source": [
        "df.groupby('Category')['App'].count().plot(kind='bar')\n",
        "plt.title('App Count by Category')\n",
        "plt.xlabel('Category')\n",
        "plt.ylabel('App Count')\n",
        "plt.show()\n"
      ],
      "metadata": {
        "colab": {
          "base_uri": "https://localhost:8080/",
          "height": 683
        },
        "id": "Me2l0TpVtLmg",
        "outputId": "30baf959-ef13-4faf-f92c-8a500e6142c1"
      },
      "execution_count": 163,
      "outputs": [
        {
          "output_type": "display_data",
          "data": {
            "text/plain": [
              "<Figure size 1000x600 with 1 Axes>"
            ],
            "image/png": "[encoded data removed]"
          },
          "metadata": {}
        }
      ]
    },
    {
      "cell_type": "markdown",
      "source": [
        "####We can see that there are more applications in the 'Family' category, so we can say:\n",
        "\n",
        "1. Family-oriented apps are popular, indicating users prefer apps related to family.\n",
        "\n",
        "2. There's a demand for family apps in the market, and users are downloading them.\n",
        "\n",
        "3. Family apps have a significant market share.\n",
        "\n",
        "4. Users want to spend time with their family, and apps are useful for this purpose.\n",
        "\n",
        "5. Popular family apps also generate significant revenue.\n",
        "\n",
        "####Considering these insights, we can apply the following strategies:\n",
        "\n",
        "1. Focus on developing family apps.\n",
        "\n",
        "2. Improve existing family apps.\n",
        "\n",
        "3. Run marketing campaigns for family apps.\n",
        "\n",
        "4. Offer subscription-based models for family apps.\n",
        "\n",
        "These strategies can help establish our business in the family apps market.\n",
        "\n"
      ],
      "metadata": {
        "id": "ErLF9JYBuTpQ"
      }
    },
    {
      "cell_type": "code",
      "source": [
        "# Function to filter a DataFrame to select Paid Family apps and reset the index.\n",
        "\n",
        "def filter_paid_family_apps(input_df):\n",
        "\n",
        "    # Filter the DataFrame for Paid Family apps and reset the index\n",
        "    filtered_df = input_df[(input_df['Type'] == 'Paid') & (input_df['Category'] == 'FAMILY')].reset_index(drop=True)\n",
        "\n",
        "    return filtered_df\n",
        "\n",
        "# Call the function and store the result in a variable\n",
        "family_paid_popular_apps_df = filter_paid_family_apps(cleaned_data_df)\n",
        "\n",
        "# Display the first few rows of the filtered DataFrame\n",
        "family_paid_popular_apps_df.head()"
      ],
      "metadata": {
        "colab": {
          "base_uri": "https://localhost:8080/",
          "height": 258
        },
        "id": "KP15tkNsOXdI",
        "outputId": "782197cb-d83b-476b-a8a6-1fdac0c61eb2"
      },
      "execution_count": 164,
      "outputs": [
        {
          "output_type": "execute_result",
          "data": {
            "text/plain": [
              "                           App Category  Rating  Reviews  Size  Installs  \\\n",
              "0           Toca Mystery House   FAMILY     4.2       96  79.0      5000   \n",
              "1  My Little Princess : Stores   FAMILY     4.3      169  60.0      5000   \n",
              "2           Sago Mini Big City   FAMILY     4.2        8  44.0      1000   \n",
              "3           Pinkalicious Party   FAMILY     3.0        2  82.0       500   \n",
              "4                Toca Builders   FAMILY     4.2     3328  15.0    100000   \n",
              "\n",
              "   Type  Price Content_Rating       Genres Last_Updated  Current_Ver  \\\n",
              "0  Paid   3.99       Everyone  Educational   2018-06-14          NaN   \n",
              "1  Paid   2.99       Everyone  Educational   2018-05-25         1.08   \n",
              "2  Paid   3.99       Everyone    Education   2018-07-09         1.10   \n",
              "3  Paid   2.99       Everyone  Educational   2018-06-25          NaN   \n",
              "4  Paid   3.99       Everyone    Education   2017-07-13          NaN   \n",
              "\n",
              "          Android_Ver  \n",
              "0          4.4 and up  \n",
              "1          4.1 and up  \n",
              "2          4.4 and up  \n",
              "3          4.1 and up  \n",
              "4  Varies with device  "
            ],
            "text/html": [
              "\n",
              "  <div id=\"df-9b904d5a-9824-41ba-911d-93a569272fa7\" class=\"colab-df-container\">\n",
              "    <div>\n",
              "<style scoped>\n",
              "    .dataframe tbody tr th:only-of-type {\n",
              "        vertical-align: middle;\n",
              "    }\n",
              "\n",
              "    .dataframe tbody tr th {\n",
              "        vertical-align: top;\n",
              "    }\n",
              "\n",
              "    .dataframe thead th {\n",
              "        text-align: right;\n",
              "    }\n",
              "</style>\n",
              "<table border=\"1\" class=\"dataframe\">\n",
              "  <thead>\n",
              "    <tr style=\"text-align: right;\">\n",
              "      <th></th>\n",
              "      <th>App</th>\n",
              "      <th>Category</th>\n",
              "      <th>Rating</th>\n",
              "      <th>Reviews</th>\n",
              "      <th>Size</th>\n",
              "      <th>Installs</th>\n",
              "      <th>Type</th>\n",
              "      <th>Price</th>\n",
              "      <th>Content_Rating</th>\n",
              "      <th>Genres</th>\n",
              "      <th>Last_Updated</th>\n",
              "      <th>Current_Ver</th>\n",
              "      <th>Android_Ver</th>\n",
              "    </tr>\n",
              "  </thead>\n",
              "  <tbody>\n",
              "    <tr>\n",
              "      <th>0</th>\n",
              "      <td>Toca Mystery House</td>\n",
              "      <td>FAMILY</td>\n",
              "      <td>4.2</td>\n",
              "      <td>96</td>\n",
              "      <td>79.0</td>\n",
              "      <td>5000</td>\n",
              "      <td>Paid</td>\n",
              "      <td>3.99</td>\n",
              "      <td>Everyone</td>\n",
              "      <td>Educational</td>\n",
              "      <td>2018-06-14</td>\n",
              "      <td>NaN</td>\n",
              "      <td>4.4 and up</td>\n",
              "    </tr>\n",
              "    <tr>\n",
              "      <th>1</th>\n",
              "      <td>My Little Princess : Stores</td>\n",
              "      <td>FAMILY</td>\n",
              "      <td>4.3</td>\n",
              "      <td>169</td>\n",
              "      <td>60.0</td>\n",
              "      <td>5000</td>\n",
              "      <td>Paid</td>\n",
              "      <td>2.99</td>\n",
              "      <td>Everyone</td>\n",
              "      <td>Educational</td>\n",
              "      <td>2018-05-25</td>\n",
              "      <td>1.08</td>\n",
              "      <td>4.1 and up</td>\n",
              "    </tr>\n",
              "    <tr>\n",
              "      <th>2</th>\n",
              "      <td>Sago Mini Big City</td>\n",
              "      <td>FAMILY</td>\n",
              "      <td>4.2</td>\n",
              "      <td>8</td>\n",
              "      <td>44.0</td>\n",
              "      <td>1000</td>\n",
              "      <td>Paid</td>\n",
              "      <td>3.99</td>\n",
              "      <td>Everyone</td>\n",
              "      <td>Education</td>\n",
              "      <td>2018-07-09</td>\n",
              "      <td>1.10</td>\n",
              "      <td>4.4 and up</td>\n",
              "    </tr>\n",
              "    <tr>\n",
              "      <th>3</th>\n",
              "      <td>Pinkalicious Party</td>\n",
              "      <td>FAMILY</td>\n",
              "      <td>3.0</td>\n",
              "      <td>2</td>\n",
              "      <td>82.0</td>\n",
              "      <td>500</td>\n",
              "      <td>Paid</td>\n",
              "      <td>2.99</td>\n",
              "      <td>Everyone</td>\n",
              "      <td>Educational</td>\n",
              "      <td>2018-06-25</td>\n",
              "      <td>NaN</td>\n",
              "      <td>4.1 and up</td>\n",
              "    </tr>\n",
              "    <tr>\n",
              "      <th>4</th>\n",
              "      <td>Toca Builders</td>\n",
              "      <td>FAMILY</td>\n",
              "      <td>4.2</td>\n",
              "      <td>3328</td>\n",
              "      <td>15.0</td>\n",
              "      <td>100000</td>\n",
              "      <td>Paid</td>\n",
              "      <td>3.99</td>\n",
              "      <td>Everyone</td>\n",
              "      <td>Education</td>\n",
              "      <td>2017-07-13</td>\n",
              "      <td>NaN</td>\n",
              "      <td>Varies with device</td>\n",
              "    </tr>\n",
              "  </tbody>\n",
              "</table>\n",
              "</div>\n",
              "    <div class=\"colab-df-buttons\">\n",
              "\n",
              "  <div class=\"colab-df-container\">\n",
              "    <button class=\"colab-df-convert\" onclick=\"convertToInteractive('df-9b904d5a-9824-41ba-911d-93a569272fa7')\"\n",
              "            title=\"Convert this dataframe to an interactive table.\"\n",
              "            style=\"display:none;\">\n",
              "\n",
              "  <svg xmlns=\"http://www.w3.org/2000/svg\" height=\"24px\" viewBox=\"0 -960 960 960\">\n",
              "    <path d=\"M120-120v-720h720v720H120Zm60-500h600v-160H180v160Zm220 220h160v-160H400v160Zm0 220h160v-160H400v160ZM180-400h160v-160H180v160Zm440 0h160v-160H620v160ZM180-180h160v-160H180v160Zm440 0h160v-160H620v160Z\"/>\n",
              "  </svg>\n",
              "    </button>\n",
              "\n",
              "  <style>\n",
              "    .colab-df-container {\n",
              "      display:flex;\n",
              "      gap: 12px;\n",
              "    }\n",
              "\n",
              "    .colab-df-convert {\n",
              "      background-color: #E8F0FE;\n",
              "      border: none;\n",
              "      border-radius: 50%;\n",
              "      cursor: pointer;\n",
              "      display: none;\n",
              "      fill: #1967D2;\n",
              "      height: 32px;\n",
              "      padding: 0 0 0 0;\n",
              "      width: 32px;\n",
              "    }\n",
              "\n",
              "    .colab-df-convert:hover {\n",
              "      background-color: #E2EBFA;\n",
              "      box-shadow: 0px 1px 2px rgba(60, 64, 67, 0.3), 0px 1px 3px 1px rgba(60, 64, 67, 0.15);\n",
              "      fill: #174EA6;\n",
              "    }\n",
              "\n",
              "    .colab-df-buttons div {\n",
              "      margin-bottom: 4px;\n",
              "    }\n",
              "\n",
              "    [theme=dark] .colab-df-convert {\n",
              "      background-color: #3B4455;\n",
              "      fill: #D2E3FC;\n",
              "    }\n",
              "\n",
              "    [theme=dark] .colab-df-convert:hover {\n",
              "      background-color: #434B5C;\n",
              "      box-shadow: 0px 1px 3px 1px rgba(0, 0, 0, 0.15);\n",
              "      filter: drop-shadow(0px 1px 2px rgba(0, 0, 0, 0.3));\n",
              "      fill: #FFFFFF;\n",
              "    }\n",
              "  </style>\n",
              "\n",
              "    <script>\n",
              "      const buttonEl =\n",
              "        document.querySelector('#df-9b904d5a-9824-41ba-911d-93a569272fa7 button.colab-df-convert');\n",
              "      buttonEl.style.display =\n",
              "        google.colab.kernel.accessAllowed ? 'block' : 'none';\n",
              "\n",
              "      async function convertToInteractive(key) {\n",
              "        const element = document.querySelector('#df-9b904d5a-9824-41ba-911d-93a569272fa7');\n",
              "        const dataTable =\n",
              "          await google.colab.kernel.invokeFunction('convertToInteractive',\n",
              "                                                    [key], {});\n",
              "        if (!dataTable) return;\n",
              "\n",
              "        const docLinkHtml = 'Like what you see? Visit the ' +\n",
              "          '<a target=\"_blank\" href=https://colab.research.google.com/notebooks/data_table.ipynb>data table notebook</a>'\n",
              "          + ' to learn more about interactive tables.';\n",
              "        element.innerHTML = '';\n",
              "        dataTable['output_type'] = 'display_data';\n",
              "        await google.colab.output.renderOutput(dataTable, element);\n",
              "        const docLink = document.createElement('div');\n",
              "        docLink.innerHTML = docLinkHtml;\n",
              "        element.appendChild(docLink);\n",
              "      }\n",
              "    </script>\n",
              "  </div>\n",
              "\n",
              "\n",
              "<div id=\"df-93607c42-660a-4061-bb48-df89988f37da\">\n",
              "  <button class=\"colab-df-quickchart\" onclick=\"quickchart('df-93607c42-660a-4061-bb48-df89988f37da')\"\n",
              "            title=\"Suggest charts\"\n",
              "            style=\"display:none;\">\n",
              "\n",
              "<svg xmlns=\"http://www.w3.org/2000/svg\" height=\"24px\"viewBox=\"0 0 24 24\"\n",
              "     width=\"24px\">\n",
              "    <g>\n",
              "        <path d=\"M19 3H5c-1.1 0-2 .9-2 2v14c0 1.1.9 2 2 2h14c1.1 0 2-.9 2-2V5c0-1.1-.9-2-2-2zM9 17H7v-7h2v7zm4 0h-2V7h2v10zm4 0h-2v-4h2v4z\"/>\n",
              "    </g>\n",
              "</svg>\n",
              "  </button>\n",
              "\n",
              "<style>\n",
              "  .colab-df-quickchart {\n",
              "      --bg-color: #E8F0FE;\n",
              "      --fill-color: #1967D2;\n",
              "      --hover-bg-color: #E2EBFA;\n",
              "      --hover-fill-color: #174EA6;\n",
              "      --disabled-fill-color: #AAA;\n",
              "      --disabled-bg-color: #DDD;\n",
              "  }\n",
              "\n",
              "  [theme=dark] .colab-df-quickchart {\n",
              "      --bg-color: #3B4455;\n",
              "      --fill-color: #D2E3FC;\n",
              "      --hover-bg-color: #434B5C;\n",
              "      --hover-fill-color: #FFFFFF;\n",
              "      --disabled-bg-color: #3B4455;\n",
              "      --disabled-fill-color: #666;\n",
              "  }\n",
              "\n",
              "  .colab-df-quickchart {\n",
              "    background-color: var(--bg-color);\n",
              "    border: none;\n",
              "    border-radius: 50%;\n",
              "    cursor: pointer;\n",
              "    display: none;\n",
              "    fill: var(--fill-color);\n",
              "    height: 32px;\n",
              "    padding: 0;\n",
              "    width: 32px;\n",
              "  }\n",
              "\n",
              "  .colab-df-quickchart:hover {\n",
              "    background-color: var(--hover-bg-color);\n",
              "    box-shadow: 0 1px 2px rgba(60, 64, 67, 0.3), 0 1px 3px 1px rgba(60, 64, 67, 0.15);\n",
              "    fill: var(--button-hover-fill-color);\n",
              "  }\n",
              "\n",
              "  .colab-df-quickchart-complete:disabled,\n",
              "  .colab-df-quickchart-complete:disabled:hover {\n",
              "    background-color: var(--disabled-bg-color);\n",
              "    fill: var(--disabled-fill-color);\n",
              "    box-shadow: none;\n",
              "  }\n",
              "\n",
              "  .colab-df-spinner {\n",
              "    border: 2px solid var(--fill-color);\n",
              "    border-color: transparent;\n",
              "    border-bottom-color: var(--fill-color);\n",
              "    animation:\n",
              "      spin 1s steps(1) infinite;\n",
              "  }\n",
              "\n",
              "  @keyframes spin {\n",
              "    0% {\n",
              "      border-color: transparent;\n",
              "      border-bottom-color: var(--fill-color);\n",
              "      border-left-color: var(--fill-color);\n",
              "    }\n",
              "    20% {\n",
              "      border-color: transparent;\n",
              "      border-left-color: var(--fill-color);\n",
              "      border-top-color: var(--fill-color);\n",
              "    }\n",
              "    30% {\n",
              "      border-color: transparent;\n",
              "      border-left-color: var(--fill-color);\n",
              "      border-top-color: var(--fill-color);\n",
              "      border-right-color: var(--fill-color);\n",
              "    }\n",
              "    40% {\n",
              "      border-color: transparent;\n",
              "      border-right-color: var(--fill-color);\n",
              "      border-top-color: var(--fill-color);\n",
              "    }\n",
              "    60% {\n",
              "      border-color: transparent;\n",
              "      border-right-color: var(--fill-color);\n",
              "    }\n",
              "    80% {\n",
              "      border-color: transparent;\n",
              "      border-right-color: var(--fill-color);\n",
              "      border-bottom-color: var(--fill-color);\n",
              "    }\n",
              "    90% {\n",
              "      border-color: transparent;\n",
              "      border-bottom-color: var(--fill-color);\n",
              "    }\n",
              "  }\n",
              "</style>\n",
              "\n",
              "  <script>\n",
              "    async function quickchart(key) {\n",
              "      const quickchartButtonEl =\n",
              "        document.querySelector('#' + key + ' button');\n",
              "      quickchartButtonEl.disabled = true;  // To prevent multiple clicks.\n",
              "      quickchartButtonEl.classList.add('colab-df-spinner');\n",
              "      try {\n",
              "        const charts = await google.colab.kernel.invokeFunction(\n",
              "            'suggestCharts', [key], {});\n",
              "      } catch (error) {\n",
              "        console.error('Error during call to suggestCharts:', error);\n",
              "      }\n",
              "      quickchartButtonEl.classList.remove('colab-df-spinner');\n",
              "      quickchartButtonEl.classList.add('colab-df-quickchart-complete');\n",
              "    }\n",
              "    (() => {\n",
              "      let quickchartButtonEl =\n",
              "        document.querySelector('#df-93607c42-660a-4061-bb48-df89988f37da button');\n",
              "      quickchartButtonEl.style.display =\n",
              "        google.colab.kernel.accessAllowed ? 'block' : 'none';\n",
              "    })();\n",
              "  </script>\n",
              "</div>\n",
              "\n",
              "    </div>\n",
              "  </div>\n"
            ],
            "application/vnd.google.colaboratory.intrinsic+json": {
              "type": "dataframe",
              "variable_name": "family_paid_popular_apps_df",
              "summary": "{\n  \"name\": \"family_paid_popular_apps_df\",\n  \"rows\": 190,\n  \"fields\": [\n    {\n      \"column\": \"App\",\n      \"properties\": {\n        \"dtype\": \"string\",\n        \"num_unique_values\": 184,\n        \"samples\": [\n          \"Chess and Mate\",\n          \"Stand O\\u2019Food\\u00ae (Full)\",\n          \"Dress Up RagazzA13 DX\"\n        ],\n        \"semantic_type\": \"\",\n        \"description\": \"\"\n      }\n    },\n    {\n      \"column\": \"Category\",\n      \"properties\": {\n        \"dtype\": \"category\",\n        \"num_unique_values\": 1,\n        \"samples\": [\n          \"FAMILY\"\n        ],\n        \"semantic_type\": \"\",\n        \"description\": \"\"\n      }\n    },\n    {\n      \"column\": \"Rating\",\n      \"properties\": {\n        \"dtype\": \"number\",\n        \"std\": 0.5255819863677976,\n        \"min\": 1.0,\n        \"max\": 5.0,\n        \"num_unique_values\": 20,\n        \"samples\": [\n          4.2\n        ],\n        \"semantic_type\": \"\",\n        \"description\": \"\"\n      }\n    },\n    {\n      \"column\": \"Reviews\",\n      \"properties\": {\n        \"dtype\": \"number\",\n        \"std\": 243614,\n        \"min\": 0,\n        \"max\": 2376564,\n        \"num_unique_values\": 138,\n        \"samples\": [\n          412\n        ],\n        \"semantic_type\": \"\",\n        \"description\": \"\"\n      }\n    },\n    {\n      \"column\": \"Size\",\n      \"properties\": {\n        \"dtype\": \"number\",\n        \"std\": 120.0347717061451,\n        \"min\": 1.0,\n        \"max\": 1020.0,\n        \"num_unique_values\": 97,\n        \"samples\": [\n          7.9\n        ],\n        \"semantic_type\": \"\",\n        \"description\": \"\"\n      }\n    },\n    {\n      \"column\": \"Installs\",\n      \"properties\": {\n        \"dtype\": \"number\",\n        \"std\": 1032311,\n        \"min\": 0,\n        \"max\": 10000000,\n        \"num_unique_values\": 15,\n        \"samples\": [\n          1000000\n        ],\n        \"semantic_type\": \"\",\n        \"description\": \"\"\n      }\n    },\n    {\n      \"column\": \"Type\",\n      \"properties\": {\n        \"dtype\": \"category\",\n        \"num_unique_values\": 1,\n        \"samples\": [\n          \"Paid\"\n        ],\n        \"semantic_type\": \"\",\n        \"description\": \"\"\n      }\n    },\n    {\n      \"column\": \"Price\",\n      \"properties\": {\n        \"dtype\": \"number\",\n        \"std\": 56.849644498072486,\n        \"min\": 0.99,\n        \"max\": 399.99,\n        \"num_unique_values\": 32,\n        \"samples\": [\n          1.26\n        ],\n        \"semantic_type\": \"\",\n        \"description\": \"\"\n      }\n    },\n    {\n      \"column\": \"Content_Rating\",\n      \"properties\": {\n        \"dtype\": \"category\",\n        \"num_unique_values\": 4,\n        \"samples\": [\n          \"Everyone 10+\"\n        ],\n        \"semantic_type\": \"\",\n        \"description\": \"\"\n      }\n    },\n    {\n      \"column\": \"Genres\",\n      \"properties\": {\n        \"dtype\": \"category\",\n        \"num_unique_values\": 17,\n        \"samples\": [\n          \"Educational\"\n        ],\n        \"semantic_type\": \"\",\n        \"description\": \"\"\n      }\n    },\n    {\n      \"column\": \"Last_Updated\",\n      \"properties\": {\n        \"dtype\": \"date\",\n        \"min\": \"2012-01-12 00:00:00\",\n        \"max\": \"2018-08-04 00:00:00\",\n        \"num_unique_values\": 162,\n        \"samples\": [\n          \"2018-04-16 00:00:00\"\n        ],\n        \"semantic_type\": \"\",\n        \"description\": \"\"\n      }\n    },\n    {\n      \"column\": \"Current_Ver\",\n      \"properties\": {\n        \"dtype\": \"number\",\n        \"std\": 2176130.868909902,\n        \"min\": 1.0,\n        \"max\": 20180609.0,\n        \"num_unique_values\": 34,\n        \"samples\": [\n          3.0\n        ],\n        \"semantic_type\": \"\",\n        \"description\": \"\"\n      }\n    },\n    {\n      \"column\": \"Android_Ver\",\n      \"properties\": {\n        \"dtype\": \"category\",\n        \"num_unique_values\": 19,\n        \"samples\": [\n          \"4.4 and up\"\n        ],\n        \"semantic_type\": \"\",\n        \"description\": \"\"\n      }\n    }\n  ]\n}"
            }
          },
          "metadata": {},
          "execution_count": 164
        }
      ]
    },
    {
      "cell_type": "code",
      "source": [
        "# Filter data for 'Family' category\n",
        "family_df = df[df['Category'] == 'FAMILY']\n",
        "\n",
        "# Get paid and free app counts\n",
        "paid_count = family_df[family_df['Type'] == 'Paid'].shape[0]\n",
        "free_count = family_df[family_df['Type'] == 'Free'].shape[0]\n",
        "\n",
        "# Check if either count is zero\n",
        "if paid_count + free_count == 0:\n",
        "    print(\"No data for 'FAMILY' category.\")\n",
        "else:\n",
        "    # Calculate percentages\n",
        "    paid_percent = (paid_count / (paid_count + free_count)) * 100\n",
        "    free_percent = (free_count / (paid_count + free_count)) * 100\n",
        "\n",
        "    print(f\"Paid apps percentage: {paid_percent}%\")\n",
        "    print(f\"Free apps percentage: {free_percent}%\")\n",
        "\n"
      ],
      "metadata": {
        "colab": {
          "base_uri": "https://localhost:8080/"
        },
        "id": "dH_GZQo6UYP1",
        "outputId": "a283d680-fce0-42cc-f9af-35b82486aac2"
      },
      "execution_count": 165,
      "outputs": [
        {
          "output_type": "stream",
          "name": "stdout",
          "text": [
            "Paid apps percentage: 9.806157354618016%\n",
            "Free apps percentage: 90.19384264538198%\n"
          ]
        }
      ]
    },
    {
      "cell_type": "code",
      "source": [
        "labels = ['Paid', 'Free']\n",
        "sizes = ['9.9', '90.1']\n",
        "mycolors = [\"#f0fff2\", \"b\"]\n",
        "plt.pie(sizes, labels=labels, autopct='%1.1f%%')\n",
        "plt.title('Paid vs Free Apps in Family Category')\n",
        "plt.show()"
      ],
      "metadata": {
        "colab": {
          "base_uri": "https://localhost:8080/",
          "height": 517
        },
        "id": "W7wNttHMZ6kN",
        "outputId": "c8581b36-d347-4137-aa1d-728e17eb611f"
      },
      "execution_count": 166,
      "outputs": [
        {
          "output_type": "display_data",
          "data": {
            "text/plain": [
              "<Figure size 1000x600 with 1 Axes>"
            ],
            "image/png": "[encoded data removed]"
          },
          "metadata": {}
        }
      ]
    },
    {
      "cell_type": "markdown",
      "source": [
        "####Here free app percentages are higher, it indicates:\n",
        "\n",
        "1. Family category users prefer free apps: This shows family category users prefer free apps over paid ones.\n",
        "\n",
        "2. Lower income in family category: High free app percentage suggests lower income in the family category, making paid apps unaffordable.\n",
        "\n",
        "3. Family category users are value-conscious: This indicates family category users prioritize value, seeking similar features in free apps as in paid ones.\n",
        "\n",
        "4. Market demand for free apps: High free app percentage indicates market demand for free apps, prompting developers to create more.\n",
        "\n",
        "5. Review paid apps' pricing strategy: If free apps dominate, reassess paid apps' pricing to ensure users see value.\n",
        "\n",
        "####Considering these insights, adjust business strategies and develop relevant apps catering to family category users' needs.\n"
      ],
      "metadata": {
        "id": "3HZLOkXQY_gR"
      }
    },
    {
      "cell_type": "markdown",
      "source": [
        "####Working on Family Paid Applications"
      ],
      "metadata": {
        "id": "C4OZNHA63Bbt"
      }
    },
    {
      "cell_type": "code",
      "source": [
        "# Filter data for 'Family' category\n",
        "family_df = df[df['Category'] == 'FAMILY']\n",
        "\n",
        "# Get paid app counts\n",
        "paid_count = family_df[family_df['Type'] == 'Paid']\n",
        "top_app_paid_count = paid_count.loc[paid_count['Price'].idxmax()]\n",
        "top_app_paid_count"
      ],
      "metadata": {
        "colab": {
          "base_uri": "https://localhost:8080/",
          "height": 491
        },
        "id": "ymDqifMqp9jz",
        "outputId": "de6f843f-8d90-4ee0-eb33-ebd307a8fda2"
      },
      "execution_count": 167,
      "outputs": [
        {
          "output_type": "execute_result",
          "data": {
            "text/plain": [
              "App               most expensive app (H)\n",
              "Category                          FAMILY\n",
              "Rating                               4.3\n",
              "Reviews                                6\n",
              "Size                                 1.5\n",
              "Installs                             100\n",
              "Type                                Paid\n",
              "Price                             399.99\n",
              "Content_Rating                  Everyone\n",
              "Genres                     Entertainment\n",
              "Last_Updated         2018-07-16 00:00:00\n",
              "Current_Ver                          1.0\n",
              "Android_Ver                          7.0\n",
              "Name: 4197, dtype: object"
            ],
            "text/html": [
              "<div>\n",
              "<style scoped>\n",
              "    .dataframe tbody tr th:only-of-type {\n",
              "        vertical-align: middle;\n",
              "    }\n",
              "\n",
              "    .dataframe tbody tr th {\n",
              "        vertical-align: top;\n",
              "    }\n",
              "\n",
              "    .dataframe thead th {\n",
              "        text-align: right;\n",
              "    }\n",
              "</style>\n",
              "<table border=\"1\" class=\"dataframe\">\n",
              "  <thead>\n",
              "    <tr style=\"text-align: right;\">\n",
              "      <th></th>\n",
              "      <th>4197</th>\n",
              "    </tr>\n",
              "  </thead>\n",
              "  <tbody>\n",
              "    <tr>\n",
              "      <th>App</th>\n",
              "      <td>most expensive app (H)</td>\n",
              "    </tr>\n",
              "    <tr>\n",
              "      <th>Category</th>\n",
              "      <td>FAMILY</td>\n",
              "    </tr>\n",
              "    <tr>\n",
              "      <th>Rating</th>\n",
              "      <td>4.3</td>\n",
              "    </tr>\n",
              "    <tr>\n",
              "      <th>Reviews</th>\n",
              "      <td>6</td>\n",
              "    </tr>\n",
              "    <tr>\n",
              "      <th>Size</th>\n",
              "      <td>1.5</td>\n",
              "    </tr>\n",
              "    <tr>\n",
              "      <th>Installs</th>\n",
              "      <td>100</td>\n",
              "    </tr>\n",
              "    <tr>\n",
              "      <th>Type</th>\n",
              "      <td>Paid</td>\n",
              "    </tr>\n",
              "    <tr>\n",
              "      <th>Price</th>\n",
              "      <td>399.99</td>\n",
              "    </tr>\n",
              "    <tr>\n",
              "      <th>Content_Rating</th>\n",
              "      <td>Everyone</td>\n",
              "    </tr>\n",
              "    <tr>\n",
              "      <th>Genres</th>\n",
              "      <td>Entertainment</td>\n",
              "    </tr>\n",
              "    <tr>\n",
              "      <th>Last_Updated</th>\n",
              "      <td>2018-07-16 00:00:00</td>\n",
              "    </tr>\n",
              "    <tr>\n",
              "      <th>Current_Ver</th>\n",
              "      <td>1.0</td>\n",
              "    </tr>\n",
              "    <tr>\n",
              "      <th>Android_Ver</th>\n",
              "      <td>7.0</td>\n",
              "    </tr>\n",
              "  </tbody>\n",
              "</table>\n",
              "</div><br><label><b>dtype:</b> object</label>"
            ]
          },
          "metadata": {},
          "execution_count": 167
        }
      ]
    },
    {
      "cell_type": "markdown",
      "source": [
        "####Bar plot for the Rating and Reviews column"
      ],
      "metadata": {
        "id": "y1ar3pXQ38IT"
      }
    },
    {
      "cell_type": "code",
      "source": [
        "# Calculating average review count per app\n",
        "avg_review_count = df['Reviews'].mean()\n",
        "avg_review_count"
      ],
      "metadata": {
        "colab": {
          "base_uri": "https://localhost:8080/"
        },
        "id": "eU4m6kAWlwLl",
        "outputId": "878509cc-d115-4945-8c4d-739ea7a291af"
      },
      "execution_count": 168,
      "outputs": [
        {
          "output_type": "execute_result",
          "data": {
            "text/plain": [
              "60781.90690522784"
            ]
          },
          "metadata": {},
          "execution_count": 168
        }
      ]
    },
    {
      "cell_type": "code",
      "source": [
        "df.groupby('Rating')['Reviews'].count().plot(kind='bar', color=['#B2B0EA', '#F9E0A2', '#D2D2D2', '#470000', '#A2D9D9'])\n",
        "plt.title('Rating Count by Reviews')\n",
        "plt.xlabel('Rating')\n",
        "plt.ylabel('Number of Reviews')\n",
        "plt.title('Rating Distribution')\n",
        "plt.show()"
      ],
      "metadata": {
        "colab": {
          "base_uri": "https://localhost:8080/",
          "height": 560
        },
        "id": "B8NZ-EB-z1kV",
        "outputId": "836347a0-4f3d-4ab4-c4b2-ad9178bfd406"
      },
      "execution_count": 169,
      "outputs": [
        {
          "output_type": "display_data",
          "data": {
            "text/plain": [
              "<Figure size 1000x600 with 1 Axes>"
            ],
            "image/png": "[encoded data removed]"
          },
          "metadata": {}
        }
      ]
    },
    {
      "cell_type": "markdown",
      "source": [
        "**We can see that which got a 4.3 Rating have a most of the Reviews. So we can say that :**\n",
        "\n",
        "1. The app's quality is good: A 4.3 rating indicates a high-quality app.\n",
        "\n",
        "2. Users are satisfied with the app: Numerous reviews suggest users are happy with the app.\n",
        "\n",
        "3. The app's popularity is increasing: Positive reviews and ratings boost the app's popularity.\n",
        "\n",
        "4. The app's credibility is growing: Good ratings and reviews enhance the app's credibility.\n",
        "\n",
        "5. There's room for improvement: A 4.3 rating suggests opportunities to enhance the app and meet user expectations.\n",
        "\n",
        "**Considering these insights, we can apply the following strategies:**\n",
        "\n",
        "1. Enhance the app's quality.\n",
        "\n",
        "2. Listen to user feedback and implement suggestions.\n",
        "\n",
        "3. Refine the app's marketing strategy.\n",
        "\n",
        "4. Release regular updates.\n",
        "\n",
        "5. Improve customer support."
      ],
      "metadata": {
        "id": "veC-AgD12keg"
      }
    },
    {
      "cell_type": "markdown",
      "source": [
        "####Box plot for Type and rating column\n",
        "\n",
        "\n",
        "\n",
        "\n"
      ],
      "metadata": {
        "id": "9nZHFrmvFiVw"
      }
    },
    {
      "cell_type": "code",
      "source": [
        "sns.boxplot(x = \"Type\", y = \"Rating\", data = df, palette=\"Set3\")\n",
        "plt.title(\"Content rating with their counts\")\n"
      ],
      "metadata": {
        "id": "j65I-qVKFjdO",
        "colab": {
          "base_uri": "https://localhost:8080/",
          "height": 569
        },
        "outputId": "8a4b2e6e-f2ed-47b7-ab32-f7ac73c1a0c1"
      },
      "execution_count": 170,
      "outputs": [
        {
          "output_type": "execute_result",
          "data": {
            "text/plain": [
              "Text(0.5, 1.0, 'Content rating with their counts')"
            ]
          },
          "metadata": {},
          "execution_count": 170
        },
        {
          "output_type": "display_data",
          "data": {
            "text/plain": [
              "<Figure size 1000x600 with 1 Axes>"
            ],
            "image/png": "[encoded data removed]"
          },
          "metadata": {}
        }
      ]
    },
    {
      "cell_type": "markdown",
      "source": [
        "####The average rating of paid apps is higher, it indicates:\n",
        "\n",
        "1. Paid apps have better quality: This suggests that paid apps offer superior features, performance, and stability.\n",
        "\n",
        "2. Paid apps receive more development effort: Developers invest more time and resources into paid apps, resulting in higher quality.\n",
        "\n",
        "3. Paid apps target a different audience: Paid apps cater to serious users who prioritize quality and reliability.\n",
        "\n",
        "4. Paid apps are ad-free: Paid apps don't display ads, enhancing the user experience.\n",
        "\n",
        "5. Paid apps have a different revenue model: Paid apps generate revenue through subscriptions or one-time payments, providing more income for developers.\n",
        "\n",
        "6. Paid apps have enhanced security: Paid apps incorporate robust security features to protect user data.\n",
        "\n",
        "7. Paid apps offer better support: Paid app developers are more responsive to user queries and provide timely support.\n",
        "\n",
        "####Considering these insights, developers can adjust their app strategies and provide users with a superior experience.\n"
      ],
      "metadata": {
        "id": "7gsXZ2hhlm29"
      }
    },
    {
      "cell_type": "markdown",
      "source": [
        "####Bar plot for the rating column with the number of the categories"
      ],
      "metadata": {
        "id": "tPmI39JxFz3W"
      }
    },
    {
      "cell_type": "code",
      "source": [
        "sns.countplot(y = \"Content_Rating\", data = df, palette=\"Set1\")\n",
        "plt.title(\"Content rating with their counts\")"
      ],
      "metadata": {
        "id": "NoTbqWyuFvVc",
        "colab": {
          "base_uri": "https://localhost:8080/",
          "height": 569
        },
        "outputId": "5a01e912-4839-4092-e075-187398c2ef8e"
      },
      "execution_count": 171,
      "outputs": [
        {
          "output_type": "execute_result",
          "data": {
            "text/plain": [
              "Text(0.5, 1.0, 'Content rating with their counts')"
            ]
          },
          "metadata": {},
          "execution_count": 171
        },
        {
          "output_type": "display_data",
          "data": {
            "text/plain": [
              "<Figure size 1000x600 with 1 Axes>"
            ],
            "image/png": "[encoded data removed]"
          },
          "metadata": {}
        }
      ]
    },
    {
      "cell_type": "markdown",
      "source": [
        "####Here are the insights from the app category distribution:\n",
        "\n",
        "1. High demand for family-friendly content: The \"Everyone\" category has the most apps, indicating strong demand for family-friendly content.\n",
        "\n",
        "2. Developers target family audience: By creating apps in the \"Everyone\" category, developers prioritize family-friendly content.\n",
        "\n",
        "3. Teen audience is significant: The \"Teen\" category has the second-largest number of apps, highlighting the importance of this demographic.\n",
        "\n",
        "4. Limited options for mature audience: Fewer apps in \"Mature\" and \"Adult\" categories suggest limited options for mature users.\n",
        "\n",
        "5. Content diversity is lacking: The dominance of \"Everyone\" apps indicates a lack of diversity in content.\n",
        "\n",
        "6. Family-friendly apps are popular: The popularity of \"Everyone\" apps shows that family-friendly content resonates with users.\n",
        "\n",
        "7. Market trend insight: This data reveals market trends, helping developers understand what content to prioritize.\n",
        "\n",
        "####Considering these insights, developers can adjust their app strategies to better cater to users' preferences.\n"
      ],
      "metadata": {
        "id": "DAkW47L6oPEh"
      }
    },
    {
      "cell_type": "markdown",
      "source": [
        "####How to Compare performance across categories and genres."
      ],
      "metadata": {
        "id": "LrbzREntogHm"
      }
    },
    {
      "cell_type": "markdown",
      "source": [
        "####Comparing Ratings, and Installs across Categories involves analyzing and visualizing data to identify trends and insights. Here's a step-by-step guide:"
      ],
      "metadata": {
        "id": "eSzMrppV15VM"
      }
    },
    {
      "cell_type": "code",
      "source": [
        "# Group by category and calculate average rating\n",
        "avg_rating = df.groupby('Category')['Rating'].mean()\n",
        "# print(avg_rating)\n",
        "\n",
        "# Group by category and calculate total installs\n",
        "total_installs = df.groupby('Category')['Installs'].sum()\n",
        "# print(total_installs)\n"
      ],
      "metadata": {
        "id": "OOKm-Nl9xbze"
      },
      "execution_count": 172,
      "outputs": []
    },
    {
      "cell_type": "code",
      "source": [
        "plt.figure(figsize=(12, 6))  # Increase figure width\n",
        "palette = [\"red\", \"green\", \"blue\", \"yellow\", \"purple\"]\n",
        "sns.barplot(x=avg_rating.index, y=avg_rating.values, palette=palette)\n",
        "plt.title('Average Rating by Category')\n",
        "plt.xticks(rotation=90)  # Rotate x-axis labels\n",
        "plt.tight_layout()  # Ensure labels fit within figure\n",
        "plt.show()\n",
        "\n",
        "\n"
      ],
      "metadata": {
        "colab": {
          "base_uri": "https://localhost:8080/",
          "height": 593
        },
        "id": "OH6_HCIVysXS",
        "outputId": "c81bf7ee-ac48-4660-c810-7cc8b2a5a9cb"
      },
      "execution_count": 173,
      "outputs": [
        {
          "output_type": "display_data",
          "data": {
            "text/plain": [
              "<Figure size 1200x600 with 1 Axes>"
            ],
            "image/png": "[encoded data removed]"
          },
          "metadata": {}
        }
      ]
    },
    {
      "cell_type": "markdown",
      "source": [
        "####With the Category ratings being similar, but 'EVENTS' Category having slightly higher ratings :\n",
        "\n",
        "Insights:\n",
        "\n",
        "\n",
        "*   Consistent Quality: Overall, the app categories have similar ratings, indicating consistent quality across categories.\n",
        "\n",
        "*   Event Category Standout: The 'EVENTS' category has slightly higher ratings, suggesting users find the app particularly useful or enjoyable for event-related purposes.\n",
        "\n",
        "\n",
        "*   Competitive Advantage: The 'EVENTS' Category's higher ratings could indicate a competitive advantage, potentially due to unique features or better user experience.\n",
        "\n"
      ],
      "metadata": {
        "id": "8ydoLKPg3NML"
      }
    },
    {
      "cell_type": "code",
      "source": [
        "genres_counts = df['Genres'].value_counts()\n",
        "genres_counts.plot(kind='bar', color='Green')\n",
        "plt.title('Distribution of Genres')\n",
        "plt.xlabel('Genre')\n",
        "plt.ylabel('Count')\n",
        "plt.xticks(rotation=90)\n",
        "plt.tight_layout()\n",
        "plt.show()"
      ],
      "metadata": {
        "id": "7L9vnSisok9L",
        "colab": {
          "base_uri": "https://localhost:8080/",
          "height": 613
        },
        "outputId": "fa27bf29-fce6-42a8-869f-159318abee7f"
      },
      "execution_count": 174,
      "outputs": [
        {
          "output_type": "display_data",
          "data": {
            "text/plain": [
              "<Figure size 1000x600 with 1 Axes>"
            ],
            "image/png": "[encoded data removed]"
          },
          "metadata": {}
        }
      ]
    },
    {
      "cell_type": "markdown",
      "source": [
        "####This Graph plot tells us:\n",
        "\n",
        "**Genres Distribution Analysis**\n",
        "\n",
        "1. How many genres are there?\n",
        "2. What is the count of each genre?\n",
        "3. Which genres are most popular?\n",
        "\n",
        "**We gain the following insights:**\n",
        "\n",
        "####Key Findings\n",
        "\n",
        "- Top 5 genres: (e.g., Tools, Education, Entertainment, Personalization,Medical)\n",
        "- Most popular genre: (e.g., Tools)\n",
        "- Least popular genre: (e.g., Word)\n",
        "\n",
        "\n",
        "####This means:\n",
        "\n",
        "- Tools is the most popular genre.\n",
        "- Education and Entertainment are also popular.\n",
        "- Word and Card are less popular.\n",
        "\n",
        "####These insights help us to decide:\n",
        "\n",
        "- Which genres to focus on?\n",
        "- What type of content does the audience prefer?\n",
        "- Should we adjust our content strategy?\n"
      ],
      "metadata": {
        "id": "yZScrP2qWgEq"
      }
    },
    {
      "cell_type": "code",
      "source": [
        "genres_reviews = df.groupby('Genres')['Reviews'].mean().sort_values(ascending=False)\n",
        "plt.figure(figsize=(10, 6))\n",
        "genres_reviews.plot(kind='bar', color='purple')\n",
        "plt.title('Average Reviews by Genre')\n",
        "plt.xlabel('Genre')\n",
        "plt.ylabel('Average Reviews')\n",
        "plt.xticks(rotation=90)\n",
        "plt.tight_layout()\n",
        "plt.show()\n",
        "\n"
      ],
      "metadata": {
        "colab": {
          "base_uri": "https://localhost:8080/",
          "height": 613
        },
        "id": "id4qJzpPRmgL",
        "outputId": "3069ad13-0b3e-4d1d-ecbe-1ab38c7ef8e1"
      },
      "execution_count": 175,
      "outputs": [
        {
          "output_type": "display_data",
          "data": {
            "text/plain": [
              "<Figure size 1000x600 with 1 Axes>"
            ],
            "image/png": "[encoded data removed]"
          },
          "metadata": {}
        }
      ]
    },
    {
      "cell_type": "markdown",
      "source": [
        "####This graph tells us:\n",
        "\n",
        "**Relationship between Genres and Reviews**\n",
        "\n",
        "1. Which genres has the most reviews?\n",
        "2. Which genres has the fewest reviews?\n",
        "3. Is there a specific genre with high-quality reviews?\n",
        "4. Is there a correlation between genres and reviews?\n",
        "\n",
        "**Genre-wise Review Analysis**\n",
        "\n",
        "1. What is the average review count for the Strategy genre?\n",
        "2. What is the review quality for the Racing genre?\n",
        "3. How frequently are reviews posted for the Sports genre?\n",
        "\n",
        "**Genre-Review Trends**\n",
        "\n",
        "1. What is the trend in genre-wise reviews over time?\n",
        "2. Is there growth in reviews for a specific genre?\n",
        "\n",
        "**These insights help us decide:**\n",
        "\n",
        "1. Which genres to focus on?\n",
        "2. What type of content does the audience prefer?\n",
        "3. Should we adjust our content strategy?\n",
        "\n",
        "**Key benefits:**\n",
        "\n",
        "1. Identifying popular genres\n",
        "2. Understanding audience preferences\n",
        "3. Optimizing content strategy\n",
        "4. Improving review quality\n"
      ],
      "metadata": {
        "id": "KU6f9CrldJ63"
      }
    },
    {
      "cell_type": "markdown",
      "source": [
        "## **Project Summary -**"
      ],
      "metadata": {
        "id": "BbGOuV4Ww2Hg"
      }
    },
    {
      "cell_type": "markdown",
      "source": [
        "####**Play Store Data Analysis Summary**\n",
        "\n",
        "The Play Store data analysis aimed to uncover insights into the App market, focusing on genres distribution and review patterns. The analysis utilized a dataset containing information on various apps, including genres, reviews, and ratings.\n",
        "\n",
        "####Key Findings:\n",
        "\n",
        "**Genre Distribution:**\n",
        "\n",
        "1. Top 5 genres: Tools, Education, Entertainment, Personalization,Medical.\n",
        "2. Tools are most popular generes.\n",
        "3. Card and Word genres have the fewest apps.\n",
        "\n",
        "**Review Patterns:**\n",
        "\n",
        "1. Average review count: 60781 per app.\n",
        "2. Top-rated genres: Strategy, Racing and Sports.\n",
        "3. Low-rated genres: Card, Word, and Events.\n",
        "\n",
        "**Trends:**\n",
        "\n",
        "1. Growing demand for Family and Education & Games apps.\n",
        "2. Declining interest in card and Word games.\n",
        "3. Increasing competition in the Sport and Lifestyle genre.\n",
        "\n",
        "\n",
        "**Conclusion:**\n",
        "\n",
        "The Play Store data analysis provides valuable insights into the App market. By understanding genre distribution, review patterns, and trends, developers and marketers can:\n",
        "\n",
        "1. Identify opportunities in emerging genres.\n",
        "2. Enhance review quality and ratings.\n",
        "3. Optimize app development and marketing strategies.\n",
        "4. Stay competitive in the market.\n",
        "\n",
        "\n",
        "**Tools Used:**\n",
        "\n",
        "- Python\n",
        "- Pandas\n",
        "- NumPy\n",
        "- Matplotlib\n",
        "- Seaborn\n",
        "- Plotly"
      ],
      "metadata": {
        "id": "T9v9TPZsxL9c"
      }
    }
  ],
  "metadata": {
    "colab": {
      "provenance": [],
      "mount_file_id": "1ICAblHqTWYgQLg4cSeqEMAaWZ6eGTPl5",
      "authorship_tag": "ABX9TyOuKSInmYPXGagyBsVhq9KH",
      "include_colab_link": true
    },
    "kernelspec": {
      "display_name": "Python 3",
      "name": "python3"
    },
    "language_info": {
      "name": "python"
    }
  },
  "nbformat": 4,
  "nbformat_minor": 0
}